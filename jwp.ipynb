{
 "cells": [
  {
   "cell_type": "code",
   "execution_count": 186,
   "metadata": {},
   "outputs": [],
   "source": [
    "import pandas as pd\n",
    "import matplotlib.pyplot as plt\n",
    "import seaborn as sns\n",
    "plt.rcParams['font.family'] = \"Malgun Gothic\""
   ]
  },
  {
   "cell_type": "code",
   "execution_count": 187,
   "metadata": {},
   "outputs": [],
   "source": [
    "from datetime import datetime"
   ]
  },
  {
   "cell_type": "code",
   "execution_count": 284,
   "metadata": {},
   "outputs": [
    {
     "name": "stdout",
     "output_type": "stream",
     "text": [
      "Defaulting to user installation because normal site-packages is not writeable\n",
      "Collecting plotly\n",
      "  Downloading plotly-5.11.0-py2.py3-none-any.whl (15.3 MB)\n",
      "     ---------------------------------------- 15.3/15.3 MB 7.0 MB/s eta 0:00:00\n",
      "Collecting tenacity>=6.2.0\n",
      "  Downloading tenacity-8.1.0-py3-none-any.whl (23 kB)\n",
      "Installing collected packages: tenacity, plotly\n",
      "Successfully installed plotly-5.11.0 tenacity-8.1.0\n"
     ]
    },
    {
     "name": "stderr",
     "output_type": "stream",
     "text": [
      "\n",
      "[notice] A new release of pip available: 22.2.2 -> 22.3\n",
      "[notice] To update, run: python.exe -m pip install --upgrade pip\n"
     ]
    }
   ],
   "source": [
    "import plotly.express as px"
   ]
  },
  {
   "cell_type": "code",
   "execution_count": 188,
   "metadata": {},
   "outputs": [],
   "source": [
    "dt1 = pd.read_csv('log_order.csv')\n",
    "dt2 = pd.read_csv('master_member.csv')\n",
    "dt3 = pd.read_csv('master_product.csv')"
   ]
  },
  {
   "cell_type": "code",
   "execution_count": 189,
   "metadata": {},
   "outputs": [
    {
     "data": {
      "text/plain": [
       "결제수단              0\n",
       "공급원가             88\n",
       "교환구분              0\n",
       "네이버 포인트           0\n",
       "배송번호              0\n",
       "배송비 정보            0\n",
       "배송시작일             0\n",
       "배송완료일             0\n",
       "사용한 적립금액          0\n",
       "상품구매금액            0\n",
       "상품명              88\n",
       "상품번호             88\n",
       "상품별 추가할인금액        0\n",
       "수량                0\n",
       "수령인 주소            8\n",
       "주문 시 회원등급      3105\n",
       "주문경로              0\n",
       "주문번호              0\n",
       "주문일시              0\n",
       "주문자ID          3105\n",
       "카드사           30138\n",
       "쿠폰 할인금액           0\n",
       "판매가               0\n",
       "품목번호              0\n",
       "dtype: int64"
      ]
     },
     "execution_count": 189,
     "metadata": {},
     "output_type": "execute_result"
    }
   ],
   "source": [
    "dt1.isnull().sum()"
   ]
  },
  {
   "cell_type": "code",
   "execution_count": 190,
   "metadata": {},
   "outputs": [
    {
     "data": {
      "text/plain": [
       "array(['무통장입금', '적립금,무통장입금', '적립금', '휴대폰', '적립금,가상계좌', '가상계좌', '예치금',\n",
       "       '예치금,적립금,무통장입금', '쿠폰,무통장입금', '페이나우(실시간 계좌이체)', '예치금,무통장입금',\n",
       "       '실시간계좌이체', '예치금,쿠폰,무통장입금', '카카오페이(카카오머니)', '적립금,카카오페이(카카오머니)',\n",
       "       '쿠폰,예치금', '쿠폰,가상계좌', '적립금,페이나우(실시간 계좌이체)', '에스크로(실시간계좌이체)',\n",
       "       '쿠폰,휴대폰', '적립금,휴대폰', '쿠폰,에스크로(실시간계좌이체)', '무통장입금,휴대폰',\n",
       "       '무통장입금,실시간계좌이체', '예치금,휴대폰', '적립금,실시간계좌이체', '에스크로(가상계좌)',\n",
       "       '예치금,실시간계좌이체'], dtype=object)"
      ]
     },
     "execution_count": 190,
     "metadata": {},
     "output_type": "execute_result"
    }
   ],
   "source": [
    "dt1[dt1['카드사'].isna()]['결제수단'].unique()"
   ]
  },
  {
   "cell_type": "code",
   "execution_count": 191,
   "metadata": {},
   "outputs": [
    {
     "data": {
      "text/html": [
       "<div>\n",
       "<style scoped>\n",
       "    .dataframe tbody tr th:only-of-type {\n",
       "        vertical-align: middle;\n",
       "    }\n",
       "\n",
       "    .dataframe tbody tr th {\n",
       "        vertical-align: top;\n",
       "    }\n",
       "\n",
       "    .dataframe thead th {\n",
       "        text-align: right;\n",
       "    }\n",
       "</style>\n",
       "<table border=\"1\" class=\"dataframe\">\n",
       "  <thead>\n",
       "    <tr style=\"text-align: right;\">\n",
       "      <th></th>\n",
       "      <th>결제수단</th>\n",
       "      <th>공급원가</th>\n",
       "      <th>교환구분</th>\n",
       "      <th>네이버 포인트</th>\n",
       "      <th>배송번호</th>\n",
       "      <th>배송비 정보</th>\n",
       "      <th>배송시작일</th>\n",
       "      <th>배송완료일</th>\n",
       "      <th>사용한 적립금액</th>\n",
       "      <th>상품구매금액</th>\n",
       "      <th>...</th>\n",
       "      <th>수령인 주소</th>\n",
       "      <th>주문 시 회원등급</th>\n",
       "      <th>주문경로</th>\n",
       "      <th>주문번호</th>\n",
       "      <th>주문일시</th>\n",
       "      <th>주문자ID</th>\n",
       "      <th>카드사</th>\n",
       "      <th>쿠폰 할인금액</th>\n",
       "      <th>판매가</th>\n",
       "      <th>품목번호</th>\n",
       "    </tr>\n",
       "  </thead>\n",
       "  <tbody>\n",
       "    <tr>\n",
       "      <th>2815</th>\n",
       "      <td>무통장입금</td>\n",
       "      <td>37400.0</td>\n",
       "      <td>교환안함</td>\n",
       "      <td>0</td>\n",
       "      <td>D-20190128-0000102-00</td>\n",
       "      <td>무료</td>\n",
       "      <td>2019-01-29 오전 8:45</td>\n",
       "      <td>2019-02-02 오전 5:32</td>\n",
       "      <td>0</td>\n",
       "      <td>58410</td>\n",
       "      <td>...</td>\n",
       "      <td>NaN</td>\n",
       "      <td>사업자</td>\n",
       "      <td>PC쇼핑몰</td>\n",
       "      <td>20190128-0000102</td>\n",
       "      <td>2019-01-28 오전 9:03</td>\n",
       "      <td>kang701211</td>\n",
       "      <td>NaN</td>\n",
       "      <td>0</td>\n",
       "      <td>58410</td>\n",
       "      <td>49413</td>\n",
       "    </tr>\n",
       "    <tr>\n",
       "      <th>21847</th>\n",
       "      <td>무통장입금</td>\n",
       "      <td>12650.0</td>\n",
       "      <td>교환안함</td>\n",
       "      <td>0</td>\n",
       "      <td>D-20180514-0000232-00</td>\n",
       "      <td>무료</td>\n",
       "      <td>2018-05-17 오후 1:29</td>\n",
       "      <td>2018-05-21 오전 5:32</td>\n",
       "      <td>0</td>\n",
       "      <td>30840</td>\n",
       "      <td>...</td>\n",
       "      <td>NaN</td>\n",
       "      <td>사업자</td>\n",
       "      <td>모바일웹</td>\n",
       "      <td>20180514-0000232</td>\n",
       "      <td>2018-05-14 오전 11:16</td>\n",
       "      <td>toristar3</td>\n",
       "      <td>NaN</td>\n",
       "      <td>0</td>\n",
       "      <td>30840</td>\n",
       "      <td>9723</td>\n",
       "    </tr>\n",
       "    <tr>\n",
       "      <th>37413</th>\n",
       "      <td>무통장입금</td>\n",
       "      <td>75680.0</td>\n",
       "      <td>교환안함</td>\n",
       "      <td>0</td>\n",
       "      <td>D-20181104-0000028-00</td>\n",
       "      <td>무료</td>\n",
       "      <td>2018-11-06 오후 6:45</td>\n",
       "      <td>2018-11-10 오전 5:32</td>\n",
       "      <td>0</td>\n",
       "      <td>118140</td>\n",
       "      <td>...</td>\n",
       "      <td>NaN</td>\n",
       "      <td>일반</td>\n",
       "      <td>모바일웹</td>\n",
       "      <td>20181104-0000028</td>\n",
       "      <td>2018-11-04 오전 11:38</td>\n",
       "      <td>kang701211</td>\n",
       "      <td>NaN</td>\n",
       "      <td>0</td>\n",
       "      <td>118140</td>\n",
       "      <td>32272</td>\n",
       "    </tr>\n",
       "    <tr>\n",
       "      <th>37414</th>\n",
       "      <td>무통장입금</td>\n",
       "      <td>37400.0</td>\n",
       "      <td>교환안함</td>\n",
       "      <td>0</td>\n",
       "      <td>D-20181104-0000028-01</td>\n",
       "      <td>무료</td>\n",
       "      <td>2018-11-05 오후 6:15</td>\n",
       "      <td>2018-11-09 오전 5:32</td>\n",
       "      <td>0</td>\n",
       "      <td>58410</td>\n",
       "      <td>...</td>\n",
       "      <td>NaN</td>\n",
       "      <td>일반</td>\n",
       "      <td>모바일웹</td>\n",
       "      <td>20181104-0000028</td>\n",
       "      <td>2018-11-04 오전 11:38</td>\n",
       "      <td>kang701211</td>\n",
       "      <td>NaN</td>\n",
       "      <td>0</td>\n",
       "      <td>58410</td>\n",
       "      <td>32273</td>\n",
       "    </tr>\n",
       "    <tr>\n",
       "      <th>37415</th>\n",
       "      <td>무통장입금</td>\n",
       "      <td>0.0</td>\n",
       "      <td>교환안함</td>\n",
       "      <td>0</td>\n",
       "      <td>D-20181104-0000028-00</td>\n",
       "      <td>무료</td>\n",
       "      <td>2018-11-05 오후 6:15</td>\n",
       "      <td>2018-11-09 오전 5:32</td>\n",
       "      <td>0</td>\n",
       "      <td>0</td>\n",
       "      <td>...</td>\n",
       "      <td>NaN</td>\n",
       "      <td>일반</td>\n",
       "      <td>모바일웹</td>\n",
       "      <td>20181104-0000028</td>\n",
       "      <td>2018-11-04 오전 11:38</td>\n",
       "      <td>kang701211</td>\n",
       "      <td>NaN</td>\n",
       "      <td>0</td>\n",
       "      <td>0</td>\n",
       "      <td>32275</td>\n",
       "    </tr>\n",
       "    <tr>\n",
       "      <th>46435</th>\n",
       "      <td>카드</td>\n",
       "      <td>49500.0</td>\n",
       "      <td>교환안함</td>\n",
       "      <td>0</td>\n",
       "      <td>D-20171129-0000016-00</td>\n",
       "      <td>무료</td>\n",
       "      <td>2017-11-29 오후 5:34</td>\n",
       "      <td>2017-12-03 오전 5:38</td>\n",
       "      <td>0</td>\n",
       "      <td>79200</td>\n",
       "      <td>...</td>\n",
       "      <td>NaN</td>\n",
       "      <td>일반</td>\n",
       "      <td>모바일웹</td>\n",
       "      <td>20171129-0000016</td>\n",
       "      <td>2017-11-29 오전 12:45</td>\n",
       "      <td>qsd681</td>\n",
       "      <td>신한(구.LG카드 포함)</td>\n",
       "      <td>0</td>\n",
       "      <td>79200</td>\n",
       "      <td>2513</td>\n",
       "    </tr>\n",
       "    <tr>\n",
       "      <th>46436</th>\n",
       "      <td>카드</td>\n",
       "      <td>56100.0</td>\n",
       "      <td>교환안함</td>\n",
       "      <td>0</td>\n",
       "      <td>D-20171129-0000016-01</td>\n",
       "      <td>무료</td>\n",
       "      <td>2017-11-29 오후 5:34</td>\n",
       "      <td>2017-12-03 오전 5:38</td>\n",
       "      <td>0</td>\n",
       "      <td>86240</td>\n",
       "      <td>...</td>\n",
       "      <td>NaN</td>\n",
       "      <td>일반</td>\n",
       "      <td>모바일웹</td>\n",
       "      <td>20171129-0000016</td>\n",
       "      <td>2017-11-29 오전 12:45</td>\n",
       "      <td>qsd681</td>\n",
       "      <td>신한(구.LG카드 포함)</td>\n",
       "      <td>0</td>\n",
       "      <td>86240</td>\n",
       "      <td>2514</td>\n",
       "    </tr>\n",
       "    <tr>\n",
       "      <th>46437</th>\n",
       "      <td>카드</td>\n",
       "      <td>36300.0</td>\n",
       "      <td>교환안함</td>\n",
       "      <td>0</td>\n",
       "      <td>D-20171129-0000016-02</td>\n",
       "      <td>무료</td>\n",
       "      <td>2017-11-29 오후 5:34</td>\n",
       "      <td>2017-12-03 오전 5:38</td>\n",
       "      <td>0</td>\n",
       "      <td>56100</td>\n",
       "      <td>...</td>\n",
       "      <td>NaN</td>\n",
       "      <td>일반</td>\n",
       "      <td>모바일웹</td>\n",
       "      <td>20171129-0000016</td>\n",
       "      <td>2017-11-29 오전 12:45</td>\n",
       "      <td>qsd681</td>\n",
       "      <td>신한(구.LG카드 포함)</td>\n",
       "      <td>0</td>\n",
       "      <td>56100</td>\n",
       "      <td>2515</td>\n",
       "    </tr>\n",
       "  </tbody>\n",
       "</table>\n",
       "<p>8 rows × 24 columns</p>\n",
       "</div>"
      ],
      "text/plain": [
       "        결제수단     공급원가  교환구분  네이버 포인트                   배송번호 배송비 정보  \\\n",
       "2815   무통장입금  37400.0  교환안함        0  D-20190128-0000102-00     무료   \n",
       "21847  무통장입금  12650.0  교환안함        0  D-20180514-0000232-00     무료   \n",
       "37413  무통장입금  75680.0  교환안함        0  D-20181104-0000028-00     무료   \n",
       "37414  무통장입금  37400.0  교환안함        0  D-20181104-0000028-01     무료   \n",
       "37415  무통장입금      0.0  교환안함        0  D-20181104-0000028-00     무료   \n",
       "46435     카드  49500.0  교환안함        0  D-20171129-0000016-00     무료   \n",
       "46436     카드  56100.0  교환안함        0  D-20171129-0000016-01     무료   \n",
       "46437     카드  36300.0  교환안함        0  D-20171129-0000016-02     무료   \n",
       "\n",
       "                    배송시작일               배송완료일  사용한 적립금액  상품구매금액  ... 수령인 주소  \\\n",
       "2815   2019-01-29 오전 8:45  2019-02-02 오전 5:32         0   58410  ...    NaN   \n",
       "21847  2018-05-17 오후 1:29  2018-05-21 오전 5:32         0   30840  ...    NaN   \n",
       "37413  2018-11-06 오후 6:45  2018-11-10 오전 5:32         0  118140  ...    NaN   \n",
       "37414  2018-11-05 오후 6:15  2018-11-09 오전 5:32         0   58410  ...    NaN   \n",
       "37415  2018-11-05 오후 6:15  2018-11-09 오전 5:32         0       0  ...    NaN   \n",
       "46435  2017-11-29 오후 5:34  2017-12-03 오전 5:38         0   79200  ...    NaN   \n",
       "46436  2017-11-29 오후 5:34  2017-12-03 오전 5:38         0   86240  ...    NaN   \n",
       "46437  2017-11-29 오후 5:34  2017-12-03 오전 5:38         0   56100  ...    NaN   \n",
       "\n",
       "       주문 시 회원등급   주문경로              주문번호                 주문일시       주문자ID  \\\n",
       "2815         사업자  PC쇼핑몰  20190128-0000102   2019-01-28 오전 9:03  kang701211   \n",
       "21847        사업자   모바일웹  20180514-0000232  2018-05-14 오전 11:16   toristar3   \n",
       "37413         일반   모바일웹  20181104-0000028  2018-11-04 오전 11:38  kang701211   \n",
       "37414         일반   모바일웹  20181104-0000028  2018-11-04 오전 11:38  kang701211   \n",
       "37415         일반   모바일웹  20181104-0000028  2018-11-04 오전 11:38  kang701211   \n",
       "46435         일반   모바일웹  20171129-0000016  2017-11-29 오전 12:45      qsd681   \n",
       "46436         일반   모바일웹  20171129-0000016  2017-11-29 오전 12:45      qsd681   \n",
       "46437         일반   모바일웹  20171129-0000016  2017-11-29 오전 12:45      qsd681   \n",
       "\n",
       "                 카드사 쿠폰 할인금액     판매가   품목번호  \n",
       "2815             NaN       0   58410  49413  \n",
       "21847            NaN       0   30840   9723  \n",
       "37413            NaN       0  118140  32272  \n",
       "37414            NaN       0   58410  32273  \n",
       "37415            NaN       0       0  32275  \n",
       "46435  신한(구.LG카드 포함)       0   79200   2513  \n",
       "46436  신한(구.LG카드 포함)       0   86240   2514  \n",
       "46437  신한(구.LG카드 포함)       0   56100   2515  \n",
       "\n",
       "[8 rows x 24 columns]"
      ]
     },
     "execution_count": 191,
     "metadata": {},
     "output_type": "execute_result"
    }
   ],
   "source": [
    "dt1[dt1['수령인 주소'].isna()]"
   ]
  },
  {
   "cell_type": "code",
   "execution_count": 192,
   "metadata": {},
   "outputs": [
    {
     "name": "stdout",
     "output_type": "stream",
     "text": [
      "<class 'pandas.core.frame.DataFrame'>\n",
      "Int64Index: 1989 entries, 0 to 6560\n",
      "Data columns (total 12 columns):\n",
      " #   Column     Non-Null Count  Dtype \n",
      "---  ------     --------------  ----- \n",
      " 0   ID         1989 non-null   object\n",
      " 1   나이         1989 non-null   int64 \n",
      " 2   사용가능 적립금   1989 non-null   int64 \n",
      " 3   성별         1989 non-null   object\n",
      " 4   주소(동/읍/면)  1921 non-null   object\n",
      " 5   최종접속일      1956 non-null   object\n",
      " 6   최종주문일      1824 non-null   object\n",
      " 7   유입경로       1989 non-null   object\n",
      " 8   유입기기       1989 non-null   object\n",
      " 9   회원 가입일     1989 non-null   object\n",
      " 10  사업자구분      1989 non-null   object\n",
      " 11  회원구분       1989 non-null   object\n",
      "dtypes: int64(2), object(10)\n",
      "memory usage: 202.0+ KB\n"
     ]
    }
   ],
   "source": [
    "dt2[dt2['사용가능 적립금'] == 0].info()"
   ]
  },
  {
   "cell_type": "code",
   "execution_count": 193,
   "metadata": {},
   "outputs": [
    {
     "data": {
      "text/plain": [
       "array(['개인', '사업자'], dtype=object)"
      ]
     },
     "execution_count": 193,
     "metadata": {},
     "output_type": "execute_result"
    }
   ],
   "source": [
    "dt2[dt2['사용가능 적립금'] == 0]['사업자구분'].unique()"
   ]
  },
  {
   "cell_type": "code",
   "execution_count": 194,
   "metadata": {},
   "outputs": [
    {
     "data": {
      "text/plain": [
       "array(['개인', '사업자', '외국인'], dtype=object)"
      ]
     },
     "execution_count": 194,
     "metadata": {},
     "output_type": "execute_result"
    }
   ],
   "source": [
    "dt2['사업자구분'].unique()"
   ]
  },
  {
   "cell_type": "code",
   "execution_count": 195,
   "metadata": {},
   "outputs": [
    {
     "name": "stdout",
     "output_type": "stream",
     "text": [
      "<class 'pandas.core.frame.DataFrame'>\n",
      "RangeIndex: 6575 entries, 0 to 6574\n",
      "Data columns (total 12 columns):\n",
      " #   Column     Non-Null Count  Dtype \n",
      "---  ------     --------------  ----- \n",
      " 0   ID         6575 non-null   object\n",
      " 1   나이         6575 non-null   int64 \n",
      " 2   사용가능 적립금   6575 non-null   int64 \n",
      " 3   성별         6575 non-null   object\n",
      " 4   주소(동/읍/면)  5941 non-null   object\n",
      " 5   최종접속일      6523 non-null   object\n",
      " 6   최종주문일      5153 non-null   object\n",
      " 7   유입경로       6575 non-null   object\n",
      " 8   유입기기       6575 non-null   object\n",
      " 9   회원 가입일     6575 non-null   object\n",
      " 10  사업자구분      6575 non-null   object\n",
      " 11  회원구분       6575 non-null   object\n",
      "dtypes: int64(2), object(10)\n",
      "memory usage: 616.5+ KB\n"
     ]
    }
   ],
   "source": [
    "dt2.info()"
   ]
  },
  {
   "cell_type": "code",
   "execution_count": 196,
   "metadata": {},
   "outputs": [],
   "source": [
    "df = dt1.merge(dt2, how='left', left_on='주문자ID', right_on='ID')"
   ]
  },
  {
   "cell_type": "code",
   "execution_count": 197,
   "metadata": {},
   "outputs": [
    {
     "data": {
      "text/plain": [
       "Index(['결제수단', '공급원가', '교환구분', '네이버 포인트', '배송번호', '배송비 정보', '배송시작일', '배송완료일',\n",
       "       '사용한 적립금액', '상품구매금액', '상품명', '상품번호', '상품별 추가할인금액', '수량', '수령인 주소',\n",
       "       '주문 시 회원등급', '주문경로', '주문번호', '주문일시', '주문자ID', '카드사', '쿠폰 할인금액', '판매가',\n",
       "       '품목번호', 'ID', '나이', '사용가능 적립금', '성별', '주소(동/읍/면)', '최종접속일', '최종주문일',\n",
       "       '유입경로', '유입기기', '회원 가입일', '사업자구분', '회원구분'],\n",
       "      dtype='object')"
      ]
     },
     "execution_count": 197,
     "metadata": {},
     "output_type": "execute_result"
    }
   ],
   "source": [
    "df.columns"
   ]
  },
  {
   "cell_type": "code",
   "execution_count": 198,
   "metadata": {},
   "outputs": [
    {
     "name": "stdout",
     "output_type": "stream",
     "text": [
      "<class 'pandas.core.frame.DataFrame'>\n",
      "Int64Index: 3503 entries, 2 to 46747\n",
      "Data columns (total 36 columns):\n",
      " #   Column      Non-Null Count  Dtype  \n",
      "---  ------      --------------  -----  \n",
      " 0   결제수단        3503 non-null   object \n",
      " 1   공급원가        3460 non-null   float64\n",
      " 2   교환구분        3503 non-null   object \n",
      " 3   네이버 포인트     3503 non-null   int64  \n",
      " 4   배송번호        3503 non-null   object \n",
      " 5   배송비 정보      3503 non-null   object \n",
      " 6   배송시작일       3503 non-null   object \n",
      " 7   배송완료일       3503 non-null   object \n",
      " 8   사용한 적립금액    3503 non-null   int64  \n",
      " 9   상품구매금액      3503 non-null   int64  \n",
      " 10  상품명         3460 non-null   object \n",
      " 11  상품번호        3460 non-null   float64\n",
      " 12  상품별 추가할인금액  3503 non-null   int64  \n",
      " 13  수량          3503 non-null   int64  \n",
      " 14  수령인 주소      3495 non-null   object \n",
      " 15  주문 시 회원등급   398 non-null    object \n",
      " 16  주문경로        3503 non-null   object \n",
      " 17  주문번호        3503 non-null   object \n",
      " 18  주문일시        3503 non-null   object \n",
      " 19  주문자ID       398 non-null    object \n",
      " 20  카드사         2319 non-null   object \n",
      " 21  쿠폰 할인금액     3503 non-null   int64  \n",
      " 22  판매가         3503 non-null   int64  \n",
      " 23  품목번호        3503 non-null   int64  \n",
      " 24  ID          279 non-null    object \n",
      " 25  나이          279 non-null    float64\n",
      " 26  사용가능 적립금    279 non-null    float64\n",
      " 27  성별          279 non-null    object \n",
      " 28  주소(동/읍/면)   0 non-null      object \n",
      " 29  최종접속일       279 non-null    object \n",
      " 30  최종주문일       279 non-null    object \n",
      " 31  유입경로        279 non-null    object \n",
      " 32  유입기기        279 non-null    object \n",
      " 33  회원 가입일      279 non-null    object \n",
      " 34  사업자구분       279 non-null    object \n",
      " 35  회원구분        279 non-null    object \n",
      "dtypes: float64(4), int64(8), object(24)\n",
      "memory usage: 1012.6+ KB\n"
     ]
    }
   ],
   "source": [
    "df[df['주소(동/읍/면)'].isna()].info()"
   ]
  },
  {
   "cell_type": "code",
   "execution_count": 199,
   "metadata": {},
   "outputs": [],
   "source": [
    "dt1_cnt=dt1.groupby('주문자ID', as_index=False)[['주문일시']].count()"
   ]
  },
  {
   "cell_type": "code",
   "execution_count": 200,
   "metadata": {},
   "outputs": [
    {
     "data": {
      "text/plain": [
       "array([  1,  45,   3,   2,   4,   8,   9,  66,   7,   6,  13,   5,  11,\n",
       "        12,  20,  10,  56,  26,  14,  24,  33,  21,  53,  37,  64,  40,\n",
       "        73,  31,  19,  29,  16,  17,  27,  32, 152,  43,  15,  50,  22,\n",
       "        23,  60,  94,  39,  28,  74,  58,  65,  25,  35,  18,  52,  46,\n",
       "       267,  87,  99,  54,  30,  34,  67,  57,  55,  47,  79,  41, 114,\n",
       "       197,  48,  44,  42,  59, 172, 126,  75, 105,  96,  63,  51,  83,\n",
       "        80,  49,  72,  36, 251,  70, 145,  82, 232, 129,  77,  76, 295,\n",
       "        38,  61,  81,  90,  84,  98, 119,  68, 214, 132, 103,  69, 118,\n",
       "       115, 108,  88, 135, 163,  86,  62], dtype=int64)"
      ]
     },
     "execution_count": 200,
     "metadata": {},
     "output_type": "execute_result"
    }
   ],
   "source": [
    "dt1_cnt['주문일시'].unique()"
   ]
  },
  {
   "cell_type": "code",
   "execution_count": 201,
   "metadata": {},
   "outputs": [],
   "source": [
    "dt1 = dt1.drop('교환구분', axis=1)"
   ]
  },
  {
   "cell_type": "code",
   "execution_count": 202,
   "metadata": {},
   "outputs": [
    {
     "data": {
      "text/plain": [
       "array(['블로그광고', '이메일광고', 'SNS광고', '인터넷기사광고', '카카오톡광고', '신문광고', '기타',\n",
       "       '지인추천', '잡지광고', '인터넷검색', '전단지광고', '유튜브광고'], dtype=object)"
      ]
     },
     "execution_count": 202,
     "metadata": {},
     "output_type": "execute_result"
    }
   ],
   "source": [
    "dt2['유입경로'].unique()"
   ]
  },
  {
   "cell_type": "code",
   "execution_count": 203,
   "metadata": {},
   "outputs": [
    {
     "data": {
      "text/html": [
       "<div>\n",
       "<style scoped>\n",
       "    .dataframe tbody tr th:only-of-type {\n",
       "        vertical-align: middle;\n",
       "    }\n",
       "\n",
       "    .dataframe tbody tr th {\n",
       "        vertical-align: top;\n",
       "    }\n",
       "\n",
       "    .dataframe thead th {\n",
       "        text-align: right;\n",
       "    }\n",
       "</style>\n",
       "<table border=\"1\" class=\"dataframe\">\n",
       "  <thead>\n",
       "    <tr style=\"text-align: right;\">\n",
       "      <th></th>\n",
       "      <th>ID</th>\n",
       "      <th>나이</th>\n",
       "      <th>사용가능 적립금</th>\n",
       "      <th>성별</th>\n",
       "      <th>주소(동/읍/면)</th>\n",
       "      <th>최종접속일</th>\n",
       "      <th>최종주문일</th>\n",
       "      <th>유입경로</th>\n",
       "      <th>유입기기</th>\n",
       "      <th>회원 가입일</th>\n",
       "      <th>사업자구분</th>\n",
       "      <th>회원구분</th>\n",
       "    </tr>\n",
       "  </thead>\n",
       "  <tbody>\n",
       "    <tr>\n",
       "      <th>26</th>\n",
       "      <td>kyen1311</td>\n",
       "      <td>69</td>\n",
       "      <td>5820</td>\n",
       "      <td>여자</td>\n",
       "      <td>충청북도 청주시 서원구 남이면 가마3길 48</td>\n",
       "      <td>2019-03-24 오후 11:32</td>\n",
       "      <td>2019-03-24 오후 11:37</td>\n",
       "      <td>신문광고</td>\n",
       "      <td>PC</td>\n",
       "      <td>2017-03-03</td>\n",
       "      <td>사업자</td>\n",
       "      <td>사업자</td>\n",
       "    </tr>\n",
       "    <tr>\n",
       "      <th>38</th>\n",
       "      <td>deadand</td>\n",
       "      <td>37</td>\n",
       "      <td>0</td>\n",
       "      <td>남자</td>\n",
       "      <td>대구광역시 동구 첨단로8길 10 (신서동)</td>\n",
       "      <td>2017-07-05 오후 2:19</td>\n",
       "      <td>2017-06-19 오후 7:56</td>\n",
       "      <td>신문광고</td>\n",
       "      <td>PC</td>\n",
       "      <td>2017-03-23</td>\n",
       "      <td>사업자</td>\n",
       "      <td>사업자</td>\n",
       "    </tr>\n",
       "    <tr>\n",
       "      <th>42</th>\n",
       "      <td>jjamno1004</td>\n",
       "      <td>38</td>\n",
       "      <td>0</td>\n",
       "      <td>여자</td>\n",
       "      <td>광주광역시 서구 운천로 54 (금호동)</td>\n",
       "      <td>2017-03-26 오전 8:14</td>\n",
       "      <td>NaN</td>\n",
       "      <td>신문광고</td>\n",
       "      <td>PC</td>\n",
       "      <td>2017-03-26</td>\n",
       "      <td>사업자</td>\n",
       "      <td>사업자</td>\n",
       "    </tr>\n",
       "    <tr>\n",
       "      <th>113</th>\n",
       "      <td>yskim2937</td>\n",
       "      <td>75</td>\n",
       "      <td>1400</td>\n",
       "      <td>남자</td>\n",
       "      <td>서울특별시 관악구 신림로11길 51 (신림동)</td>\n",
       "      <td>2018-02-06 오후 2:10</td>\n",
       "      <td>2018-01-18 오전 11:57</td>\n",
       "      <td>신문광고</td>\n",
       "      <td>모바일</td>\n",
       "      <td>2017-05-11</td>\n",
       "      <td>개인</td>\n",
       "      <td>일반</td>\n",
       "    </tr>\n",
       "    <tr>\n",
       "      <th>343</th>\n",
       "      <td>jogoya</td>\n",
       "      <td>38</td>\n",
       "      <td>600</td>\n",
       "      <td>남자</td>\n",
       "      <td>제주특별자치도 제주시 남광북3길 7 (이도이동)</td>\n",
       "      <td>2019-03-03 오후 12:54</td>\n",
       "      <td>2019-03-03 오후 12:55</td>\n",
       "      <td>신문광고</td>\n",
       "      <td>PC</td>\n",
       "      <td>2017-10-27</td>\n",
       "      <td>개인</td>\n",
       "      <td>사업자</td>\n",
       "    </tr>\n",
       "    <tr>\n",
       "      <th>...</th>\n",
       "      <td>...</td>\n",
       "      <td>...</td>\n",
       "      <td>...</td>\n",
       "      <td>...</td>\n",
       "      <td>...</td>\n",
       "      <td>...</td>\n",
       "      <td>...</td>\n",
       "      <td>...</td>\n",
       "      <td>...</td>\n",
       "      <td>...</td>\n",
       "      <td>...</td>\n",
       "      <td>...</td>\n",
       "    </tr>\n",
       "    <tr>\n",
       "      <th>6551</th>\n",
       "      <td>pme1024</td>\n",
       "      <td>46</td>\n",
       "      <td>1000</td>\n",
       "      <td>남자</td>\n",
       "      <td>전라남도 순천시 연향상가길 17 (연향동)</td>\n",
       "      <td>2019-05-31 오전 8:58</td>\n",
       "      <td>NaN</td>\n",
       "      <td>전단지광고</td>\n",
       "      <td>모바일</td>\n",
       "      <td>2019-05-29</td>\n",
       "      <td>사업자</td>\n",
       "      <td>일반</td>\n",
       "    </tr>\n",
       "    <tr>\n",
       "      <th>6554</th>\n",
       "      <td>seb0720</td>\n",
       "      <td>47</td>\n",
       "      <td>1000</td>\n",
       "      <td>남자</td>\n",
       "      <td>경기도 양주시 백석읍 꿈나무로 291</td>\n",
       "      <td>2019-05-29 오전 12:21</td>\n",
       "      <td>NaN</td>\n",
       "      <td>지인추천</td>\n",
       "      <td>모바일</td>\n",
       "      <td>2019-05-29</td>\n",
       "      <td>개인</td>\n",
       "      <td>일반</td>\n",
       "    </tr>\n",
       "    <tr>\n",
       "      <th>6559</th>\n",
       "      <td>kms9554</td>\n",
       "      <td>47</td>\n",
       "      <td>1000</td>\n",
       "      <td>남자</td>\n",
       "      <td>부산광역시 강서구 명지오션시티7로 41-10 (명지동)</td>\n",
       "      <td>2019-05-30 오후 5:23</td>\n",
       "      <td>NaN</td>\n",
       "      <td>전단지광고</td>\n",
       "      <td>모바일</td>\n",
       "      <td>2019-05-30</td>\n",
       "      <td>사업자</td>\n",
       "      <td>일반</td>\n",
       "    </tr>\n",
       "    <tr>\n",
       "      <th>6565</th>\n",
       "      <td>wjdtnsghhh</td>\n",
       "      <td>47</td>\n",
       "      <td>1000</td>\n",
       "      <td>남자</td>\n",
       "      <td>강원도 원주시 호저면 만종리 597</td>\n",
       "      <td>2019-05-30 오전 10:15</td>\n",
       "      <td>NaN</td>\n",
       "      <td>전단지광고</td>\n",
       "      <td>PC</td>\n",
       "      <td>2019-05-30</td>\n",
       "      <td>사업자</td>\n",
       "      <td>일반</td>\n",
       "    </tr>\n",
       "    <tr>\n",
       "      <th>6571</th>\n",
       "      <td>jsuee8228</td>\n",
       "      <td>45</td>\n",
       "      <td>1000</td>\n",
       "      <td>남자</td>\n",
       "      <td>경상북도 구미시 산호대로29길 7-7 (옥계동)</td>\n",
       "      <td>2019-06-21 오후 9:38</td>\n",
       "      <td>NaN</td>\n",
       "      <td>전단지광고</td>\n",
       "      <td>PC</td>\n",
       "      <td>2019-06-05</td>\n",
       "      <td>사업자</td>\n",
       "      <td>일반</td>\n",
       "    </tr>\n",
       "  </tbody>\n",
       "</table>\n",
       "<p>1800 rows × 12 columns</p>\n",
       "</div>"
      ],
      "text/plain": [
       "              ID  나이  사용가능 적립금  성별                       주소(동/읍/면)  \\\n",
       "26      kyen1311  69      5820  여자        충청북도 청주시 서원구 남이면 가마3길 48   \n",
       "38       deadand  37         0  남자         대구광역시 동구 첨단로8길 10 (신서동)   \n",
       "42    jjamno1004  38         0  여자           광주광역시 서구 운천로 54 (금호동)   \n",
       "113    yskim2937  75      1400  남자       서울특별시 관악구 신림로11길 51 (신림동)   \n",
       "343       jogoya  38       600  남자      제주특별자치도 제주시 남광북3길 7 (이도이동)   \n",
       "...          ...  ..       ...  ..                             ...   \n",
       "6551     pme1024  46      1000  남자         전라남도 순천시 연향상가길 17 (연향동)   \n",
       "6554     seb0720  47      1000  남자            경기도 양주시 백석읍 꿈나무로 291   \n",
       "6559     kms9554  47      1000  남자  부산광역시 강서구 명지오션시티7로 41-10 (명지동)   \n",
       "6565  wjdtnsghhh  47      1000  남자             강원도 원주시 호저면 만종리 597   \n",
       "6571   jsuee8228  45      1000  남자      경상북도 구미시 산호대로29길 7-7 (옥계동)   \n",
       "\n",
       "                    최종접속일                최종주문일   유입경로 유입기기      회원 가입일 사업자구분  \\\n",
       "26    2019-03-24 오후 11:32  2019-03-24 오후 11:37   신문광고   PC  2017-03-03   사업자   \n",
       "38     2017-07-05 오후 2:19   2017-06-19 오후 7:56   신문광고   PC  2017-03-23   사업자   \n",
       "42     2017-03-26 오전 8:14                  NaN   신문광고   PC  2017-03-26   사업자   \n",
       "113    2018-02-06 오후 2:10  2018-01-18 오전 11:57   신문광고  모바일  2017-05-11    개인   \n",
       "343   2019-03-03 오후 12:54  2019-03-03 오후 12:55   신문광고   PC  2017-10-27    개인   \n",
       "...                   ...                  ...    ...  ...         ...   ...   \n",
       "6551   2019-05-31 오전 8:58                  NaN  전단지광고  모바일  2019-05-29   사업자   \n",
       "6554  2019-05-29 오전 12:21                  NaN   지인추천  모바일  2019-05-29    개인   \n",
       "6559   2019-05-30 오후 5:23                  NaN  전단지광고  모바일  2019-05-30   사업자   \n",
       "6565  2019-05-30 오전 10:15                  NaN  전단지광고   PC  2019-05-30   사업자   \n",
       "6571   2019-06-21 오후 9:38                  NaN  전단지광고   PC  2019-06-05   사업자   \n",
       "\n",
       "     회원구분  \n",
       "26    사업자  \n",
       "38    사업자  \n",
       "42    사업자  \n",
       "113    일반  \n",
       "343   사업자  \n",
       "...   ...  \n",
       "6551   일반  \n",
       "6554   일반  \n",
       "6559   일반  \n",
       "6565   일반  \n",
       "6571   일반  \n",
       "\n",
       "[1800 rows x 12 columns]"
      ]
     },
     "execution_count": 203,
     "metadata": {},
     "output_type": "execute_result"
    }
   ],
   "source": [
    "dt2[(dt2['유입경로'] == '신문광고') | (dt2['유입경로'] == '지인추천') | (dt2['유입경로'] == '잡지광고') | (dt2['유입경로'] == '전단지광고')]"
   ]
  },
  {
   "cell_type": "code",
   "execution_count": 204,
   "metadata": {},
   "outputs": [
    {
     "data": {
      "text/plain": [
       "0       2018-12-27 14:54:00\n",
       "1       2018-12-29 13:22:00\n",
       "2       2018-12-30 15:15:00\n",
       "3       2018-12-31 10:30:00\n",
       "4       2018-12-31 10:43:00\n",
       "                ...        \n",
       "46744   2017-12-29 13:39:00\n",
       "46745   2017-12-29 17:16:00\n",
       "46746   2017-12-30 18:56:00\n",
       "46747   2017-12-31 10:00:00\n",
       "46748   2017-12-31 18:15:00\n",
       "Name: 주문일시, Length: 46749, dtype: datetime64[ns]"
      ]
     },
     "execution_count": 204,
     "metadata": {},
     "output_type": "execute_result"
    }
   ],
   "source": [
    "dt1['주문일시'] = dt1['주문일시'].apply(lambda x: x.replace('오전', 'am').replace('오후', 'pm'))\n",
    "dt1['주문일시'] = pd.to_datetime(dt1['주문일시'], format = '%Y-%m-%d %p %I:%M')\n",
    "dt1['주문일시']"
   ]
  },
  {
   "cell_type": "code",
   "execution_count": 205,
   "metadata": {},
   "outputs": [
    {
     "data": {
      "text/plain": [
       "0       2019-01-07 08:56:00\n",
       "1       2019-01-03 09:30:00\n",
       "2       2019-01-03 09:30:00\n",
       "3       2019-01-03 09:30:00\n",
       "4       2019-01-07 08:56:00\n",
       "                ...        \n",
       "46744   2017-12-29 16:32:00\n",
       "46745   2018-01-03 09:45:00\n",
       "46746   2018-01-02 19:06:00\n",
       "46747   2018-01-03 14:00:00\n",
       "46748   2018-01-03 12:43:00\n",
       "Name: 배송시작일, Length: 46749, dtype: datetime64[ns]"
      ]
     },
     "execution_count": 205,
     "metadata": {},
     "output_type": "execute_result"
    }
   ],
   "source": [
    "dt1['배송시작일'] = dt1['배송시작일'].apply(lambda x: x.replace('오전', 'am').replace('오후', 'pm'))\n",
    "dt1['배송시작일'] = pd.to_datetime(dt1['배송시작일'], format = '%Y-%m-%d %p %I:%M')\n",
    "dt1['배송시작일']"
   ]
  },
  {
   "cell_type": "code",
   "execution_count": 206,
   "metadata": {},
   "outputs": [
    {
     "data": {
      "text/plain": [
       "0       2019-01-11 05:32:00\n",
       "1       2019-01-07 05:32:00\n",
       "2       2019-01-07 05:32:00\n",
       "3       2019-01-07 05:32:00\n",
       "4       2019-01-11 05:32:00\n",
       "                ...        \n",
       "46744   2018-01-02 05:31:00\n",
       "46745   2018-01-07 05:38:00\n",
       "46746   2018-01-11 02:46:00\n",
       "46747   2018-01-06 18:06:00\n",
       "46748   2018-01-07 05:38:00\n",
       "Name: 배송완료일, Length: 46749, dtype: datetime64[ns]"
      ]
     },
     "execution_count": 206,
     "metadata": {},
     "output_type": "execute_result"
    }
   ],
   "source": [
    "dt1['배송완료일'] = dt1['배송완료일'].apply(lambda x: x.replace('오전', 'am').replace('오후', 'pm'))\n",
    "dt1['배송완료일'] = pd.to_datetime(dt1['배송완료일'], format = '%Y-%m-%d %p %I:%M')\n",
    "dt1['배송완료일']"
   ]
  },
  {
   "cell_type": "code",
   "execution_count": 207,
   "metadata": {},
   "outputs": [],
   "source": [
    "dt_D = dt1['배송완료일'] - dt1['주문일시']\n",
    "dt_D['배송걸린기간'] = dt1['배송완료일'] - dt1['주문일시']\n",
    "dt_D['배송걸린기간'] = dt_D['배송걸린기간'].astype(str)\n",
    "dt1['배송걸린기간']=dt_D['배송걸린기간'].apply(lambda x: ' '.join(x.split(' ')[:1]))\n",
    "dt1['배송걸린기간'] = dt1['배송걸린기간'].astype(int)"
   ]
  },
  {
   "cell_type": "code",
   "execution_count": 208,
   "metadata": {},
   "outputs": [],
   "source": [
    "dt1['택배배송'] = dt1['배송완료일'] - dt1['배송시작일']"
   ]
  },
  {
   "cell_type": "code",
   "execution_count": 209,
   "metadata": {},
   "outputs": [],
   "source": [
    "dt1['택배배송'] = dt1['택배배송'].astype('str')"
   ]
  },
  {
   "cell_type": "code",
   "execution_count": 210,
   "metadata": {},
   "outputs": [],
   "source": [
    "dt1['택배배송'] = dt1['택배배송'].apply(lambda x: ' '.join(x.split(' ')[:1]))"
   ]
  },
  {
   "cell_type": "code",
   "execution_count": 211,
   "metadata": {},
   "outputs": [],
   "source": [
    "dt1['택배배송'] = dt1['택배배송'].astype('int')"
   ]
  },
  {
   "cell_type": "code",
   "execution_count": 212,
   "metadata": {},
   "outputs": [],
   "source": [
    "dt1['재고준비기간'] = dt1['배송걸린기간'] - dt1['택배배송']"
   ]
  },
  {
   "cell_type": "code",
   "execution_count": 213,
   "metadata": {},
   "outputs": [],
   "source": [
    "dt1_ready = dt1[['재고준비기간', '상품명','상품번호','수량','수령인 주소']]"
   ]
  },
  {
   "cell_type": "code",
   "execution_count": 214,
   "metadata": {},
   "outputs": [
    {
     "name": "stderr",
     "output_type": "stream",
     "text": [
      "C:\\Users\\operation\\AppData\\Local\\Temp\\ipykernel_10872\\2545173246.py:1: SettingWithCopyWarning: \n",
      "A value is trying to be set on a copy of a slice from a DataFrame\n",
      "\n",
      "See the caveats in the documentation: https://pandas.pydata.org/pandas-docs/stable/user_guide/indexing.html#returning-a-view-versus-a-copy\n",
      "  dt1_ready.sort_values(by='재고준비기간', ascending=False, inplace=True)\n"
     ]
    }
   ],
   "source": [
    "dt1_ready.sort_values(by='재고준비기간', ascending=False, inplace=True)"
   ]
  },
  {
   "cell_type": "code",
   "execution_count": 215,
   "metadata": {},
   "outputs": [
    {
     "name": "stderr",
     "output_type": "stream",
     "text": [
      "C:\\Users\\operation\\AppData\\Local\\Temp\\ipykernel_10872\\223825272.py:1: SettingWithCopyWarning: \n",
      "A value is trying to be set on a copy of a slice from a DataFrame.\n",
      "Try using .loc[row_indexer,col_indexer] = value instead\n",
      "\n",
      "See the caveats in the documentation: https://pandas.pydata.org/pandas-docs/stable/user_guide/indexing.html#returning-a-view-versus-a-copy\n",
      "  dt1_ready['상품번호'] = dt1_ready['상품번호'].astype('str')\n"
     ]
    }
   ],
   "source": [
    "dt1_ready['상품번호'] = dt1_ready['상품번호'].astype('str')"
   ]
  },
  {
   "cell_type": "code",
   "execution_count": 216,
   "metadata": {},
   "outputs": [
    {
     "data": {
      "text/html": [
       "<div>\n",
       "<style scoped>\n",
       "    .dataframe tbody tr th:only-of-type {\n",
       "        vertical-align: middle;\n",
       "    }\n",
       "\n",
       "    .dataframe tbody tr th {\n",
       "        vertical-align: top;\n",
       "    }\n",
       "\n",
       "    .dataframe thead th {\n",
       "        text-align: right;\n",
       "    }\n",
       "</style>\n",
       "<table border=\"1\" class=\"dataframe\">\n",
       "  <thead>\n",
       "    <tr style=\"text-align: right;\">\n",
       "      <th></th>\n",
       "      <th>재고준비기간</th>\n",
       "      <th>상품명</th>\n",
       "      <th>상품번호</th>\n",
       "      <th>수량</th>\n",
       "      <th>수령인 주소</th>\n",
       "    </tr>\n",
       "  </thead>\n",
       "  <tbody>\n",
       "    <tr>\n",
       "      <th>27922</th>\n",
       "      <td>155</td>\n",
       "      <td>92파이 아이스컵 뚜껑 돔형 구멍있음 PET 1000개 1박스</td>\n",
       "      <td>217.0</td>\n",
       "      <td>1</td>\n",
       "      <td>충청남도 아산시 둔포면 신항리 62-5</td>\n",
       "    </tr>\n",
       "    <tr>\n",
       "      <th>45106</th>\n",
       "      <td>143</td>\n",
       "      <td>반찬용기 204 1칸 블랙 800개 1set(2박스)</td>\n",
       "      <td>1226.0</td>\n",
       "      <td>1</td>\n",
       "      <td>광주광역시 북구 송해로 7 (삼각동)</td>\n",
       "    </tr>\n",
       "    <tr>\n",
       "      <th>31640</th>\n",
       "      <td>109</td>\n",
       "      <td>70파이 다용도컵 세트 1호 소 70ml 백색 PS 3,000개 1set(2박스)</td>\n",
       "      <td>38.0</td>\n",
       "      <td>1</td>\n",
       "      <td>강원도 삼척시 남양동 93-5</td>\n",
       "    </tr>\n",
       "    <tr>\n",
       "      <th>6406</th>\n",
       "      <td>86</td>\n",
       "      <td>실링용기 1호 백색 1,350ml 800개 1박스</td>\n",
       "      <td>104.0</td>\n",
       "      <td>1</td>\n",
       "      <td>강원도 화천군 사내면 사창리 457-12</td>\n",
       "    </tr>\n",
       "    <tr>\n",
       "      <th>41062</th>\n",
       "      <td>73</td>\n",
       "      <td>실링기계 250 수동 식품포장 몰드교체형 몰드1개포함</td>\n",
       "      <td>1131.0</td>\n",
       "      <td>1</td>\n",
       "      <td>인천광역시 남동구 인하로507번길 63 (구월동)</td>\n",
       "    </tr>\n",
       "    <tr>\n",
       "      <th>3481</th>\n",
       "      <td>73</td>\n",
       "      <td>비닐봉투 맛난거들었쪙 대 백색 200개</td>\n",
       "      <td>1266.0</td>\n",
       "      <td>1</td>\n",
       "      <td>경상남도 진주시 새들말로 76-13 (평거동)</td>\n",
       "    </tr>\n",
       "    <tr>\n",
       "      <th>41061</th>\n",
       "      <td>73</td>\n",
       "      <td>PP 5칸 도시락용기 04 200개 1박스(작은 사이즈)</td>\n",
       "      <td>447.0</td>\n",
       "      <td>1</td>\n",
       "      <td>충청북도 충주시 중앙탑면 원앙4길 96</td>\n",
       "    </tr>\n",
       "    <tr>\n",
       "      <th>3479</th>\n",
       "      <td>64</td>\n",
       "      <td>170파이 원형 샐러드 3칸 150ml x 3 검정 400개 1set(2박스)</td>\n",
       "      <td>184.0</td>\n",
       "      <td>1</td>\n",
       "      <td>경상남도 창원시 의창구 도계동 403-6</td>\n",
       "    </tr>\n",
       "    <tr>\n",
       "      <th>37032</th>\n",
       "      <td>49</td>\n",
       "      <td>75파이 다용도컵 세트 3호 소 150ml 백색 PS 3,000개 1set(2박스)</td>\n",
       "      <td>40.0</td>\n",
       "      <td>1</td>\n",
       "      <td>인천광역시 부평구 삼산동 445-5</td>\n",
       "    </tr>\n",
       "    <tr>\n",
       "      <th>37035</th>\n",
       "      <td>47</td>\n",
       "      <td>비닐봉투 배달중 특대 백색 100개</td>\n",
       "      <td>1269.0</td>\n",
       "      <td>2</td>\n",
       "      <td>부산광역시 기장군 정관읍 구연2로 53</td>\n",
       "    </tr>\n",
       "  </tbody>\n",
       "</table>\n",
       "</div>"
      ],
      "text/plain": [
       "       재고준비기간                                             상품명    상품번호  수량  \\\n",
       "27922     155              92파이 아이스컵 뚜껑 돔형 구멍있음 PET 1000개 1박스   217.0   1   \n",
       "45106     143                   반찬용기 204 1칸 블랙 800개 1set(2박스)  1226.0   1   \n",
       "31640     109   70파이 다용도컵 세트 1호 소 70ml 백색 PS 3,000개 1set(2박스)    38.0   1   \n",
       "6406       86                     실링용기 1호 백색 1,350ml 800개 1박스   104.0   1   \n",
       "41062      73                   실링기계 250 수동 식품포장 몰드교체형 몰드1개포함  1131.0   1   \n",
       "3481       73                           비닐봉투 맛난거들었쪙 대 백색 200개  1266.0   1   \n",
       "41061      73                 PP 5칸 도시락용기 04 200개 1박스(작은 사이즈)   447.0   1   \n",
       "3479       64     170파이 원형 샐러드 3칸 150ml x 3 검정 400개 1set(2박스)   184.0   1   \n",
       "37032      49  75파이 다용도컵 세트 3호 소 150ml 백색 PS 3,000개 1set(2박스)    40.0   1   \n",
       "37035      47                             비닐봉투 배달중 특대 백색 100개  1269.0   2   \n",
       "\n",
       "                            수령인 주소  \n",
       "27922        충청남도 아산시 둔포면 신항리 62-5  \n",
       "45106         광주광역시 북구 송해로 7 (삼각동)  \n",
       "31640             강원도 삼척시 남양동 93-5  \n",
       "6406        강원도 화천군 사내면 사창리 457-12  \n",
       "41062  인천광역시 남동구 인하로507번길 63 (구월동)  \n",
       "3481     경상남도 진주시 새들말로 76-13 (평거동)  \n",
       "41061        충청북도 충주시 중앙탑면 원앙4길 96  \n",
       "3479        경상남도 창원시 의창구 도계동 403-6  \n",
       "37032          인천광역시 부평구 삼산동 445-5  \n",
       "37035        부산광역시 기장군 정관읍 구연2로 53  "
      ]
     },
     "execution_count": 216,
     "metadata": {},
     "output_type": "execute_result"
    }
   ],
   "source": [
    "dt1_ready.head(10)"
   ]
  },
  {
   "cell_type": "code",
   "execution_count": 217,
   "metadata": {},
   "outputs": [
    {
     "data": {
      "text/html": [
       "<div>\n",
       "<style scoped>\n",
       "    .dataframe tbody tr th:only-of-type {\n",
       "        vertical-align: middle;\n",
       "    }\n",
       "\n",
       "    .dataframe tbody tr th {\n",
       "        vertical-align: top;\n",
       "    }\n",
       "\n",
       "    .dataframe thead th {\n",
       "        text-align: right;\n",
       "    }\n",
       "</style>\n",
       "<table border=\"1\" class=\"dataframe\">\n",
       "  <thead>\n",
       "    <tr style=\"text-align: right;\">\n",
       "      <th></th>\n",
       "      <th>배송걸린기간</th>\n",
       "      <th>택배배송</th>\n",
       "      <th>재고준비기간</th>\n",
       "    </tr>\n",
       "  </thead>\n",
       "  <tbody>\n",
       "    <tr>\n",
       "      <th>146</th>\n",
       "      <td>5</td>\n",
       "      <td>5</td>\n",
       "      <td>0</td>\n",
       "    </tr>\n",
       "    <tr>\n",
       "      <th>917</th>\n",
       "      <td>4</td>\n",
       "      <td>3</td>\n",
       "      <td>1</td>\n",
       "    </tr>\n",
       "    <tr>\n",
       "      <th>1237</th>\n",
       "      <td>5</td>\n",
       "      <td>3</td>\n",
       "      <td>2</td>\n",
       "    </tr>\n",
       "    <tr>\n",
       "      <th>1461</th>\n",
       "      <td>4</td>\n",
       "      <td>3</td>\n",
       "      <td>1</td>\n",
       "    </tr>\n",
       "    <tr>\n",
       "      <th>2440</th>\n",
       "      <td>4</td>\n",
       "      <td>3</td>\n",
       "      <td>1</td>\n",
       "    </tr>\n",
       "    <tr>\n",
       "      <th>...</th>\n",
       "      <td>...</td>\n",
       "      <td>...</td>\n",
       "      <td>...</td>\n",
       "    </tr>\n",
       "    <tr>\n",
       "      <th>46210</th>\n",
       "      <td>10</td>\n",
       "      <td>9</td>\n",
       "      <td>1</td>\n",
       "    </tr>\n",
       "    <tr>\n",
       "      <th>46224</th>\n",
       "      <td>4</td>\n",
       "      <td>3</td>\n",
       "      <td>1</td>\n",
       "    </tr>\n",
       "    <tr>\n",
       "      <th>46308</th>\n",
       "      <td>2</td>\n",
       "      <td>1</td>\n",
       "      <td>1</td>\n",
       "    </tr>\n",
       "    <tr>\n",
       "      <th>46352</th>\n",
       "      <td>5</td>\n",
       "      <td>3</td>\n",
       "      <td>2</td>\n",
       "    </tr>\n",
       "    <tr>\n",
       "      <th>46528</th>\n",
       "      <td>3</td>\n",
       "      <td>3</td>\n",
       "      <td>0</td>\n",
       "    </tr>\n",
       "  </tbody>\n",
       "</table>\n",
       "<p>276 rows × 3 columns</p>\n",
       "</div>"
      ],
      "text/plain": [
       "       배송걸린기간  택배배송  재고준비기간\n",
       "146         5     5       0\n",
       "917         4     3       1\n",
       "1237        5     3       2\n",
       "1461        4     3       1\n",
       "2440        4     3       1\n",
       "...       ...   ...     ...\n",
       "46210      10     9       1\n",
       "46224       4     3       1\n",
       "46308       2     1       1\n",
       "46352       5     3       2\n",
       "46528       3     3       0\n",
       "\n",
       "[276 rows x 3 columns]"
      ]
     },
     "execution_count": 217,
     "metadata": {},
     "output_type": "execute_result"
    }
   ],
   "source": [
    "dt1[dt1['상품번호'] == 217][['배송걸린기간','택배배송','재고준비기간']]"
   ]
  },
  {
   "cell_type": "code",
   "execution_count": 218,
   "metadata": {},
   "outputs": [],
   "source": [
    "dt1['지역'] = dt1['수령인 주소'].dropna().apply(lambda x:' '.join(x.split(' ')[:2]))"
   ]
  },
  {
   "cell_type": "code",
   "execution_count": 219,
   "metadata": {},
   "outputs": [
    {
     "data": {
      "text/plain": [
       "0            경상남도 거제시\n",
       "1          서울특별시 동대문구\n",
       "2        세종특별자치시 호려울로\n",
       "3          부산광역시 부산진구\n",
       "4          부산광역시 해운대구\n",
       "             ...     \n",
       "46744       서울특별시 서초구\n",
       "46745        경기도 의정부시\n",
       "46746        대전광역시 서구\n",
       "46747        광주광역시 서구\n",
       "46748        충청남도 천안시\n",
       "Name: 지역, Length: 46749, dtype: object"
      ]
     },
     "execution_count": 219,
     "metadata": {},
     "output_type": "execute_result"
    }
   ],
   "source": [
    "dt1['지역']"
   ]
  },
  {
   "cell_type": "code",
   "execution_count": 220,
   "metadata": {},
   "outputs": [
    {
     "data": {
      "text/html": [
       "<div>\n",
       "<style scoped>\n",
       "    .dataframe tbody tr th:only-of-type {\n",
       "        vertical-align: middle;\n",
       "    }\n",
       "\n",
       "    .dataframe tbody tr th {\n",
       "        vertical-align: top;\n",
       "    }\n",
       "\n",
       "    .dataframe thead th {\n",
       "        text-align: right;\n",
       "    }\n",
       "</style>\n",
       "<table border=\"1\" class=\"dataframe\">\n",
       "  <thead>\n",
       "    <tr style=\"text-align: right;\">\n",
       "      <th></th>\n",
       "      <th>지역</th>\n",
       "      <th>주문일시</th>\n",
       "    </tr>\n",
       "  </thead>\n",
       "  <tbody>\n",
       "    <tr>\n",
       "      <th>0</th>\n",
       "      <td>강원 강릉시</td>\n",
       "      <td>1</td>\n",
       "    </tr>\n",
       "    <tr>\n",
       "      <th>1</th>\n",
       "      <td>강원도 강릉시</td>\n",
       "      <td>365</td>\n",
       "    </tr>\n",
       "    <tr>\n",
       "      <th>2</th>\n",
       "      <td>강원도 고성군</td>\n",
       "      <td>39</td>\n",
       "    </tr>\n",
       "    <tr>\n",
       "      <th>3</th>\n",
       "      <td>강원도 동해시</td>\n",
       "      <td>197</td>\n",
       "    </tr>\n",
       "    <tr>\n",
       "      <th>4</th>\n",
       "      <td>강원도 삼척시</td>\n",
       "      <td>87</td>\n",
       "    </tr>\n",
       "    <tr>\n",
       "      <th>...</th>\n",
       "      <td>...</td>\n",
       "      <td>...</td>\n",
       "    </tr>\n",
       "    <tr>\n",
       "      <th>264</th>\n",
       "      <td>충청북도 제천시</td>\n",
       "      <td>202</td>\n",
       "    </tr>\n",
       "    <tr>\n",
       "      <th>265</th>\n",
       "      <td>충청북도 증평군</td>\n",
       "      <td>176</td>\n",
       "    </tr>\n",
       "    <tr>\n",
       "      <th>266</th>\n",
       "      <td>충청북도 진천군</td>\n",
       "      <td>186</td>\n",
       "    </tr>\n",
       "    <tr>\n",
       "      <th>267</th>\n",
       "      <td>충청북도 청주시</td>\n",
       "      <td>730</td>\n",
       "    </tr>\n",
       "    <tr>\n",
       "      <th>268</th>\n",
       "      <td>충청북도 충주시</td>\n",
       "      <td>289</td>\n",
       "    </tr>\n",
       "  </tbody>\n",
       "</table>\n",
       "<p>269 rows × 2 columns</p>\n",
       "</div>"
      ],
      "text/plain": [
       "           지역  주문일시\n",
       "0      강원 강릉시     1\n",
       "1     강원도 강릉시   365\n",
       "2     강원도 고성군    39\n",
       "3     강원도 동해시   197\n",
       "4     강원도 삼척시    87\n",
       "..        ...   ...\n",
       "264  충청북도 제천시   202\n",
       "265  충청북도 증평군   176\n",
       "266  충청북도 진천군   186\n",
       "267  충청북도 청주시   730\n",
       "268  충청북도 충주시   289\n",
       "\n",
       "[269 rows x 2 columns]"
      ]
     },
     "execution_count": 220,
     "metadata": {},
     "output_type": "execute_result"
    }
   ],
   "source": [
    "dt1_cnt = dt1.groupby('지역', as_index='False')[['주문일시']].agg('count')\n",
    "dt1_cnt.reset_index(inplace=True)\n",
    "dt1_cnt"
   ]
  },
  {
   "cell_type": "code",
   "execution_count": 221,
   "metadata": {},
   "outputs": [
    {
     "data": {
      "text/html": [
       "<div>\n",
       "<style scoped>\n",
       "    .dataframe tbody tr th:only-of-type {\n",
       "        vertical-align: middle;\n",
       "    }\n",
       "\n",
       "    .dataframe tbody tr th {\n",
       "        vertical-align: top;\n",
       "    }\n",
       "\n",
       "    .dataframe thead th {\n",
       "        text-align: right;\n",
       "    }\n",
       "</style>\n",
       "<table border=\"1\" class=\"dataframe\">\n",
       "  <thead>\n",
       "    <tr style=\"text-align: right;\">\n",
       "      <th></th>\n",
       "      <th>지역</th>\n",
       "      <th>배송걸린기간</th>\n",
       "      <th>택배배송</th>\n",
       "      <th>재고준비기간</th>\n",
       "      <th>cnt</th>\n",
       "    </tr>\n",
       "  </thead>\n",
       "  <tbody>\n",
       "    <tr>\n",
       "      <th>0</th>\n",
       "      <td>강원 강릉시</td>\n",
       "      <td>8.000000</td>\n",
       "      <td>8.000000</td>\n",
       "      <td>0.000000</td>\n",
       "      <td>1</td>\n",
       "    </tr>\n",
       "    <tr>\n",
       "      <th>1</th>\n",
       "      <td>강원도 강릉시</td>\n",
       "      <td>5.041096</td>\n",
       "      <td>3.263014</td>\n",
       "      <td>1.778082</td>\n",
       "      <td>365</td>\n",
       "    </tr>\n",
       "    <tr>\n",
       "      <th>2</th>\n",
       "      <td>강원도 고성군</td>\n",
       "      <td>5.487179</td>\n",
       "      <td>3.564103</td>\n",
       "      <td>1.923077</td>\n",
       "      <td>39</td>\n",
       "    </tr>\n",
       "    <tr>\n",
       "      <th>3</th>\n",
       "      <td>강원도 동해시</td>\n",
       "      <td>4.309645</td>\n",
       "      <td>3.071066</td>\n",
       "      <td>1.238579</td>\n",
       "      <td>197</td>\n",
       "    </tr>\n",
       "    <tr>\n",
       "      <th>4</th>\n",
       "      <td>강원도 삼척시</td>\n",
       "      <td>6.356322</td>\n",
       "      <td>3.620690</td>\n",
       "      <td>2.735632</td>\n",
       "      <td>87</td>\n",
       "    </tr>\n",
       "    <tr>\n",
       "      <th>...</th>\n",
       "      <td>...</td>\n",
       "      <td>...</td>\n",
       "      <td>...</td>\n",
       "      <td>...</td>\n",
       "      <td>...</td>\n",
       "    </tr>\n",
       "    <tr>\n",
       "      <th>264</th>\n",
       "      <td>충청북도 제천시</td>\n",
       "      <td>5.084158</td>\n",
       "      <td>3.717822</td>\n",
       "      <td>1.366337</td>\n",
       "      <td>202</td>\n",
       "    </tr>\n",
       "    <tr>\n",
       "      <th>265</th>\n",
       "      <td>충청북도 증평군</td>\n",
       "      <td>4.244318</td>\n",
       "      <td>3.022727</td>\n",
       "      <td>1.221591</td>\n",
       "      <td>176</td>\n",
       "    </tr>\n",
       "    <tr>\n",
       "      <th>266</th>\n",
       "      <td>충청북도 진천군</td>\n",
       "      <td>4.639785</td>\n",
       "      <td>3.188172</td>\n",
       "      <td>1.451613</td>\n",
       "      <td>186</td>\n",
       "    </tr>\n",
       "    <tr>\n",
       "      <th>267</th>\n",
       "      <td>충청북도 청주시</td>\n",
       "      <td>4.264384</td>\n",
       "      <td>3.109589</td>\n",
       "      <td>1.154795</td>\n",
       "      <td>730</td>\n",
       "    </tr>\n",
       "    <tr>\n",
       "      <th>268</th>\n",
       "      <td>충청북도 충주시</td>\n",
       "      <td>5.038062</td>\n",
       "      <td>3.173010</td>\n",
       "      <td>1.865052</td>\n",
       "      <td>289</td>\n",
       "    </tr>\n",
       "  </tbody>\n",
       "</table>\n",
       "<p>269 rows × 5 columns</p>\n",
       "</div>"
      ],
      "text/plain": [
       "           지역    배송걸린기간      택배배송    재고준비기간  cnt\n",
       "0      강원 강릉시  8.000000  8.000000  0.000000    1\n",
       "1     강원도 강릉시  5.041096  3.263014  1.778082  365\n",
       "2     강원도 고성군  5.487179  3.564103  1.923077   39\n",
       "3     강원도 동해시  4.309645  3.071066  1.238579  197\n",
       "4     강원도 삼척시  6.356322  3.620690  2.735632   87\n",
       "..        ...       ...       ...       ...  ...\n",
       "264  충청북도 제천시  5.084158  3.717822  1.366337  202\n",
       "265  충청북도 증평군  4.244318  3.022727  1.221591  176\n",
       "266  충청북도 진천군  4.639785  3.188172  1.451613  186\n",
       "267  충청북도 청주시  4.264384  3.109589  1.154795  730\n",
       "268  충청북도 충주시  5.038062  3.173010  1.865052  289\n",
       "\n",
       "[269 rows x 5 columns]"
      ]
     },
     "execution_count": 221,
     "metadata": {},
     "output_type": "execute_result"
    }
   ],
   "source": [
    "dt1_days = dt1.groupby('지역', as_index='False')[['배송걸린기간','택배배송','재고준비기간']].agg('mean')\n",
    "dt1_days.reset_index(inplace=True)\n",
    "dt1_days['cnt'] = dt1_cnt['주문일시']\n",
    "dt1_days"
   ]
  },
  {
   "cell_type": "code",
   "execution_count": 222,
   "metadata": {},
   "outputs": [
    {
     "data": {
      "text/html": [
       "<div>\n",
       "<style scoped>\n",
       "    .dataframe tbody tr th:only-of-type {\n",
       "        vertical-align: middle;\n",
       "    }\n",
       "\n",
       "    .dataframe tbody tr th {\n",
       "        vertical-align: top;\n",
       "    }\n",
       "\n",
       "    .dataframe thead th {\n",
       "        text-align: right;\n",
       "    }\n",
       "</style>\n",
       "<table border=\"1\" class=\"dataframe\">\n",
       "  <thead>\n",
       "    <tr style=\"text-align: right;\">\n",
       "      <th></th>\n",
       "      <th>지역</th>\n",
       "      <th>배송걸린기간</th>\n",
       "      <th>택배배송</th>\n",
       "      <th>재고준비기간</th>\n",
       "      <th>cnt</th>\n",
       "    </tr>\n",
       "  </thead>\n",
       "  <tbody>\n",
       "    <tr>\n",
       "      <th>179</th>\n",
       "      <td>세종특별자치시 연서면</td>\n",
       "      <td>9.111111</td>\n",
       "      <td>3.444444</td>\n",
       "      <td>5.666667</td>\n",
       "      <td>9</td>\n",
       "    </tr>\n",
       "    <tr>\n",
       "      <th>77</th>\n",
       "      <td>경상북도 고령군</td>\n",
       "      <td>6.750000</td>\n",
       "      <td>3.000000</td>\n",
       "      <td>3.750000</td>\n",
       "      <td>4</td>\n",
       "    </tr>\n",
       "    <tr>\n",
       "      <th>17</th>\n",
       "      <td>강원도 화천군</td>\n",
       "      <td>6.972973</td>\n",
       "      <td>3.297297</td>\n",
       "      <td>3.675676</td>\n",
       "      <td>37</td>\n",
       "    </tr>\n",
       "    <tr>\n",
       "      <th>223</th>\n",
       "      <td>전라남도 함평군</td>\n",
       "      <td>6.571429</td>\n",
       "      <td>3.000000</td>\n",
       "      <td>3.571429</td>\n",
       "      <td>7</td>\n",
       "    </tr>\n",
       "    <tr>\n",
       "      <th>236</th>\n",
       "      <td>전라북도 장수군</td>\n",
       "      <td>6.125000</td>\n",
       "      <td>3.000000</td>\n",
       "      <td>3.125000</td>\n",
       "      <td>8</td>\n",
       "    </tr>\n",
       "    <tr>\n",
       "      <th>...</th>\n",
       "      <td>...</td>\n",
       "      <td>...</td>\n",
       "      <td>...</td>\n",
       "      <td>...</td>\n",
       "      <td>...</td>\n",
       "    </tr>\n",
       "    <tr>\n",
       "      <th>191</th>\n",
       "      <td>인천 부평구</td>\n",
       "      <td>9.000000</td>\n",
       "      <td>9.000000</td>\n",
       "      <td>0.000000</td>\n",
       "      <td>1</td>\n",
       "    </tr>\n",
       "    <tr>\n",
       "      <th>192</th>\n",
       "      <td>인천 중구</td>\n",
       "      <td>7.000000</td>\n",
       "      <td>7.000000</td>\n",
       "      <td>0.000000</td>\n",
       "      <td>1</td>\n",
       "    </tr>\n",
       "    <tr>\n",
       "      <th>138</th>\n",
       "      <td>서울 용산구</td>\n",
       "      <td>8.000000</td>\n",
       "      <td>8.000000</td>\n",
       "      <td>0.000000</td>\n",
       "      <td>1</td>\n",
       "    </tr>\n",
       "    <tr>\n",
       "      <th>173</th>\n",
       "      <td>세종특별자치시 만남로</td>\n",
       "      <td>3.000000</td>\n",
       "      <td>3.000000</td>\n",
       "      <td>0.000000</td>\n",
       "      <td>1</td>\n",
       "    </tr>\n",
       "    <tr>\n",
       "      <th>0</th>\n",
       "      <td>강원 강릉시</td>\n",
       "      <td>8.000000</td>\n",
       "      <td>8.000000</td>\n",
       "      <td>0.000000</td>\n",
       "      <td>1</td>\n",
       "    </tr>\n",
       "  </tbody>\n",
       "</table>\n",
       "<p>269 rows × 5 columns</p>\n",
       "</div>"
      ],
      "text/plain": [
       "              지역    배송걸린기간      택배배송    재고준비기간  cnt\n",
       "179  세종특별자치시 연서면  9.111111  3.444444  5.666667    9\n",
       "77      경상북도 고령군  6.750000  3.000000  3.750000    4\n",
       "17       강원도 화천군  6.972973  3.297297  3.675676   37\n",
       "223     전라남도 함평군  6.571429  3.000000  3.571429    7\n",
       "236     전라북도 장수군  6.125000  3.000000  3.125000    8\n",
       "..           ...       ...       ...       ...  ...\n",
       "191       인천 부평구  9.000000  9.000000  0.000000    1\n",
       "192        인천 중구  7.000000  7.000000  0.000000    1\n",
       "138       서울 용산구  8.000000  8.000000  0.000000    1\n",
       "173  세종특별자치시 만남로  3.000000  3.000000  0.000000    1\n",
       "0         강원 강릉시  8.000000  8.000000  0.000000    1\n",
       "\n",
       "[269 rows x 5 columns]"
      ]
     },
     "execution_count": 222,
     "metadata": {},
     "output_type": "execute_result"
    }
   ],
   "source": [
    "dt1_days.sort_values(by = '재고준비기간', ascending=False)"
   ]
  },
  {
   "cell_type": "code",
   "execution_count": 223,
   "metadata": {},
   "outputs": [
    {
     "data": {
      "text/html": [
       "<div>\n",
       "<style scoped>\n",
       "    .dataframe tbody tr th:only-of-type {\n",
       "        vertical-align: middle;\n",
       "    }\n",
       "\n",
       "    .dataframe tbody tr th {\n",
       "        vertical-align: top;\n",
       "    }\n",
       "\n",
       "    .dataframe thead th {\n",
       "        text-align: right;\n",
       "    }\n",
       "</style>\n",
       "<table border=\"1\" class=\"dataframe\">\n",
       "  <thead>\n",
       "    <tr style=\"text-align: right;\">\n",
       "      <th></th>\n",
       "      <th>지역</th>\n",
       "      <th>배송걸린기간</th>\n",
       "      <th>택배배송</th>\n",
       "      <th>재고준비기간</th>\n",
       "      <th>cnt</th>\n",
       "    </tr>\n",
       "  </thead>\n",
       "  <tbody>\n",
       "    <tr>\n",
       "      <th>56</th>\n",
       "      <td>경북 경주시</td>\n",
       "      <td>13.000000</td>\n",
       "      <td>12.000000</td>\n",
       "      <td>1.000000</td>\n",
       "      <td>1</td>\n",
       "    </tr>\n",
       "    <tr>\n",
       "      <th>135</th>\n",
       "      <td>서울 강서구</td>\n",
       "      <td>12.000000</td>\n",
       "      <td>11.000000</td>\n",
       "      <td>1.000000</td>\n",
       "      <td>1</td>\n",
       "    </tr>\n",
       "    <tr>\n",
       "      <th>117</th>\n",
       "      <td>부산 동구</td>\n",
       "      <td>10.000000</td>\n",
       "      <td>9.000000</td>\n",
       "      <td>1.000000</td>\n",
       "      <td>1</td>\n",
       "    </tr>\n",
       "    <tr>\n",
       "      <th>191</th>\n",
       "      <td>인천 부평구</td>\n",
       "      <td>9.000000</td>\n",
       "      <td>9.000000</td>\n",
       "      <td>0.000000</td>\n",
       "      <td>1</td>\n",
       "    </tr>\n",
       "    <tr>\n",
       "      <th>118</th>\n",
       "      <td>부산 부산진구</td>\n",
       "      <td>10.000000</td>\n",
       "      <td>9.000000</td>\n",
       "      <td>1.000000</td>\n",
       "      <td>1</td>\n",
       "    </tr>\n",
       "    <tr>\n",
       "      <th>...</th>\n",
       "      <td>...</td>\n",
       "      <td>...</td>\n",
       "      <td>...</td>\n",
       "      <td>...</td>\n",
       "      <td>...</td>\n",
       "    </tr>\n",
       "    <tr>\n",
       "      <th>245</th>\n",
       "      <td>충청남도 금산군</td>\n",
       "      <td>5.454545</td>\n",
       "      <td>2.818182</td>\n",
       "      <td>2.636364</td>\n",
       "      <td>33</td>\n",
       "    </tr>\n",
       "    <tr>\n",
       "      <th>261</th>\n",
       "      <td>충청북도 영동군</td>\n",
       "      <td>4.230769</td>\n",
       "      <td>2.769231</td>\n",
       "      <td>1.461538</td>\n",
       "      <td>13</td>\n",
       "    </tr>\n",
       "    <tr>\n",
       "      <th>172</th>\n",
       "      <td>세종특별자치시 마음로</td>\n",
       "      <td>4.400000</td>\n",
       "      <td>2.500000</td>\n",
       "      <td>1.900000</td>\n",
       "      <td>10</td>\n",
       "    </tr>\n",
       "    <tr>\n",
       "      <th>136</th>\n",
       "      <td>서울 관악구</td>\n",
       "      <td>3.000000</td>\n",
       "      <td>1.666667</td>\n",
       "      <td>1.333333</td>\n",
       "      <td>3</td>\n",
       "    </tr>\n",
       "    <tr>\n",
       "      <th>54</th>\n",
       "      <td>경남 밀양시</td>\n",
       "      <td>2.000000</td>\n",
       "      <td>1.000000</td>\n",
       "      <td>1.000000</td>\n",
       "      <td>1</td>\n",
       "    </tr>\n",
       "  </tbody>\n",
       "</table>\n",
       "<p>269 rows × 5 columns</p>\n",
       "</div>"
      ],
      "text/plain": [
       "              지역     배송걸린기간       택배배송    재고준비기간  cnt\n",
       "56        경북 경주시  13.000000  12.000000  1.000000    1\n",
       "135       서울 강서구  12.000000  11.000000  1.000000    1\n",
       "117        부산 동구  10.000000   9.000000  1.000000    1\n",
       "191       인천 부평구   9.000000   9.000000  0.000000    1\n",
       "118      부산 부산진구  10.000000   9.000000  1.000000    1\n",
       "..           ...        ...        ...       ...  ...\n",
       "245     충청남도 금산군   5.454545   2.818182  2.636364   33\n",
       "261     충청북도 영동군   4.230769   2.769231  1.461538   13\n",
       "172  세종특별자치시 마음로   4.400000   2.500000  1.900000   10\n",
       "136       서울 관악구   3.000000   1.666667  1.333333    3\n",
       "54        경남 밀양시   2.000000   1.000000  1.000000    1\n",
       "\n",
       "[269 rows x 5 columns]"
      ]
     },
     "execution_count": 223,
     "metadata": {},
     "output_type": "execute_result"
    }
   ],
   "source": [
    "dt1_days.sort_values(by = '택배배송', ascending=False)"
   ]
  },
  {
   "cell_type": "code",
   "execution_count": 224,
   "metadata": {},
   "outputs": [
    {
     "data": {
      "text/plain": [
       "<AxesSubplot: xlabel='지역', ylabel='배송걸린기간'>"
      ]
     },
     "execution_count": 224,
     "metadata": {},
     "output_type": "execute_result"
    },
    {
     "data": {
      "image/png": "[encoded data removed]",
      "text/plain": [
       "<Figure size 640x480 with 1 Axes>"
      ]
     },
     "metadata": {},
     "output_type": "display_data"
    }
   ],
   "source": [
    "sns.barplot(data=dt1_days, x='지역', y='배송걸린기간')"
   ]
  },
  {
   "cell_type": "code",
   "execution_count": 225,
   "metadata": {},
   "outputs": [
    {
     "data": {
      "text/html": [
       "<div>\n",
       "<style scoped>\n",
       "    .dataframe tbody tr th:only-of-type {\n",
       "        vertical-align: middle;\n",
       "    }\n",
       "\n",
       "    .dataframe tbody tr th {\n",
       "        vertical-align: top;\n",
       "    }\n",
       "\n",
       "    .dataframe thead th {\n",
       "        text-align: right;\n",
       "    }\n",
       "</style>\n",
       "<table border=\"1\" class=\"dataframe\">\n",
       "  <thead>\n",
       "    <tr style=\"text-align: right;\">\n",
       "      <th></th>\n",
       "      <th>지역</th>\n",
       "      <th>배송걸린기간</th>\n",
       "      <th>택배배송</th>\n",
       "      <th>재고준비기간</th>\n",
       "      <th>cnt</th>\n",
       "    </tr>\n",
       "  </thead>\n",
       "  <tbody>\n",
       "    <tr>\n",
       "      <th>19</th>\n",
       "      <td>경기 고양시</td>\n",
       "      <td>9.000000</td>\n",
       "      <td>7.403846</td>\n",
       "      <td>1.596154</td>\n",
       "      <td>52</td>\n",
       "    </tr>\n",
       "    <tr>\n",
       "      <th>179</th>\n",
       "      <td>세종특별자치시 연서면</td>\n",
       "      <td>9.111111</td>\n",
       "      <td>3.444444</td>\n",
       "      <td>5.666667</td>\n",
       "      <td>9</td>\n",
       "    </tr>\n",
       "    <tr>\n",
       "      <th>97</th>\n",
       "      <td>광주 북구</td>\n",
       "      <td>9.000000</td>\n",
       "      <td>7.833333</td>\n",
       "      <td>1.166667</td>\n",
       "      <td>6</td>\n",
       "    </tr>\n",
       "    <tr>\n",
       "      <th>242</th>\n",
       "      <td>충북 청주시</td>\n",
       "      <td>9.250000</td>\n",
       "      <td>8.250000</td>\n",
       "      <td>1.000000</td>\n",
       "      <td>4</td>\n",
       "    </tr>\n",
       "    <tr>\n",
       "      <th>20</th>\n",
       "      <td>경기 수원시</td>\n",
       "      <td>9.250000</td>\n",
       "      <td>8.750000</td>\n",
       "      <td>0.500000</td>\n",
       "      <td>4</td>\n",
       "    </tr>\n",
       "    <tr>\n",
       "      <th>42</th>\n",
       "      <td>경기도 연천군</td>\n",
       "      <td>8.250000</td>\n",
       "      <td>7.250000</td>\n",
       "      <td>1.000000</td>\n",
       "      <td>4</td>\n",
       "    </tr>\n",
       "    <tr>\n",
       "      <th>169</th>\n",
       "      <td>세종특별자치시 달빛로</td>\n",
       "      <td>9.000000</td>\n",
       "      <td>9.000000</td>\n",
       "      <td>0.000000</td>\n",
       "      <td>4</td>\n",
       "    </tr>\n",
       "    <tr>\n",
       "      <th>180</th>\n",
       "      <td>세종특별자치시 장군면</td>\n",
       "      <td>9.000000</td>\n",
       "      <td>8.000000</td>\n",
       "      <td>1.000000</td>\n",
       "      <td>3</td>\n",
       "    </tr>\n",
       "    <tr>\n",
       "      <th>98</th>\n",
       "      <td>광주 서구</td>\n",
       "      <td>10.000000</td>\n",
       "      <td>8.333333</td>\n",
       "      <td>1.666667</td>\n",
       "      <td>3</td>\n",
       "    </tr>\n",
       "    <tr>\n",
       "      <th>138</th>\n",
       "      <td>서울 용산구</td>\n",
       "      <td>8.000000</td>\n",
       "      <td>8.000000</td>\n",
       "      <td>0.000000</td>\n",
       "      <td>1</td>\n",
       "    </tr>\n",
       "    <tr>\n",
       "      <th>191</th>\n",
       "      <td>인천 부평구</td>\n",
       "      <td>9.000000</td>\n",
       "      <td>9.000000</td>\n",
       "      <td>0.000000</td>\n",
       "      <td>1</td>\n",
       "    </tr>\n",
       "    <tr>\n",
       "      <th>168</th>\n",
       "      <td>세종특별자치시 다솜1로</td>\n",
       "      <td>8.000000</td>\n",
       "      <td>7.000000</td>\n",
       "      <td>1.000000</td>\n",
       "      <td>1</td>\n",
       "    </tr>\n",
       "    <tr>\n",
       "      <th>0</th>\n",
       "      <td>강원 강릉시</td>\n",
       "      <td>8.000000</td>\n",
       "      <td>8.000000</td>\n",
       "      <td>0.000000</td>\n",
       "      <td>1</td>\n",
       "    </tr>\n",
       "    <tr>\n",
       "      <th>137</th>\n",
       "      <td>서울 광진구</td>\n",
       "      <td>8.000000</td>\n",
       "      <td>8.000000</td>\n",
       "      <td>0.000000</td>\n",
       "      <td>1</td>\n",
       "    </tr>\n",
       "    <tr>\n",
       "      <th>135</th>\n",
       "      <td>서울 강서구</td>\n",
       "      <td>12.000000</td>\n",
       "      <td>11.000000</td>\n",
       "      <td>1.000000</td>\n",
       "      <td>1</td>\n",
       "    </tr>\n",
       "    <tr>\n",
       "      <th>117</th>\n",
       "      <td>부산 동구</td>\n",
       "      <td>10.000000</td>\n",
       "      <td>9.000000</td>\n",
       "      <td>1.000000</td>\n",
       "      <td>1</td>\n",
       "    </tr>\n",
       "    <tr>\n",
       "      <th>56</th>\n",
       "      <td>경북 경주시</td>\n",
       "      <td>13.000000</td>\n",
       "      <td>12.000000</td>\n",
       "      <td>1.000000</td>\n",
       "      <td>1</td>\n",
       "    </tr>\n",
       "    <tr>\n",
       "      <th>55</th>\n",
       "      <td>경남 하동군</td>\n",
       "      <td>9.000000</td>\n",
       "      <td>8.000000</td>\n",
       "      <td>1.000000</td>\n",
       "      <td>1</td>\n",
       "    </tr>\n",
       "    <tr>\n",
       "      <th>21</th>\n",
       "      <td>경기 포천시</td>\n",
       "      <td>9.000000</td>\n",
       "      <td>8.000000</td>\n",
       "      <td>1.000000</td>\n",
       "      <td>1</td>\n",
       "    </tr>\n",
       "    <tr>\n",
       "      <th>118</th>\n",
       "      <td>부산 부산진구</td>\n",
       "      <td>10.000000</td>\n",
       "      <td>9.000000</td>\n",
       "      <td>1.000000</td>\n",
       "      <td>1</td>\n",
       "    </tr>\n",
       "  </tbody>\n",
       "</table>\n",
       "</div>"
      ],
      "text/plain": [
       "               지역     배송걸린기간       택배배송    재고준비기간  cnt\n",
       "19         경기 고양시   9.000000   7.403846  1.596154   52\n",
       "179   세종특별자치시 연서면   9.111111   3.444444  5.666667    9\n",
       "97          광주 북구   9.000000   7.833333  1.166667    6\n",
       "242        충북 청주시   9.250000   8.250000  1.000000    4\n",
       "20         경기 수원시   9.250000   8.750000  0.500000    4\n",
       "42        경기도 연천군   8.250000   7.250000  1.000000    4\n",
       "169   세종특별자치시 달빛로   9.000000   9.000000  0.000000    4\n",
       "180   세종특별자치시 장군면   9.000000   8.000000  1.000000    3\n",
       "98          광주 서구  10.000000   8.333333  1.666667    3\n",
       "138        서울 용산구   8.000000   8.000000  0.000000    1\n",
       "191        인천 부평구   9.000000   9.000000  0.000000    1\n",
       "168  세종특별자치시 다솜1로   8.000000   7.000000  1.000000    1\n",
       "0          강원 강릉시   8.000000   8.000000  0.000000    1\n",
       "137        서울 광진구   8.000000   8.000000  0.000000    1\n",
       "135        서울 강서구  12.000000  11.000000  1.000000    1\n",
       "117         부산 동구  10.000000   9.000000  1.000000    1\n",
       "56         경북 경주시  13.000000  12.000000  1.000000    1\n",
       "55         경남 하동군   9.000000   8.000000  1.000000    1\n",
       "21         경기 포천시   9.000000   8.000000  1.000000    1\n",
       "118       부산 부산진구  10.000000   9.000000  1.000000    1"
      ]
     },
     "execution_count": 225,
     "metadata": {},
     "output_type": "execute_result"
    }
   ],
   "source": [
    "dt1_late = dt1_days[dt1_days['배송걸린기간'] > 7]\n",
    "dt1_late.sort_values(by='cnt', ascending=False)"
   ]
  },
  {
   "cell_type": "code",
   "execution_count": 226,
   "metadata": {},
   "outputs": [
    {
     "data": {
      "text/html": [
       "<div>\n",
       "<style scoped>\n",
       "    .dataframe tbody tr th:only-of-type {\n",
       "        vertical-align: middle;\n",
       "    }\n",
       "\n",
       "    .dataframe tbody tr th {\n",
       "        vertical-align: top;\n",
       "    }\n",
       "\n",
       "    .dataframe thead th {\n",
       "        text-align: right;\n",
       "    }\n",
       "</style>\n",
       "<table border=\"1\" class=\"dataframe\">\n",
       "  <thead>\n",
       "    <tr style=\"text-align: right;\">\n",
       "      <th></th>\n",
       "      <th>지역</th>\n",
       "      <th>배송걸린기간</th>\n",
       "      <th>택배배송</th>\n",
       "      <th>재고준비기간</th>\n",
       "      <th>cnt</th>\n",
       "    </tr>\n",
       "  </thead>\n",
       "  <tbody>\n",
       "    <tr>\n",
       "      <th>34</th>\n",
       "      <td>경기도 수원시</td>\n",
       "      <td>4.530558</td>\n",
       "      <td>3.294951</td>\n",
       "      <td>1.235607</td>\n",
       "      <td>1129</td>\n",
       "    </tr>\n",
       "    <tr>\n",
       "      <th>69</th>\n",
       "      <td>경상남도 창원시</td>\n",
       "      <td>4.510295</td>\n",
       "      <td>3.069830</td>\n",
       "      <td>1.440466</td>\n",
       "      <td>1117</td>\n",
       "    </tr>\n",
       "    <tr>\n",
       "      <th>60</th>\n",
       "      <td>경상남도 김해시</td>\n",
       "      <td>4.748603</td>\n",
       "      <td>3.141899</td>\n",
       "      <td>1.606704</td>\n",
       "      <td>895</td>\n",
       "    </tr>\n",
       "    <tr>\n",
       "      <th>57</th>\n",
       "      <td>경상남도 거제시</td>\n",
       "      <td>4.363636</td>\n",
       "      <td>3.030682</td>\n",
       "      <td>1.332955</td>\n",
       "      <td>880</td>\n",
       "    </tr>\n",
       "    <tr>\n",
       "      <th>44</th>\n",
       "      <td>경기도 용인시</td>\n",
       "      <td>4.681648</td>\n",
       "      <td>3.237203</td>\n",
       "      <td>1.444444</td>\n",
       "      <td>801</td>\n",
       "    </tr>\n",
       "    <tr>\n",
       "      <th>...</th>\n",
       "      <td>...</td>\n",
       "      <td>...</td>\n",
       "      <td>...</td>\n",
       "      <td>...</td>\n",
       "      <td>...</td>\n",
       "    </tr>\n",
       "    <tr>\n",
       "      <th>168</th>\n",
       "      <td>세종특별자치시 다솜1로</td>\n",
       "      <td>8.000000</td>\n",
       "      <td>7.000000</td>\n",
       "      <td>1.000000</td>\n",
       "      <td>1</td>\n",
       "    </tr>\n",
       "    <tr>\n",
       "      <th>173</th>\n",
       "      <td>세종특별자치시 만남로</td>\n",
       "      <td>3.000000</td>\n",
       "      <td>3.000000</td>\n",
       "      <td>0.000000</td>\n",
       "      <td>1</td>\n",
       "    </tr>\n",
       "    <tr>\n",
       "      <th>191</th>\n",
       "      <td>인천 부평구</td>\n",
       "      <td>9.000000</td>\n",
       "      <td>9.000000</td>\n",
       "      <td>0.000000</td>\n",
       "      <td>1</td>\n",
       "    </tr>\n",
       "    <tr>\n",
       "      <th>192</th>\n",
       "      <td>인천 중구</td>\n",
       "      <td>7.000000</td>\n",
       "      <td>7.000000</td>\n",
       "      <td>0.000000</td>\n",
       "      <td>1</td>\n",
       "    </tr>\n",
       "    <tr>\n",
       "      <th>0</th>\n",
       "      <td>강원 강릉시</td>\n",
       "      <td>8.000000</td>\n",
       "      <td>8.000000</td>\n",
       "      <td>0.000000</td>\n",
       "      <td>1</td>\n",
       "    </tr>\n",
       "  </tbody>\n",
       "</table>\n",
       "<p>269 rows × 5 columns</p>\n",
       "</div>"
      ],
      "text/plain": [
       "               지역    배송걸린기간      택배배송    재고준비기간   cnt\n",
       "34        경기도 수원시  4.530558  3.294951  1.235607  1129\n",
       "69       경상남도 창원시  4.510295  3.069830  1.440466  1117\n",
       "60       경상남도 김해시  4.748603  3.141899  1.606704   895\n",
       "57       경상남도 거제시  4.363636  3.030682  1.332955   880\n",
       "44        경기도 용인시  4.681648  3.237203  1.444444   801\n",
       "..            ...       ...       ...       ...   ...\n",
       "168  세종특별자치시 다솜1로  8.000000  7.000000  1.000000     1\n",
       "173   세종특별자치시 만남로  3.000000  3.000000  0.000000     1\n",
       "191        인천 부평구  9.000000  9.000000  0.000000     1\n",
       "192         인천 중구  7.000000  7.000000  0.000000     1\n",
       "0          강원 강릉시  8.000000  8.000000  0.000000     1\n",
       "\n",
       "[269 rows x 5 columns]"
      ]
     },
     "execution_count": 226,
     "metadata": {},
     "output_type": "execute_result"
    }
   ],
   "source": [
    "dt1_days.sort_values(by='cnt', ascending=False)"
   ]
  },
  {
   "cell_type": "code",
   "execution_count": 228,
   "metadata": {},
   "outputs": [],
   "source": [
    "def Age_MP(x):\n",
    "    if 10<= x <20:\n",
    "        return \"10대\"\n",
    "    if 20<= x <30:\n",
    "        return \"20대\"\n",
    "    if 30<= x <40:\n",
    "        return \"30대\"\n",
    "    if 40<= x <50:\n",
    "        return \"40대\"\n",
    "    if 50<= x <60:\n",
    "        return \"50대\"\n",
    "    if 60<= x <70:\n",
    "        return \"60대\"\n",
    "    if 70<= x <80:\n",
    "        return \"70대\"\n",
    "    if 80<= x <90:\n",
    "        return \"80대\"\n",
    "    if 90<= x <100:\n",
    "        return \"90대\"\n",
    "\n",
    "dt2['나이대'] = dt2['나이'].apply(Age_MP)\n",
    "dt2['나이대'] = dt2['나이대'].astype(str)"
   ]
  },
  {
   "cell_type": "code",
   "execution_count": 229,
   "metadata": {},
   "outputs": [
    {
     "data": {
      "text/html": [
       "<div>\n",
       "<style scoped>\n",
       "    .dataframe tbody tr th:only-of-type {\n",
       "        vertical-align: middle;\n",
       "    }\n",
       "\n",
       "    .dataframe tbody tr th {\n",
       "        vertical-align: top;\n",
       "    }\n",
       "\n",
       "    .dataframe thead th {\n",
       "        text-align: right;\n",
       "    }\n",
       "</style>\n",
       "<table border=\"1\" class=\"dataframe\">\n",
       "  <thead>\n",
       "    <tr style=\"text-align: right;\">\n",
       "      <th></th>\n",
       "      <th>나이대</th>\n",
       "      <th>유입경로</th>\n",
       "      <th>count</th>\n",
       "    </tr>\n",
       "  </thead>\n",
       "  <tbody>\n",
       "    <tr>\n",
       "      <th>0</th>\n",
       "      <td>20대</td>\n",
       "      <td>기타</td>\n",
       "      <td>17</td>\n",
       "    </tr>\n",
       "    <tr>\n",
       "      <th>1</th>\n",
       "      <td>20대</td>\n",
       "      <td>유튜브광고</td>\n",
       "      <td>260</td>\n",
       "    </tr>\n",
       "    <tr>\n",
       "      <th>2</th>\n",
       "      <td>20대</td>\n",
       "      <td>이메일광고</td>\n",
       "      <td>162</td>\n",
       "    </tr>\n",
       "    <tr>\n",
       "      <th>3</th>\n",
       "      <td>20대</td>\n",
       "      <td>인터넷검색</td>\n",
       "      <td>12</td>\n",
       "    </tr>\n",
       "    <tr>\n",
       "      <th>4</th>\n",
       "      <td>20대</td>\n",
       "      <td>잡지광고</td>\n",
       "      <td>39</td>\n",
       "    </tr>\n",
       "    <tr>\n",
       "      <th>5</th>\n",
       "      <td>20대</td>\n",
       "      <td>전단지광고</td>\n",
       "      <td>49</td>\n",
       "    </tr>\n",
       "    <tr>\n",
       "      <th>6</th>\n",
       "      <td>20대</td>\n",
       "      <td>지인추천</td>\n",
       "      <td>23</td>\n",
       "    </tr>\n",
       "    <tr>\n",
       "      <th>7</th>\n",
       "      <td>20대</td>\n",
       "      <td>카카오톡광고</td>\n",
       "      <td>76</td>\n",
       "    </tr>\n",
       "    <tr>\n",
       "      <th>8</th>\n",
       "      <td>30대</td>\n",
       "      <td>SNS광고</td>\n",
       "      <td>43</td>\n",
       "    </tr>\n",
       "    <tr>\n",
       "      <th>9</th>\n",
       "      <td>30대</td>\n",
       "      <td>기타</td>\n",
       "      <td>39</td>\n",
       "    </tr>\n",
       "    <tr>\n",
       "      <th>10</th>\n",
       "      <td>30대</td>\n",
       "      <td>신문광고</td>\n",
       "      <td>28</td>\n",
       "    </tr>\n",
       "    <tr>\n",
       "      <th>11</th>\n",
       "      <td>30대</td>\n",
       "      <td>유튜브광고</td>\n",
       "      <td>595</td>\n",
       "    </tr>\n",
       "    <tr>\n",
       "      <th>12</th>\n",
       "      <td>30대</td>\n",
       "      <td>이메일광고</td>\n",
       "      <td>449</td>\n",
       "    </tr>\n",
       "    <tr>\n",
       "      <th>13</th>\n",
       "      <td>30대</td>\n",
       "      <td>인터넷검색</td>\n",
       "      <td>44</td>\n",
       "    </tr>\n",
       "    <tr>\n",
       "      <th>14</th>\n",
       "      <td>30대</td>\n",
       "      <td>인터넷기사광고</td>\n",
       "      <td>8</td>\n",
       "    </tr>\n",
       "    <tr>\n",
       "      <th>15</th>\n",
       "      <td>30대</td>\n",
       "      <td>잡지광고</td>\n",
       "      <td>63</td>\n",
       "    </tr>\n",
       "    <tr>\n",
       "      <th>16</th>\n",
       "      <td>30대</td>\n",
       "      <td>전단지광고</td>\n",
       "      <td>145</td>\n",
       "    </tr>\n",
       "    <tr>\n",
       "      <th>17</th>\n",
       "      <td>30대</td>\n",
       "      <td>지인추천</td>\n",
       "      <td>54</td>\n",
       "    </tr>\n",
       "    <tr>\n",
       "      <th>18</th>\n",
       "      <td>30대</td>\n",
       "      <td>카카오톡광고</td>\n",
       "      <td>106</td>\n",
       "    </tr>\n",
       "    <tr>\n",
       "      <th>19</th>\n",
       "      <td>40대</td>\n",
       "      <td>SNS광고</td>\n",
       "      <td>1055</td>\n",
       "    </tr>\n",
       "    <tr>\n",
       "      <th>20</th>\n",
       "      <td>40대</td>\n",
       "      <td>기타</td>\n",
       "      <td>203</td>\n",
       "    </tr>\n",
       "    <tr>\n",
       "      <th>21</th>\n",
       "      <td>40대</td>\n",
       "      <td>블로그광고</td>\n",
       "      <td>1009</td>\n",
       "    </tr>\n",
       "    <tr>\n",
       "      <th>22</th>\n",
       "      <td>40대</td>\n",
       "      <td>유튜브광고</td>\n",
       "      <td>89</td>\n",
       "    </tr>\n",
       "    <tr>\n",
       "      <th>23</th>\n",
       "      <td>40대</td>\n",
       "      <td>인터넷검색</td>\n",
       "      <td>356</td>\n",
       "    </tr>\n",
       "    <tr>\n",
       "      <th>24</th>\n",
       "      <td>40대</td>\n",
       "      <td>인터넷기사광고</td>\n",
       "      <td>124</td>\n",
       "    </tr>\n",
       "    <tr>\n",
       "      <th>25</th>\n",
       "      <td>40대</td>\n",
       "      <td>잡지광고</td>\n",
       "      <td>376</td>\n",
       "    </tr>\n",
       "    <tr>\n",
       "      <th>26</th>\n",
       "      <td>40대</td>\n",
       "      <td>전단지광고</td>\n",
       "      <td>650</td>\n",
       "    </tr>\n",
       "    <tr>\n",
       "      <th>27</th>\n",
       "      <td>40대</td>\n",
       "      <td>지인추천</td>\n",
       "      <td>279</td>\n",
       "    </tr>\n",
       "    <tr>\n",
       "      <th>28</th>\n",
       "      <td>50대</td>\n",
       "      <td>기타</td>\n",
       "      <td>8</td>\n",
       "    </tr>\n",
       "    <tr>\n",
       "      <th>29</th>\n",
       "      <td>50대</td>\n",
       "      <td>블로그광고</td>\n",
       "      <td>78</td>\n",
       "    </tr>\n",
       "    <tr>\n",
       "      <th>30</th>\n",
       "      <td>50대</td>\n",
       "      <td>인터넷검색</td>\n",
       "      <td>6</td>\n",
       "    </tr>\n",
       "    <tr>\n",
       "      <th>31</th>\n",
       "      <td>50대</td>\n",
       "      <td>인터넷기사광고</td>\n",
       "      <td>10</td>\n",
       "    </tr>\n",
       "    <tr>\n",
       "      <th>32</th>\n",
       "      <td>50대</td>\n",
       "      <td>잡지광고</td>\n",
       "      <td>18</td>\n",
       "    </tr>\n",
       "    <tr>\n",
       "      <th>33</th>\n",
       "      <td>50대</td>\n",
       "      <td>전단지광고</td>\n",
       "      <td>13</td>\n",
       "    </tr>\n",
       "    <tr>\n",
       "      <th>34</th>\n",
       "      <td>50대</td>\n",
       "      <td>지인추천</td>\n",
       "      <td>19</td>\n",
       "    </tr>\n",
       "    <tr>\n",
       "      <th>35</th>\n",
       "      <td>60대</td>\n",
       "      <td>기타</td>\n",
       "      <td>2</td>\n",
       "    </tr>\n",
       "    <tr>\n",
       "      <th>36</th>\n",
       "      <td>60대</td>\n",
       "      <td>신문광고</td>\n",
       "      <td>2</td>\n",
       "    </tr>\n",
       "    <tr>\n",
       "      <th>37</th>\n",
       "      <td>60대</td>\n",
       "      <td>인터넷검색</td>\n",
       "      <td>3</td>\n",
       "    </tr>\n",
       "    <tr>\n",
       "      <th>38</th>\n",
       "      <td>60대</td>\n",
       "      <td>인터넷기사광고</td>\n",
       "      <td>19</td>\n",
       "    </tr>\n",
       "    <tr>\n",
       "      <th>39</th>\n",
       "      <td>60대</td>\n",
       "      <td>잡지광고</td>\n",
       "      <td>4</td>\n",
       "    </tr>\n",
       "    <tr>\n",
       "      <th>40</th>\n",
       "      <td>60대</td>\n",
       "      <td>전단지광고</td>\n",
       "      <td>3</td>\n",
       "    </tr>\n",
       "    <tr>\n",
       "      <th>41</th>\n",
       "      <td>60대</td>\n",
       "      <td>지인추천</td>\n",
       "      <td>10</td>\n",
       "    </tr>\n",
       "    <tr>\n",
       "      <th>42</th>\n",
       "      <td>70대</td>\n",
       "      <td>신문광고</td>\n",
       "      <td>9</td>\n",
       "    </tr>\n",
       "    <tr>\n",
       "      <th>43</th>\n",
       "      <td>70대</td>\n",
       "      <td>인터넷검색</td>\n",
       "      <td>2</td>\n",
       "    </tr>\n",
       "    <tr>\n",
       "      <th>44</th>\n",
       "      <td>70대</td>\n",
       "      <td>잡지광고</td>\n",
       "      <td>3</td>\n",
       "    </tr>\n",
       "    <tr>\n",
       "      <th>45</th>\n",
       "      <td>70대</td>\n",
       "      <td>지인추천</td>\n",
       "      <td>5</td>\n",
       "    </tr>\n",
       "    <tr>\n",
       "      <th>46</th>\n",
       "      <td>80대</td>\n",
       "      <td>신문광고</td>\n",
       "      <td>4</td>\n",
       "    </tr>\n",
       "    <tr>\n",
       "      <th>47</th>\n",
       "      <td>80대</td>\n",
       "      <td>전단지광고</td>\n",
       "      <td>1</td>\n",
       "    </tr>\n",
       "    <tr>\n",
       "      <th>48</th>\n",
       "      <td>90대</td>\n",
       "      <td>신문광고</td>\n",
       "      <td>1</td>\n",
       "    </tr>\n",
       "    <tr>\n",
       "      <th>49</th>\n",
       "      <td>90대</td>\n",
       "      <td>잡지광고</td>\n",
       "      <td>2</td>\n",
       "    </tr>\n",
       "  </tbody>\n",
       "</table>\n",
       "</div>"
      ],
      "text/plain": [
       "    나이대     유입경로  count\n",
       "0   20대       기타     17\n",
       "1   20대    유튜브광고    260\n",
       "2   20대    이메일광고    162\n",
       "3   20대    인터넷검색     12\n",
       "4   20대     잡지광고     39\n",
       "5   20대    전단지광고     49\n",
       "6   20대     지인추천     23\n",
       "7   20대   카카오톡광고     76\n",
       "8   30대    SNS광고     43\n",
       "9   30대       기타     39\n",
       "10  30대     신문광고     28\n",
       "11  30대    유튜브광고    595\n",
       "12  30대    이메일광고    449\n",
       "13  30대    인터넷검색     44\n",
       "14  30대  인터넷기사광고      8\n",
       "15  30대     잡지광고     63\n",
       "16  30대    전단지광고    145\n",
       "17  30대     지인추천     54\n",
       "18  30대   카카오톡광고    106\n",
       "19  40대    SNS광고   1055\n",
       "20  40대       기타    203\n",
       "21  40대    블로그광고   1009\n",
       "22  40대    유튜브광고     89\n",
       "23  40대    인터넷검색    356\n",
       "24  40대  인터넷기사광고    124\n",
       "25  40대     잡지광고    376\n",
       "26  40대    전단지광고    650\n",
       "27  40대     지인추천    279\n",
       "28  50대       기타      8\n",
       "29  50대    블로그광고     78\n",
       "30  50대    인터넷검색      6\n",
       "31  50대  인터넷기사광고     10\n",
       "32  50대     잡지광고     18\n",
       "33  50대    전단지광고     13\n",
       "34  50대     지인추천     19\n",
       "35  60대       기타      2\n",
       "36  60대     신문광고      2\n",
       "37  60대    인터넷검색      3\n",
       "38  60대  인터넷기사광고     19\n",
       "39  60대     잡지광고      4\n",
       "40  60대    전단지광고      3\n",
       "41  60대     지인추천     10\n",
       "42  70대     신문광고      9\n",
       "43  70대    인터넷검색      2\n",
       "44  70대     잡지광고      3\n",
       "45  70대     지인추천      5\n",
       "46  80대     신문광고      4\n",
       "47  80대    전단지광고      1\n",
       "48  90대     신문광고      1\n",
       "49  90대     잡지광고      2"
      ]
     },
     "execution_count": 229,
     "metadata": {},
     "output_type": "execute_result"
    }
   ],
   "source": [
    "dt2_age2 = dt2.groupby(['나이대','유입경로'], as_index = False).agg(count = ('나이대', 'count'))\n",
    "dt2_age2"
   ]
  },
  {
   "cell_type": "code",
   "execution_count": 232,
   "metadata": {},
   "outputs": [
    {
     "data": {
      "text/plain": [
       "(array([ 0,  1,  2,  3,  4,  5,  6,  7,  8,  9, 10, 11]),\n",
       " [Text(0, 0, '기타'),\n",
       "  Text(1, 0, '유튜브광고'),\n",
       "  Text(2, 0, '이메일광고'),\n",
       "  Text(3, 0, '인터넷검색'),\n",
       "  Text(4, 0, '잡지광고'),\n",
       "  Text(5, 0, '전단지광고'),\n",
       "  Text(6, 0, '지인추천'),\n",
       "  Text(7, 0, '카카오톡광고'),\n",
       "  Text(8, 0, 'SNS광고'),\n",
       "  Text(9, 0, '신문광고'),\n",
       "  Text(10, 0, '인터넷기사광고'),\n",
       "  Text(11, 0, '블로그광고')])"
      ]
     },
     "execution_count": 232,
     "metadata": {},
     "output_type": "execute_result"
    },
    {
     "data": {
      "image/png": "[encoded data removed]",
      "text/plain": [
       "<Figure size 1000x600 with 1 Axes>"
      ]
     },
     "metadata": {},
     "output_type": "display_data"
    }
   ],
   "source": [
    "plt.figure(figsize=(10,6))\n",
    "sns.barplot(data=dt2_age2, x='유입경로', y='count', hue='나이대')\n",
    "plt.xticks(rotation=90)"
   ]
  },
  {
   "cell_type": "code",
   "execution_count": 234,
   "metadata": {},
   "outputs": [
    {
     "data": {
      "text/plain": [
       "Index(['결제수단', '공급원가', '교환구분', '네이버 포인트', '배송번호', '배송비 정보', '배송시작일', '배송완료일',\n",
       "       '사용한 적립금액', '상품구매금액', '상품명', '상품번호', '상품별 추가할인금액', '수량', '수령인 주소',\n",
       "       '주문 시 회원등급', '주문경로', '주문번호', '주문일시', '주문자ID', '카드사', '쿠폰 할인금액', '판매가',\n",
       "       '품목번호', 'ID', '나이', '사용가능 적립금', '성별', '주소(동/읍/면)', '최종접속일', '최종주문일',\n",
       "       '유입경로', '유입기기', '회원 가입일', '사업자구분', '회원구분'],\n",
       "      dtype='object')"
      ]
     },
     "execution_count": 234,
     "metadata": {},
     "output_type": "execute_result"
    }
   ],
   "source": [
    "df.columns"
   ]
  },
  {
   "cell_type": "code",
   "execution_count": 238,
   "metadata": {},
   "outputs": [],
   "source": [
    "df['주문일시'] = df['주문일시'].apply(lambda x:x.replace('오전', 'AM').replace('오후','PM'))"
   ]
  },
  {
   "cell_type": "code",
   "execution_count": 239,
   "metadata": {},
   "outputs": [],
   "source": [
    "df['주문날짜'] = pd.to_datetime(df['주문일시'], format='%Y-%m-%d %p %I:%M')"
   ]
  },
  {
   "cell_type": "code",
   "execution_count": 250,
   "metadata": {},
   "outputs": [],
   "source": [
    "df['주문날짜'] = df['주문날짜'].astype('str')\n",
    "df['주문날짜'] = df['주문날짜'].apply(lambda x: x.split(' ')[0])"
   ]
  },
  {
   "cell_type": "code",
   "execution_count": 262,
   "metadata": {},
   "outputs": [],
   "source": [
    "df['주문날짜'] = df['주문날짜'].astype('str')\n",
    "df['주문날짜'].apply(lambda x: x[:7])\n",
    "df['주문월'] = df['주문날짜'].apply(lambda x: x[:7])"
   ]
  },
  {
   "cell_type": "code",
   "execution_count": 275,
   "metadata": {},
   "outputs": [
    {
     "data": {
      "text/plain": [
       "0        2018-12\n",
       "1        2018-12\n",
       "2        2018-12\n",
       "3        2018-12\n",
       "4        2018-12\n",
       "          ...   \n",
       "46744    2017-12\n",
       "46745    2017-12\n",
       "46746    2017-12\n",
       "46747    2017-12\n",
       "46748    2017-12\n",
       "Name: 주문월, Length: 46749, dtype: object"
      ]
     },
     "execution_count": 275,
     "metadata": {},
     "output_type": "execute_result"
    }
   ],
   "source": [
    "df['주문월']"
   ]
  },
  {
   "cell_type": "code",
   "execution_count": 264,
   "metadata": {},
   "outputs": [],
   "source": [
    "def Age_MP(x):\n",
    "    if 10<= x <20:\n",
    "        return \"10대\"\n",
    "    if 20<= x <30:\n",
    "        return \"20대\"\n",
    "    if 30<= x <40:\n",
    "        return \"30대\"\n",
    "    if 40<= x <50:\n",
    "        return \"40대\"\n",
    "    if 50<= x <60:\n",
    "        return \"50대\"\n",
    "    if 60<= x <70:\n",
    "        return \"60대\"\n",
    "    if 70<= x <80:\n",
    "        return \"70대\"\n",
    "    if 80<= x <90:\n",
    "        return \"80대\"\n",
    "    if 90<= x <100:\n",
    "        return \"90대\"\n",
    "\n",
    "df['나이대'] = df['나이'].apply(Age_MP)\n",
    "df['나이대'] = df['나이대'].astype(str)"
   ]
  },
  {
   "cell_type": "code",
   "execution_count": 266,
   "metadata": {},
   "outputs": [
    {
     "data": {
      "text/plain": [
       "Index(['결제수단', '공급원가', '교환구분', '네이버 포인트', '배송번호', '배송비 정보', '배송시작일', '배송완료일',\n",
       "       '사용한 적립금액', '상품구매금액', '상품명', '상품번호', '상품별 추가할인금액', '수량', '수령인 주소',\n",
       "       '주문 시 회원등급', '주문경로', '주문번호', '주문일시', '주문자ID', '카드사', '쿠폰 할인금액', '판매가',\n",
       "       '품목번호', 'ID', '나이', '사용가능 적립금', '성별', '주소(동/읍/면)', '최종접속일', '최종주문일',\n",
       "       '유입경로', '유입기기', '회원 가입일', '사업자구분', '회원구분', '주문날짜', '주문월', '나이대'],\n",
       "      dtype='object')"
      ]
     },
     "execution_count": 266,
     "metadata": {},
     "output_type": "execute_result"
    }
   ],
   "source": [
    "df.columns"
   ]
  },
  {
   "cell_type": "code",
   "execution_count": 289,
   "metadata": {},
   "outputs": [],
   "source": [
    "df_ages_price = df.groupby(['나이대','주문월'])[['상품구매금액']].median().reset_index()"
   ]
  },
  {
   "cell_type": "code",
   "execution_count": 290,
   "metadata": {},
   "outputs": [],
   "source": [
    "df_ages_price['주문월'] = pd.to_datetime(df_ages_price['주문월'], format='%Y-%m')"
   ]
  },
  {
   "cell_type": "code",
   "execution_count": 291,
   "metadata": {},
   "outputs": [
    {
     "data": {
      "text/plain": [
       "<AxesSubplot: xlabel='주문월', ylabel='상품구매금액'>"
      ]
     },
     "execution_count": 291,
     "metadata": {},
     "output_type": "execute_result"
    },
    {
     "data": {
      "image/png": "[encoded data removed]",
      "text/plain": [
       "<Figure size 1000x600 with 1 Axes>"
      ]
     },
     "metadata": {},
     "output_type": "display_data"
    }
   ],
   "source": [
    "plt.figure(figsize=(10, 6))\n",
    "sns.lineplot(data=df_ages_price, x='주문월',y='상품구매금액',hue='나이대')"
   ]
  },
  {
   "cell_type": "code",
   "execution_count": 292,
   "metadata": {},
   "outputs": [
    {
     "ename": "ValueError",
     "evalue": "Mime type rendering requires nbformat>=4.2.0 but it is not installed",
     "output_type": "error",
     "traceback": [
      "\u001b[1;31m---------------------------------------------------------------------------\u001b[0m",
      "\u001b[1;31mValueError\u001b[0m                                Traceback (most recent call last)",
      "File \u001b[1;32m~\\AppData\\Roaming\\Python\\Python310\\site-packages\\IPython\\core\\formatters.py:921\u001b[0m, in \u001b[0;36mIPythonDisplayFormatter.__call__\u001b[1;34m(self, obj)\u001b[0m\n\u001b[0;32m    919\u001b[0m method \u001b[39m=\u001b[39m get_real_method(obj, \u001b[39mself\u001b[39m\u001b[39m.\u001b[39mprint_method)\n\u001b[0;32m    920\u001b[0m \u001b[39mif\u001b[39;00m method \u001b[39mis\u001b[39;00m \u001b[39mnot\u001b[39;00m \u001b[39mNone\u001b[39;00m:\n\u001b[1;32m--> 921\u001b[0m     method()\n\u001b[0;32m    922\u001b[0m     \u001b[39mreturn\u001b[39;00m \u001b[39mTrue\u001b[39;00m\n",
      "File \u001b[1;32m~\\AppData\\Roaming\\Python\\Python310\\site-packages\\plotly\\basedatatypes.py:842\u001b[0m, in \u001b[0;36mBaseFigure._ipython_display_\u001b[1;34m(self)\u001b[0m\n\u001b[0;32m    839\u001b[0m \u001b[39mimport\u001b[39;00m \u001b[39mplotly\u001b[39;00m\u001b[39m.\u001b[39;00m\u001b[39mio\u001b[39;00m \u001b[39mas\u001b[39;00m \u001b[39mpio\u001b[39;00m\n\u001b[0;32m    841\u001b[0m \u001b[39mif\u001b[39;00m pio\u001b[39m.\u001b[39mrenderers\u001b[39m.\u001b[39mrender_on_display \u001b[39mand\u001b[39;00m pio\u001b[39m.\u001b[39mrenderers\u001b[39m.\u001b[39mdefault:\n\u001b[1;32m--> 842\u001b[0m     pio\u001b[39m.\u001b[39;49mshow(\u001b[39mself\u001b[39;49m)\n\u001b[0;32m    843\u001b[0m \u001b[39melse\u001b[39;00m:\n\u001b[0;32m    844\u001b[0m     \u001b[39mprint\u001b[39m(\u001b[39mrepr\u001b[39m(\u001b[39mself\u001b[39m))\n",
      "File \u001b[1;32m~\\AppData\\Roaming\\Python\\Python310\\site-packages\\plotly\\io\\_renderers.py:396\u001b[0m, in \u001b[0;36mshow\u001b[1;34m(fig, renderer, validate, **kwargs)\u001b[0m\n\u001b[0;32m    391\u001b[0m         \u001b[39mraise\u001b[39;00m \u001b[39mValueError\u001b[39;00m(\n\u001b[0;32m    392\u001b[0m             \u001b[39m\"\u001b[39m\u001b[39mMime type rendering requires ipython but it is not installed\u001b[39m\u001b[39m\"\u001b[39m\n\u001b[0;32m    393\u001b[0m         )\n\u001b[0;32m    395\u001b[0m     \u001b[39mif\u001b[39;00m \u001b[39mnot\u001b[39;00m nbformat \u001b[39mor\u001b[39;00m LooseVersion(nbformat\u001b[39m.\u001b[39m__version__) \u001b[39m<\u001b[39m LooseVersion(\u001b[39m\"\u001b[39m\u001b[39m4.2.0\u001b[39m\u001b[39m\"\u001b[39m):\n\u001b[1;32m--> 396\u001b[0m         \u001b[39mraise\u001b[39;00m \u001b[39mValueError\u001b[39;00m(\n\u001b[0;32m    397\u001b[0m             \u001b[39m\"\u001b[39m\u001b[39mMime type rendering requires nbformat>=4.2.0 but it is not installed\u001b[39m\u001b[39m\"\u001b[39m\n\u001b[0;32m    398\u001b[0m         )\n\u001b[0;32m    400\u001b[0m     ipython_display\u001b[39m.\u001b[39mdisplay(bundle, raw\u001b[39m=\u001b[39m\u001b[39mTrue\u001b[39;00m)\n\u001b[0;32m    402\u001b[0m \u001b[39m# external renderers\u001b[39;00m\n",
      "\u001b[1;31mValueError\u001b[0m: Mime type rendering requires nbformat>=4.2.0 but it is not installed"
     ]
    },
    {
     "data": {
      "application/vnd.plotly.v1+json": {
       "config": {
        "plotlyServerURL": "https://plot.ly"
       },
       "data": [
        {
         "hovertemplate": "나이대=20대<br>주문월=%{x}<br>상품구매금액=%{y}<extra></extra>",
         "legendgroup": "20대",
         "line": {
          "color": "#636efa",
          "dash": "solid"
         },
         "marker": {
          "symbol": "circle"
         },
         "mode": "lines",
         "name": "20대",
         "orientation": "v",
         "showlegend": true,
         "type": "scatter",
         "x": [
          "2017-01-01T00:00:00",
          "2017-02-01T00:00:00",
          "2017-03-01T00:00:00",
          "2017-05-01T00:00:00",
          "2017-06-01T00:00:00",
          "2017-07-01T00:00:00",
          "2017-08-01T00:00:00",
          "2017-09-01T00:00:00",
          "2017-10-01T00:00:00",
          "2017-11-01T00:00:00",
          "2017-12-01T00:00:00",
          "2018-01-01T00:00:00",
          "2018-02-01T00:00:00",
          "2018-03-01T00:00:00",
          "2018-04-01T00:00:00",
          "2018-05-01T00:00:00",
          "2018-06-01T00:00:00",
          "2018-07-01T00:00:00",
          "2018-08-01T00:00:00",
          "2018-09-01T00:00:00",
          "2018-10-01T00:00:00",
          "2018-11-01T00:00:00",
          "2018-12-01T00:00:00",
          "2019-01-01T00:00:00",
          "2019-02-01T00:00:00",
          "2019-03-01T00:00:00",
          "2019-04-01T00:00:00",
          "2019-05-01T00:00:00"
         ],
         "xaxis": "x",
         "y": [
          17000,
          17000,
          39550,
          29040,
          65500,
          67500,
          88000,
          74000,
          74000,
          66605,
          75350,
          53900,
          61600,
          53000,
          59200,
          61970,
          71490,
          61970,
          63240,
          66500,
          56760,
          58410,
          63470,
          78870,
          71450,
          63070,
          63620,
          63070
         ],
         "yaxis": "y"
        },
        {
         "hovertemplate": "나이대=30대<br>주문월=%{x}<br>상품구매금액=%{y}<extra></extra>",
         "legendgroup": "30대",
         "line": {
          "color": "#EF553B",
          "dash": "solid"
         },
         "marker": {
          "symbol": "circle"
         },
         "mode": "lines",
         "name": "30대",
         "orientation": "v",
         "showlegend": true,
         "type": "scatter",
         "x": [
          "2017-03-01T00:00:00",
          "2017-04-01T00:00:00",
          "2017-05-01T00:00:00",
          "2017-06-01T00:00:00",
          "2017-07-01T00:00:00",
          "2017-08-01T00:00:00",
          "2017-09-01T00:00:00",
          "2017-10-01T00:00:00",
          "2017-11-01T00:00:00",
          "2017-12-01T00:00:00",
          "2018-01-01T00:00:00",
          "2018-02-01T00:00:00",
          "2018-03-01T00:00:00",
          "2018-04-01T00:00:00",
          "2018-05-01T00:00:00",
          "2018-06-01T00:00:00",
          "2018-07-01T00:00:00",
          "2018-08-01T00:00:00",
          "2018-09-01T00:00:00",
          "2018-10-01T00:00:00",
          "2018-11-01T00:00:00",
          "2018-12-01T00:00:00",
          "2019-01-01T00:00:00",
          "2019-02-01T00:00:00",
          "2019-03-01T00:00:00",
          "2019-04-01T00:00:00",
          "2019-05-01T00:00:00"
         ],
         "xaxis": "x",
         "y": [
          60000,
          73000,
          66500,
          62490,
          47000,
          47935,
          53600,
          61930,
          67100,
          73460,
          56980,
          51700,
          53000,
          68200,
          61970,
          63240,
          61970,
          61970,
          60540,
          58410,
          58410,
          63470,
          78870,
          74990,
          61900,
          65640,
          63070
         ],
         "yaxis": "y"
        },
        {
         "hovertemplate": "나이대=40대<br>주문월=%{x}<br>상품구매금액=%{y}<extra></extra>",
         "legendgroup": "40대",
         "line": {
          "color": "#00cc96",
          "dash": "solid"
         },
         "marker": {
          "symbol": "circle"
         },
         "mode": "lines",
         "name": "40대",
         "orientation": "v",
         "showlegend": true,
         "type": "scatter",
         "x": [
          "2017-01-01T00:00:00",
          "2017-02-01T00:00:00",
          "2017-03-01T00:00:00",
          "2017-04-01T00:00:00",
          "2017-05-01T00:00:00",
          "2017-06-01T00:00:00",
          "2017-07-01T00:00:00",
          "2017-08-01T00:00:00",
          "2017-09-01T00:00:00",
          "2017-10-01T00:00:00",
          "2017-11-01T00:00:00",
          "2017-12-01T00:00:00",
          "2018-01-01T00:00:00",
          "2018-02-01T00:00:00",
          "2018-03-01T00:00:00",
          "2018-04-01T00:00:00",
          "2018-05-01T00:00:00",
          "2018-06-01T00:00:00",
          "2018-07-01T00:00:00",
          "2018-08-01T00:00:00",
          "2018-09-01T00:00:00",
          "2018-10-01T00:00:00",
          "2018-11-01T00:00:00",
          "2018-12-01T00:00:00",
          "2019-01-01T00:00:00",
          "2019-02-01T00:00:00",
          "2019-03-01T00:00:00",
          "2019-04-01T00:00:00",
          "2019-05-01T00:00:00",
          "2019-06-01T00:00:00"
         ],
         "xaxis": "x",
         "y": [
          73700,
          55100,
          70160,
          77700,
          59200,
          59200,
          53390,
          59000,
          53820,
          58780,
          58960,
          58190,
          58960,
          61600,
          53000,
          63900,
          63240,
          67840,
          63240,
          63950,
          70500,
          58410,
          68970,
          63470,
          78870,
          70670,
          61900,
          64070,
          63070,
          60900
         ],
         "yaxis": "y"
        },
        {
         "hovertemplate": "나이대=50대<br>주문월=%{x}<br>상품구매금액=%{y}<extra></extra>",
         "legendgroup": "50대",
         "line": {
          "color": "#ab63fa",
          "dash": "solid"
         },
         "marker": {
          "symbol": "circle"
         },
         "mode": "lines",
         "name": "50대",
         "orientation": "v",
         "showlegend": true,
         "type": "scatter",
         "x": [
          "2017-01-01T00:00:00",
          "2017-04-01T00:00:00",
          "2017-05-01T00:00:00",
          "2017-06-01T00:00:00",
          "2017-07-01T00:00:00",
          "2017-08-01T00:00:00",
          "2017-09-01T00:00:00",
          "2017-10-01T00:00:00",
          "2017-11-01T00:00:00",
          "2017-12-01T00:00:00",
          "2018-01-01T00:00:00",
          "2018-02-01T00:00:00",
          "2018-03-01T00:00:00",
          "2018-04-01T00:00:00",
          "2018-05-01T00:00:00",
          "2018-06-01T00:00:00",
          "2018-07-01T00:00:00",
          "2018-08-01T00:00:00",
          "2018-09-01T00:00:00",
          "2018-10-01T00:00:00",
          "2018-11-01T00:00:00",
          "2018-12-01T00:00:00",
          "2019-01-01T00:00:00",
          "2019-02-01T00:00:00",
          "2019-03-01T00:00:00",
          "2019-04-01T00:00:00",
          "2019-05-01T00:00:00"
         ],
         "xaxis": "x",
         "y": [
          66500,
          81000,
          15000,
          62490,
          93125,
          89620,
          130880,
          73200,
          72050,
          82225,
          68880,
          61600,
          60000,
          67000,
          73850,
          70500,
          70500,
          71545,
          74400,
          71450,
          74120,
          71940,
          87120,
          75570,
          76265,
          74795,
          61900
         ],
         "yaxis": "y"
        },
        {
         "hovertemplate": "나이대=60대<br>주문월=%{x}<br>상품구매금액=%{y}<extra></extra>",
         "legendgroup": "60대",
         "line": {
          "color": "#FFA15A",
          "dash": "solid"
         },
         "marker": {
          "symbol": "circle"
         },
         "mode": "lines",
         "name": "60대",
         "orientation": "v",
         "showlegend": true,
         "type": "scatter",
         "x": [
          "2017-02-01T00:00:00",
          "2017-03-01T00:00:00",
          "2017-05-01T00:00:00",
          "2017-06-01T00:00:00",
          "2017-07-01T00:00:00",
          "2017-08-01T00:00:00",
          "2017-09-01T00:00:00",
          "2017-10-01T00:00:00",
          "2017-12-01T00:00:00",
          "2018-01-01T00:00:00",
          "2018-02-01T00:00:00",
          "2018-03-01T00:00:00",
          "2018-04-01T00:00:00",
          "2018-05-01T00:00:00",
          "2018-06-01T00:00:00",
          "2018-07-01T00:00:00",
          "2018-08-01T00:00:00",
          "2018-09-01T00:00:00",
          "2018-10-01T00:00:00",
          "2018-11-01T00:00:00",
          "2018-12-01T00:00:00",
          "2019-01-01T00:00:00",
          "2019-02-01T00:00:00",
          "2019-03-01T00:00:00",
          "2019-04-01T00:00:00",
          "2019-05-01T00:00:00"
         ],
         "xaxis": "x",
         "y": [
          11700,
          7550,
          73000,
          104400,
          98700,
          63055,
          97220,
          67610,
          63600,
          91600,
          35000,
          71500,
          76300,
          87870,
          82600,
          83360,
          82600,
          83360,
          71450,
          78870,
          75240,
          94710,
          144980,
          76710,
          121440,
          76710
         ],
         "yaxis": "y"
        },
        {
         "hovertemplate": "나이대=70대<br>주문월=%{x}<br>상품구매금액=%{y}<extra></extra>",
         "legendgroup": "70대",
         "line": {
          "color": "#19d3f3",
          "dash": "solid"
         },
         "marker": {
          "symbol": "circle"
         },
         "mode": "lines",
         "name": "70대",
         "orientation": "v",
         "showlegend": true,
         "type": "scatter",
         "x": [
          "2017-05-01T00:00:00",
          "2017-06-01T00:00:00",
          "2017-07-01T00:00:00",
          "2017-08-01T00:00:00",
          "2017-09-01T00:00:00",
          "2017-10-01T00:00:00",
          "2017-12-01T00:00:00",
          "2018-01-01T00:00:00",
          "2018-03-01T00:00:00",
          "2018-04-01T00:00:00",
          "2018-05-01T00:00:00",
          "2018-06-01T00:00:00",
          "2018-07-01T00:00:00",
          "2018-08-01T00:00:00",
          "2018-09-01T00:00:00",
          "2018-10-01T00:00:00",
          "2018-11-01T00:00:00",
          "2018-12-01T00:00:00",
          "2019-01-01T00:00:00",
          "2019-02-01T00:00:00",
          "2019-03-01T00:00:00",
          "2019-04-01T00:00:00",
          "2019-05-01T00:00:00"
         ],
         "xaxis": "x",
         "y": [
          235000,
          235000,
          262500,
          157500,
          268000,
          262500,
          134750,
          28490,
          72000,
          96400,
          165200,
          81990,
          61970,
          82600,
          86205,
          94710,
          89760,
          82170,
          94710,
          117620,
          99570,
          117620,
          86715
         ],
         "yaxis": "y"
        },
        {
         "hovertemplate": "나이대=80대<br>주문월=%{x}<br>상품구매금액=%{y}<extra></extra>",
         "legendgroup": "80대",
         "line": {
          "color": "#FF6692",
          "dash": "solid"
         },
         "marker": {
          "symbol": "circle"
         },
         "mode": "lines",
         "name": "80대",
         "orientation": "v",
         "showlegend": true,
         "type": "scatter",
         "x": [
          "2018-05-01T00:00:00",
          "2018-06-01T00:00:00",
          "2018-07-01T00:00:00",
          "2018-10-01T00:00:00",
          "2019-02-01T00:00:00",
          "2019-03-01T00:00:00",
          "2019-04-01T00:00:00",
          "2019-05-01T00:00:00"
         ],
         "xaxis": "x",
         "y": [
          70330,
          0,
          41765,
          57585,
          59295,
          62485,
          60940,
          76080
         ],
         "yaxis": "y"
        },
        {
         "hovertemplate": "나이대=90대<br>주문월=%{x}<br>상품구매금액=%{y}<extra></extra>",
         "legendgroup": "90대",
         "line": {
          "color": "#B6E880",
          "dash": "solid"
         },
         "marker": {
          "symbol": "circle"
         },
         "mode": "lines",
         "name": "90대",
         "orientation": "v",
         "showlegend": true,
         "type": "scatter",
         "x": [
          "2018-01-01T00:00:00",
          "2018-05-01T00:00:00",
          "2018-07-01T00:00:00",
          "2019-01-01T00:00:00",
          "2019-04-01T00:00:00"
         ],
         "xaxis": "x",
         "y": [
          81400,
          54800,
          22350,
          100515,
          35210
         ],
         "yaxis": "y"
        },
        {
         "hovertemplate": "나이대=None<br>주문월=%{x}<br>상품구매금액=%{y}<extra></extra>",
         "legendgroup": "None",
         "line": {
          "color": "#FF97FF",
          "dash": "solid"
         },
         "marker": {
          "symbol": "circle"
         },
         "mode": "lines",
         "name": "None",
         "orientation": "v",
         "showlegend": true,
         "type": "scatter",
         "x": [
          "2017-02-01T00:00:00",
          "2017-03-01T00:00:00",
          "2017-04-01T00:00:00",
          "2017-05-01T00:00:00",
          "2017-06-01T00:00:00",
          "2017-07-01T00:00:00",
          "2017-08-01T00:00:00",
          "2017-09-01T00:00:00",
          "2017-10-01T00:00:00",
          "2017-11-01T00:00:00",
          "2017-12-01T00:00:00",
          "2018-01-01T00:00:00",
          "2018-02-01T00:00:00",
          "2018-03-01T00:00:00",
          "2018-04-01T00:00:00",
          "2018-05-01T00:00:00",
          "2018-06-01T00:00:00",
          "2018-07-01T00:00:00",
          "2018-08-01T00:00:00",
          "2018-09-01T00:00:00",
          "2018-10-01T00:00:00",
          "2018-11-01T00:00:00",
          "2018-12-01T00:00:00",
          "2019-01-01T00:00:00",
          "2019-02-01T00:00:00",
          "2019-03-01T00:00:00",
          "2019-04-01T00:00:00",
          "2019-05-01T00:00:00",
          "2019-06-01T00:00:00"
         ],
         "xaxis": "x",
         "y": [
          53150,
          53300,
          29000,
          58000,
          52200,
          47000,
          42220,
          53600,
          53820,
          53900,
          73460,
          79420,
          77000,
          66000,
          68200,
          67840,
          71800,
          77370,
          77700,
          78870,
          78870,
          78870,
          77220,
          78870,
          68750,
          63070,
          64070,
          61470,
          98600
         ],
         "yaxis": "y"
        }
       ],
       "layout": {
        "legend": {
         "title": {
          "text": "나이대"
         },
         "tracegroupgap": 0
        },
        "margin": {
         "t": 60
        },
        "template": {
         "data": {
          "bar": [
           {
            "error_x": {
             "color": "#2a3f5f"
            },
            "error_y": {
             "color": "#2a3f5f"
            },
            "marker": {
             "line": {
              "color": "#E5ECF6",
              "width": 0.5
             },
             "pattern": {
              "fillmode": "overlay",
              "size": 10,
              "solidity": 0.2
             }
            },
            "type": "bar"
           }
          ],
          "barpolar": [
           {
            "marker": {
             "line": {
              "color": "#E5ECF6",
              "width": 0.5
             },
             "pattern": {
              "fillmode": "overlay",
              "size": 10,
              "solidity": 0.2
             }
            },
            "type": "barpolar"
           }
          ],
          "carpet": [
           {
            "aaxis": {
             "endlinecolor": "#2a3f5f",
             "gridcolor": "white",
             "linecolor": "white",
             "minorgridcolor": "white",
             "startlinecolor": "#2a3f5f"
            },
            "baxis": {
             "endlinecolor": "#2a3f5f",
             "gridcolor": "white",
             "linecolor": "white",
             "minorgridcolor": "white",
             "startlinecolor": "#2a3f5f"
            },
            "type": "carpet"
           }
          ],
          "choropleth": [
           {
            "colorbar": {
             "outlinewidth": 0,
             "ticks": ""
            },
            "type": "choropleth"
           }
          ],
          "contour": [
           {
            "colorbar": {
             "outlinewidth": 0,
             "ticks": ""
            },
            "colorscale": [
             [
              0,
              "#0d0887"
             ],
             [
              0.1111111111111111,
              "#46039f"
             ],
             [
              0.2222222222222222,
              "#7201a8"
             ],
             [
              0.3333333333333333,
              "#9c179e"
             ],
             [
              0.4444444444444444,
              "#bd3786"
             ],
             [
              0.5555555555555556,
              "#d8576b"
             ],
             [
              0.6666666666666666,
              "#ed7953"
             ],
             [
              0.7777777777777778,
              "#fb9f3a"
             ],
             [
              0.8888888888888888,
              "#fdca26"
             ],
             [
              1,
              "#f0f921"
             ]
            ],
            "type": "contour"
           }
          ],
          "contourcarpet": [
           {
            "colorbar": {
             "outlinewidth": 0,
             "ticks": ""
            },
            "type": "contourcarpet"
           }
          ],
          "heatmap": [
           {
            "colorbar": {
             "outlinewidth": 0,
             "ticks": ""
            },
            "colorscale": [
             [
              0,
              "#0d0887"
             ],
             [
              0.1111111111111111,
              "#46039f"
             ],
             [
              0.2222222222222222,
              "#7201a8"
             ],
             [
              0.3333333333333333,
              "#9c179e"
             ],
             [
              0.4444444444444444,
              "#bd3786"
             ],
             [
              0.5555555555555556,
              "#d8576b"
             ],
             [
              0.6666666666666666,
              "#ed7953"
             ],
             [
              0.7777777777777778,
              "#fb9f3a"
             ],
             [
              0.8888888888888888,
              "#fdca26"
             ],
             [
              1,
              "#f0f921"
             ]
            ],
            "type": "heatmap"
           }
          ],
          "heatmapgl": [
           {
            "colorbar": {
             "outlinewidth": 0,
             "ticks": ""
            },
            "colorscale": [
             [
              0,
              "#0d0887"
             ],
             [
              0.1111111111111111,
              "#46039f"
             ],
             [
              0.2222222222222222,
              "#7201a8"
             ],
             [
              0.3333333333333333,
              "#9c179e"
             ],
             [
              0.4444444444444444,
              "#bd3786"
             ],
             [
              0.5555555555555556,
              "#d8576b"
             ],
             [
              0.6666666666666666,
              "#ed7953"
             ],
             [
              0.7777777777777778,
              "#fb9f3a"
             ],
             [
              0.8888888888888888,
              "#fdca26"
             ],
             [
              1,
              "#f0f921"
             ]
            ],
            "type": "heatmapgl"
           }
          ],
          "histogram": [
           {
            "marker": {
             "pattern": {
              "fillmode": "overlay",
              "size": 10,
              "solidity": 0.2
             }
            },
            "type": "histogram"
           }
          ],
          "histogram2d": [
           {
            "colorbar": {
             "outlinewidth": 0,
             "ticks": ""
            },
            "colorscale": [
             [
              0,
              "#0d0887"
             ],
             [
              0.1111111111111111,
              "#46039f"
             ],
             [
              0.2222222222222222,
              "#7201a8"
             ],
             [
              0.3333333333333333,
              "#9c179e"
             ],
             [
              0.4444444444444444,
              "#bd3786"
             ],
             [
              0.5555555555555556,
              "#d8576b"
             ],
             [
              0.6666666666666666,
              "#ed7953"
             ],
             [
              0.7777777777777778,
              "#fb9f3a"
             ],
             [
              0.8888888888888888,
              "#fdca26"
             ],
             [
              1,
              "#f0f921"
             ]
            ],
            "type": "histogram2d"
           }
          ],
          "histogram2dcontour": [
           {
            "colorbar": {
             "outlinewidth": 0,
             "ticks": ""
            },
            "colorscale": [
             [
              0,
              "#0d0887"
             ],
             [
              0.1111111111111111,
              "#46039f"
             ],
             [
              0.2222222222222222,
              "#7201a8"
             ],
             [
              0.3333333333333333,
              "#9c179e"
             ],
             [
              0.4444444444444444,
              "#bd3786"
             ],
             [
              0.5555555555555556,
              "#d8576b"
             ],
             [
              0.6666666666666666,
              "#ed7953"
             ],
             [
              0.7777777777777778,
              "#fb9f3a"
             ],
             [
              0.8888888888888888,
              "#fdca26"
             ],
             [
              1,
              "#f0f921"
             ]
            ],
            "type": "histogram2dcontour"
           }
          ],
          "mesh3d": [
           {
            "colorbar": {
             "outlinewidth": 0,
             "ticks": ""
            },
            "type": "mesh3d"
           }
          ],
          "parcoords": [
           {
            "line": {
             "colorbar": {
              "outlinewidth": 0,
              "ticks": ""
             }
            },
            "type": "parcoords"
           }
          ],
          "pie": [
           {
            "automargin": true,
            "type": "pie"
           }
          ],
          "scatter": [
           {
            "fillpattern": {
             "fillmode": "overlay",
             "size": 10,
             "solidity": 0.2
            },
            "type": "scatter"
           }
          ],
          "scatter3d": [
           {
            "line": {
             "colorbar": {
              "outlinewidth": 0,
              "ticks": ""
             }
            },
            "marker": {
             "colorbar": {
              "outlinewidth": 0,
              "ticks": ""
             }
            },
            "type": "scatter3d"
           }
          ],
          "scattercarpet": [
           {
            "marker": {
             "colorbar": {
              "outlinewidth": 0,
              "ticks": ""
             }
            },
            "type": "scattercarpet"
           }
          ],
          "scattergeo": [
           {
            "marker": {
             "colorbar": {
              "outlinewidth": 0,
              "ticks": ""
             }
            },
            "type": "scattergeo"
           }
          ],
          "scattergl": [
           {
            "marker": {
             "colorbar": {
              "outlinewidth": 0,
              "ticks": ""
             }
            },
            "type": "scattergl"
           }
          ],
          "scattermapbox": [
           {
            "marker": {
             "colorbar": {
              "outlinewidth": 0,
              "ticks": ""
             }
            },
            "type": "scattermapbox"
           }
          ],
          "scatterpolar": [
           {
            "marker": {
             "colorbar": {
              "outlinewidth": 0,
              "ticks": ""
             }
            },
            "type": "scatterpolar"
           }
          ],
          "scatterpolargl": [
           {
            "marker": {
             "colorbar": {
              "outlinewidth": 0,
              "ticks": ""
             }
            },
            "type": "scatterpolargl"
           }
          ],
          "scatterternary": [
           {
            "marker": {
             "colorbar": {
              "outlinewidth": 0,
              "ticks": ""
             }
            },
            "type": "scatterternary"
           }
          ],
          "surface": [
           {
            "colorbar": {
             "outlinewidth": 0,
             "ticks": ""
            },
            "colorscale": [
             [
              0,
              "#0d0887"
             ],
             [
              0.1111111111111111,
              "#46039f"
             ],
             [
              0.2222222222222222,
              "#7201a8"
             ],
             [
              0.3333333333333333,
              "#9c179e"
             ],
             [
              0.4444444444444444,
              "#bd3786"
             ],
             [
              0.5555555555555556,
              "#d8576b"
             ],
             [
              0.6666666666666666,
              "#ed7953"
             ],
             [
              0.7777777777777778,
              "#fb9f3a"
             ],
             [
              0.8888888888888888,
              "#fdca26"
             ],
             [
              1,
              "#f0f921"
             ]
            ],
            "type": "surface"
           }
          ],
          "table": [
           {
            "cells": {
             "fill": {
              "color": "#EBF0F8"
             },
             "line": {
              "color": "white"
             }
            },
            "header": {
             "fill": {
              "color": "#C8D4E3"
             },
             "line": {
              "color": "white"
             }
            },
            "type": "table"
           }
          ]
         },
         "layout": {
          "annotationdefaults": {
           "arrowcolor": "#2a3f5f",
           "arrowhead": 0,
           "arrowwidth": 1
          },
          "autotypenumbers": "strict",
          "coloraxis": {
           "colorbar": {
            "outlinewidth": 0,
            "ticks": ""
           }
          },
          "colorscale": {
           "diverging": [
            [
             0,
             "#8e0152"
            ],
            [
             0.1,
             "#c51b7d"
            ],
            [
             0.2,
             "#de77ae"
            ],
            [
             0.3,
             "#f1b6da"
            ],
            [
             0.4,
             "#fde0ef"
            ],
            [
             0.5,
             "#f7f7f7"
            ],
            [
             0.6,
             "#e6f5d0"
            ],
            [
             0.7,
             "#b8e186"
            ],
            [
             0.8,
             "#7fbc41"
            ],
            [
             0.9,
             "#4d9221"
            ],
            [
             1,
             "#276419"
            ]
           ],
           "sequential": [
            [
             0,
             "#0d0887"
            ],
            [
             0.1111111111111111,
             "#46039f"
            ],
            [
             0.2222222222222222,
             "#7201a8"
            ],
            [
             0.3333333333333333,
             "#9c179e"
            ],
            [
             0.4444444444444444,
             "#bd3786"
            ],
            [
             0.5555555555555556,
             "#d8576b"
            ],
            [
             0.6666666666666666,
             "#ed7953"
            ],
            [
             0.7777777777777778,
             "#fb9f3a"
            ],
            [
             0.8888888888888888,
             "#fdca26"
            ],
            [
             1,
             "#f0f921"
            ]
           ],
           "sequentialminus": [
            [
             0,
             "#0d0887"
            ],
            [
             0.1111111111111111,
             "#46039f"
            ],
            [
             0.2222222222222222,
             "#7201a8"
            ],
            [
             0.3333333333333333,
             "#9c179e"
            ],
            [
             0.4444444444444444,
             "#bd3786"
            ],
            [
             0.5555555555555556,
             "#d8576b"
            ],
            [
             0.6666666666666666,
             "#ed7953"
            ],
            [
             0.7777777777777778,
             "#fb9f3a"
            ],
            [
             0.8888888888888888,
             "#fdca26"
            ],
            [
             1,
             "#f0f921"
            ]
           ]
          },
          "colorway": [
           "#636efa",
           "#EF553B",
           "#00cc96",
           "#ab63fa",
           "#FFA15A",
           "#19d3f3",
           "#FF6692",
           "#B6E880",
           "#FF97FF",
           "#FECB52"
          ],
          "font": {
           "color": "#2a3f5f"
          },
          "geo": {
           "bgcolor": "white",
           "lakecolor": "white",
           "landcolor": "#E5ECF6",
           "showlakes": true,
           "showland": true,
           "subunitcolor": "white"
          },
          "hoverlabel": {
           "align": "left"
          },
          "hovermode": "closest",
          "mapbox": {
           "style": "light"
          },
          "paper_bgcolor": "white",
          "plot_bgcolor": "#E5ECF6",
          "polar": {
           "angularaxis": {
            "gridcolor": "white",
            "linecolor": "white",
            "ticks": ""
           },
           "bgcolor": "#E5ECF6",
           "radialaxis": {
            "gridcolor": "white",
            "linecolor": "white",
            "ticks": ""
           }
          },
          "scene": {
           "xaxis": {
            "backgroundcolor": "#E5ECF6",
            "gridcolor": "white",
            "gridwidth": 2,
            "linecolor": "white",
            "showbackground": true,
            "ticks": "",
            "zerolinecolor": "white"
           },
           "yaxis": {
            "backgroundcolor": "#E5ECF6",
            "gridcolor": "white",
            "gridwidth": 2,
            "linecolor": "white",
            "showbackground": true,
            "ticks": "",
            "zerolinecolor": "white"
           },
           "zaxis": {
            "backgroundcolor": "#E5ECF6",
            "gridcolor": "white",
            "gridwidth": 2,
            "linecolor": "white",
            "showbackground": true,
            "ticks": "",
            "zerolinecolor": "white"
           }
          },
          "shapedefaults": {
           "line": {
            "color": "#2a3f5f"
           }
          },
          "ternary": {
           "aaxis": {
            "gridcolor": "white",
            "linecolor": "white",
            "ticks": ""
           },
           "baxis": {
            "gridcolor": "white",
            "linecolor": "white",
            "ticks": ""
           },
           "bgcolor": "#E5ECF6",
           "caxis": {
            "gridcolor": "white",
            "linecolor": "white",
            "ticks": ""
           }
          },
          "title": {
           "x": 0.05
          },
          "xaxis": {
           "automargin": true,
           "gridcolor": "white",
           "linecolor": "white",
           "ticks": "",
           "title": {
            "standoff": 15
           },
           "zerolinecolor": "white",
           "zerolinewidth": 2
          },
          "yaxis": {
           "automargin": true,
           "gridcolor": "white",
           "linecolor": "white",
           "ticks": "",
           "title": {
            "standoff": 15
           },
           "zerolinecolor": "white",
           "zerolinewidth": 2
          }
         }
        },
        "xaxis": {
         "anchor": "y",
         "domain": [
          0,
          1
         ],
         "title": {
          "text": "주문월"
         }
        },
        "yaxis": {
         "anchor": "x",
         "domain": [
          0,
          1
         ],
         "title": {
          "text": "상품구매금액"
         }
        }
       }
      },
      "text/html": [
       "<div>                        <script type=\"text/javascript\">window.PlotlyConfig = {MathJaxConfig: 'local'};</script>\n",
       "        <script src=\"https://cdn.plot.ly/plotly-2.16.1.min.js\"></script>                <div id=\"cd441224-3da7-4489-acfb-53fb2fd7ef66\" class=\"plotly-graph-div\" style=\"height:100%; width:100%;\"></div>            <script type=\"text/javascript\">                                    window.PLOTLYENV=window.PLOTLYENV || {};                                    if (document.getElementById(\"cd441224-3da7-4489-acfb-53fb2fd7ef66\")) {                    Plotly.newPlot(                        \"cd441224-3da7-4489-acfb-53fb2fd7ef66\",                        [{\"hovertemplate\":\"\\ub098\\uc774\\ub300=20\\ub300<br>\\uc8fc\\ubb38\\uc6d4=%{x}<br>\\uc0c1\\ud488\\uad6c\\ub9e4\\uae08\\uc561=%{y}<extra></extra>\",\"legendgroup\":\"20\\ub300\",\"line\":{\"color\":\"#636efa\",\"dash\":\"solid\"},\"marker\":{\"symbol\":\"circle\"},\"mode\":\"lines\",\"name\":\"20\\ub300\",\"orientation\":\"v\",\"showlegend\":true,\"x\":[\"2017-01-01T00:00:00\",\"2017-02-01T00:00:00\",\"2017-03-01T00:00:00\",\"2017-05-01T00:00:00\",\"2017-06-01T00:00:00\",\"2017-07-01T00:00:00\",\"2017-08-01T00:00:00\",\"2017-09-01T00:00:00\",\"2017-10-01T00:00:00\",\"2017-11-01T00:00:00\",\"2017-12-01T00:00:00\",\"2018-01-01T00:00:00\",\"2018-02-01T00:00:00\",\"2018-03-01T00:00:00\",\"2018-04-01T00:00:00\",\"2018-05-01T00:00:00\",\"2018-06-01T00:00:00\",\"2018-07-01T00:00:00\",\"2018-08-01T00:00:00\",\"2018-09-01T00:00:00\",\"2018-10-01T00:00:00\",\"2018-11-01T00:00:00\",\"2018-12-01T00:00:00\",\"2019-01-01T00:00:00\",\"2019-02-01T00:00:00\",\"2019-03-01T00:00:00\",\"2019-04-01T00:00:00\",\"2019-05-01T00:00:00\"],\"xaxis\":\"x\",\"y\":[17000.0,17000.0,39550.0,29040.0,65500.0,67500.0,88000.0,74000.0,74000.0,66605.0,75350.0,53900.0,61600.0,53000.0,59200.0,61970.0,71490.0,61970.0,63240.0,66500.0,56760.0,58410.0,63470.0,78870.0,71450.0,63070.0,63620.0,63070.0],\"yaxis\":\"y\",\"type\":\"scatter\"},{\"hovertemplate\":\"\\ub098\\uc774\\ub300=30\\ub300<br>\\uc8fc\\ubb38\\uc6d4=%{x}<br>\\uc0c1\\ud488\\uad6c\\ub9e4\\uae08\\uc561=%{y}<extra></extra>\",\"legendgroup\":\"30\\ub300\",\"line\":{\"color\":\"#EF553B\",\"dash\":\"solid\"},\"marker\":{\"symbol\":\"circle\"},\"mode\":\"lines\",\"name\":\"30\\ub300\",\"orientation\":\"v\",\"showlegend\":true,\"x\":[\"2017-03-01T00:00:00\",\"2017-04-01T00:00:00\",\"2017-05-01T00:00:00\",\"2017-06-01T00:00:00\",\"2017-07-01T00:00:00\",\"2017-08-01T00:00:00\",\"2017-09-01T00:00:00\",\"2017-10-01T00:00:00\",\"2017-11-01T00:00:00\",\"2017-12-01T00:00:00\",\"2018-01-01T00:00:00\",\"2018-02-01T00:00:00\",\"2018-03-01T00:00:00\",\"2018-04-01T00:00:00\",\"2018-05-01T00:00:00\",\"2018-06-01T00:00:00\",\"2018-07-01T00:00:00\",\"2018-08-01T00:00:00\",\"2018-09-01T00:00:00\",\"2018-10-01T00:00:00\",\"2018-11-01T00:00:00\",\"2018-12-01T00:00:00\",\"2019-01-01T00:00:00\",\"2019-02-01T00:00:00\",\"2019-03-01T00:00:00\",\"2019-04-01T00:00:00\",\"2019-05-01T00:00:00\"],\"xaxis\":\"x\",\"y\":[60000.0,73000.0,66500.0,62490.0,47000.0,47935.0,53600.0,61930.0,67100.0,73460.0,56980.0,51700.0,53000.0,68200.0,61970.0,63240.0,61970.0,61970.0,60540.0,58410.0,58410.0,63470.0,78870.0,74990.0,61900.0,65640.0,63070.0],\"yaxis\":\"y\",\"type\":\"scatter\"},{\"hovertemplate\":\"\\ub098\\uc774\\ub300=40\\ub300<br>\\uc8fc\\ubb38\\uc6d4=%{x}<br>\\uc0c1\\ud488\\uad6c\\ub9e4\\uae08\\uc561=%{y}<extra></extra>\",\"legendgroup\":\"40\\ub300\",\"line\":{\"color\":\"#00cc96\",\"dash\":\"solid\"},\"marker\":{\"symbol\":\"circle\"},\"mode\":\"lines\",\"name\":\"40\\ub300\",\"orientation\":\"v\",\"showlegend\":true,\"x\":[\"2017-01-01T00:00:00\",\"2017-02-01T00:00:00\",\"2017-03-01T00:00:00\",\"2017-04-01T00:00:00\",\"2017-05-01T00:00:00\",\"2017-06-01T00:00:00\",\"2017-07-01T00:00:00\",\"2017-08-01T00:00:00\",\"2017-09-01T00:00:00\",\"2017-10-01T00:00:00\",\"2017-11-01T00:00:00\",\"2017-12-01T00:00:00\",\"2018-01-01T00:00:00\",\"2018-02-01T00:00:00\",\"2018-03-01T00:00:00\",\"2018-04-01T00:00:00\",\"2018-05-01T00:00:00\",\"2018-06-01T00:00:00\",\"2018-07-01T00:00:00\",\"2018-08-01T00:00:00\",\"2018-09-01T00:00:00\",\"2018-10-01T00:00:00\",\"2018-11-01T00:00:00\",\"2018-12-01T00:00:00\",\"2019-01-01T00:00:00\",\"2019-02-01T00:00:00\",\"2019-03-01T00:00:00\",\"2019-04-01T00:00:00\",\"2019-05-01T00:00:00\",\"2019-06-01T00:00:00\"],\"xaxis\":\"x\",\"y\":[73700.0,55100.0,70160.0,77700.0,59200.0,59200.0,53390.0,59000.0,53820.0,58780.0,58960.0,58190.0,58960.0,61600.0,53000.0,63900.0,63240.0,67840.0,63240.0,63950.0,70500.0,58410.0,68970.0,63470.0,78870.0,70670.0,61900.0,64070.0,63070.0,60900.0],\"yaxis\":\"y\",\"type\":\"scatter\"},{\"hovertemplate\":\"\\ub098\\uc774\\ub300=50\\ub300<br>\\uc8fc\\ubb38\\uc6d4=%{x}<br>\\uc0c1\\ud488\\uad6c\\ub9e4\\uae08\\uc561=%{y}<extra></extra>\",\"legendgroup\":\"50\\ub300\",\"line\":{\"color\":\"#ab63fa\",\"dash\":\"solid\"},\"marker\":{\"symbol\":\"circle\"},\"mode\":\"lines\",\"name\":\"50\\ub300\",\"orientation\":\"v\",\"showlegend\":true,\"x\":[\"2017-01-01T00:00:00\",\"2017-04-01T00:00:00\",\"2017-05-01T00:00:00\",\"2017-06-01T00:00:00\",\"2017-07-01T00:00:00\",\"2017-08-01T00:00:00\",\"2017-09-01T00:00:00\",\"2017-10-01T00:00:00\",\"2017-11-01T00:00:00\",\"2017-12-01T00:00:00\",\"2018-01-01T00:00:00\",\"2018-02-01T00:00:00\",\"2018-03-01T00:00:00\",\"2018-04-01T00:00:00\",\"2018-05-01T00:00:00\",\"2018-06-01T00:00:00\",\"2018-07-01T00:00:00\",\"2018-08-01T00:00:00\",\"2018-09-01T00:00:00\",\"2018-10-01T00:00:00\",\"2018-11-01T00:00:00\",\"2018-12-01T00:00:00\",\"2019-01-01T00:00:00\",\"2019-02-01T00:00:00\",\"2019-03-01T00:00:00\",\"2019-04-01T00:00:00\",\"2019-05-01T00:00:00\"],\"xaxis\":\"x\",\"y\":[66500.0,81000.0,15000.0,62490.0,93125.0,89620.0,130880.0,73200.0,72050.0,82225.0,68880.0,61600.0,60000.0,67000.0,73850.0,70500.0,70500.0,71545.0,74400.0,71450.0,74120.0,71940.0,87120.0,75570.0,76265.0,74795.0,61900.0],\"yaxis\":\"y\",\"type\":\"scatter\"},{\"hovertemplate\":\"\\ub098\\uc774\\ub300=60\\ub300<br>\\uc8fc\\ubb38\\uc6d4=%{x}<br>\\uc0c1\\ud488\\uad6c\\ub9e4\\uae08\\uc561=%{y}<extra></extra>\",\"legendgroup\":\"60\\ub300\",\"line\":{\"color\":\"#FFA15A\",\"dash\":\"solid\"},\"marker\":{\"symbol\":\"circle\"},\"mode\":\"lines\",\"name\":\"60\\ub300\",\"orientation\":\"v\",\"showlegend\":true,\"x\":[\"2017-02-01T00:00:00\",\"2017-03-01T00:00:00\",\"2017-05-01T00:00:00\",\"2017-06-01T00:00:00\",\"2017-07-01T00:00:00\",\"2017-08-01T00:00:00\",\"2017-09-01T00:00:00\",\"2017-10-01T00:00:00\",\"2017-12-01T00:00:00\",\"2018-01-01T00:00:00\",\"2018-02-01T00:00:00\",\"2018-03-01T00:00:00\",\"2018-04-01T00:00:00\",\"2018-05-01T00:00:00\",\"2018-06-01T00:00:00\",\"2018-07-01T00:00:00\",\"2018-08-01T00:00:00\",\"2018-09-01T00:00:00\",\"2018-10-01T00:00:00\",\"2018-11-01T00:00:00\",\"2018-12-01T00:00:00\",\"2019-01-01T00:00:00\",\"2019-02-01T00:00:00\",\"2019-03-01T00:00:00\",\"2019-04-01T00:00:00\",\"2019-05-01T00:00:00\"],\"xaxis\":\"x\",\"y\":[11700.0,7550.0,73000.0,104400.0,98700.0,63055.0,97220.0,67610.0,63600.0,91600.0,35000.0,71500.0,76300.0,87870.0,82600.0,83360.0,82600.0,83360.0,71450.0,78870.0,75240.0,94710.0,144980.0,76710.0,121440.0,76710.0],\"yaxis\":\"y\",\"type\":\"scatter\"},{\"hovertemplate\":\"\\ub098\\uc774\\ub300=70\\ub300<br>\\uc8fc\\ubb38\\uc6d4=%{x}<br>\\uc0c1\\ud488\\uad6c\\ub9e4\\uae08\\uc561=%{y}<extra></extra>\",\"legendgroup\":\"70\\ub300\",\"line\":{\"color\":\"#19d3f3\",\"dash\":\"solid\"},\"marker\":{\"symbol\":\"circle\"},\"mode\":\"lines\",\"name\":\"70\\ub300\",\"orientation\":\"v\",\"showlegend\":true,\"x\":[\"2017-05-01T00:00:00\",\"2017-06-01T00:00:00\",\"2017-07-01T00:00:00\",\"2017-08-01T00:00:00\",\"2017-09-01T00:00:00\",\"2017-10-01T00:00:00\",\"2017-12-01T00:00:00\",\"2018-01-01T00:00:00\",\"2018-03-01T00:00:00\",\"2018-04-01T00:00:00\",\"2018-05-01T00:00:00\",\"2018-06-01T00:00:00\",\"2018-07-01T00:00:00\",\"2018-08-01T00:00:00\",\"2018-09-01T00:00:00\",\"2018-10-01T00:00:00\",\"2018-11-01T00:00:00\",\"2018-12-01T00:00:00\",\"2019-01-01T00:00:00\",\"2019-02-01T00:00:00\",\"2019-03-01T00:00:00\",\"2019-04-01T00:00:00\",\"2019-05-01T00:00:00\"],\"xaxis\":\"x\",\"y\":[235000.0,235000.0,262500.0,157500.0,268000.0,262500.0,134750.0,28490.0,72000.0,96400.0,165200.0,81990.0,61970.0,82600.0,86205.0,94710.0,89760.0,82170.0,94710.0,117620.0,99570.0,117620.0,86715.0],\"yaxis\":\"y\",\"type\":\"scatter\"},{\"hovertemplate\":\"\\ub098\\uc774\\ub300=80\\ub300<br>\\uc8fc\\ubb38\\uc6d4=%{x}<br>\\uc0c1\\ud488\\uad6c\\ub9e4\\uae08\\uc561=%{y}<extra></extra>\",\"legendgroup\":\"80\\ub300\",\"line\":{\"color\":\"#FF6692\",\"dash\":\"solid\"},\"marker\":{\"symbol\":\"circle\"},\"mode\":\"lines\",\"name\":\"80\\ub300\",\"orientation\":\"v\",\"showlegend\":true,\"x\":[\"2018-05-01T00:00:00\",\"2018-06-01T00:00:00\",\"2018-07-01T00:00:00\",\"2018-10-01T00:00:00\",\"2019-02-01T00:00:00\",\"2019-03-01T00:00:00\",\"2019-04-01T00:00:00\",\"2019-05-01T00:00:00\"],\"xaxis\":\"x\",\"y\":[70330.0,0.0,41765.0,57585.0,59295.0,62485.0,60940.0,76080.0],\"yaxis\":\"y\",\"type\":\"scatter\"},{\"hovertemplate\":\"\\ub098\\uc774\\ub300=90\\ub300<br>\\uc8fc\\ubb38\\uc6d4=%{x}<br>\\uc0c1\\ud488\\uad6c\\ub9e4\\uae08\\uc561=%{y}<extra></extra>\",\"legendgroup\":\"90\\ub300\",\"line\":{\"color\":\"#B6E880\",\"dash\":\"solid\"},\"marker\":{\"symbol\":\"circle\"},\"mode\":\"lines\",\"name\":\"90\\ub300\",\"orientation\":\"v\",\"showlegend\":true,\"x\":[\"2018-01-01T00:00:00\",\"2018-05-01T00:00:00\",\"2018-07-01T00:00:00\",\"2019-01-01T00:00:00\",\"2019-04-01T00:00:00\"],\"xaxis\":\"x\",\"y\":[81400.0,54800.0,22350.0,100515.0,35210.0],\"yaxis\":\"y\",\"type\":\"scatter\"},{\"hovertemplate\":\"\\ub098\\uc774\\ub300=None<br>\\uc8fc\\ubb38\\uc6d4=%{x}<br>\\uc0c1\\ud488\\uad6c\\ub9e4\\uae08\\uc561=%{y}<extra></extra>\",\"legendgroup\":\"None\",\"line\":{\"color\":\"#FF97FF\",\"dash\":\"solid\"},\"marker\":{\"symbol\":\"circle\"},\"mode\":\"lines\",\"name\":\"None\",\"orientation\":\"v\",\"showlegend\":true,\"x\":[\"2017-02-01T00:00:00\",\"2017-03-01T00:00:00\",\"2017-04-01T00:00:00\",\"2017-05-01T00:00:00\",\"2017-06-01T00:00:00\",\"2017-07-01T00:00:00\",\"2017-08-01T00:00:00\",\"2017-09-01T00:00:00\",\"2017-10-01T00:00:00\",\"2017-11-01T00:00:00\",\"2017-12-01T00:00:00\",\"2018-01-01T00:00:00\",\"2018-02-01T00:00:00\",\"2018-03-01T00:00:00\",\"2018-04-01T00:00:00\",\"2018-05-01T00:00:00\",\"2018-06-01T00:00:00\",\"2018-07-01T00:00:00\",\"2018-08-01T00:00:00\",\"2018-09-01T00:00:00\",\"2018-10-01T00:00:00\",\"2018-11-01T00:00:00\",\"2018-12-01T00:00:00\",\"2019-01-01T00:00:00\",\"2019-02-01T00:00:00\",\"2019-03-01T00:00:00\",\"2019-04-01T00:00:00\",\"2019-05-01T00:00:00\",\"2019-06-01T00:00:00\"],\"xaxis\":\"x\",\"y\":[53150.0,53300.0,29000.0,58000.0,52200.0,47000.0,42220.0,53600.0,53820.0,53900.0,73460.0,79420.0,77000.0,66000.0,68200.0,67840.0,71800.0,77370.0,77700.0,78870.0,78870.0,78870.0,77220.0,78870.0,68750.0,63070.0,64070.0,61470.0,98600.0],\"yaxis\":\"y\",\"type\":\"scatter\"}],                        {\"template\":{\"data\":{\"histogram2dcontour\":[{\"type\":\"histogram2dcontour\",\"colorbar\":{\"outlinewidth\":0,\"ticks\":\"\"},\"colorscale\":[[0.0,\"#0d0887\"],[0.1111111111111111,\"#46039f\"],[0.2222222222222222,\"#7201a8\"],[0.3333333333333333,\"#9c179e\"],[0.4444444444444444,\"#bd3786\"],[0.5555555555555556,\"#d8576b\"],[0.6666666666666666,\"#ed7953\"],[0.7777777777777778,\"#fb9f3a\"],[0.8888888888888888,\"#fdca26\"],[1.0,\"#f0f921\"]]}],\"choropleth\":[{\"type\":\"choropleth\",\"colorbar\":{\"outlinewidth\":0,\"ticks\":\"\"}}],\"histogram2d\":[{\"type\":\"histogram2d\",\"colorbar\":{\"outlinewidth\":0,\"ticks\":\"\"},\"colorscale\":[[0.0,\"#0d0887\"],[0.1111111111111111,\"#46039f\"],[0.2222222222222222,\"#7201a8\"],[0.3333333333333333,\"#9c179e\"],[0.4444444444444444,\"#bd3786\"],[0.5555555555555556,\"#d8576b\"],[0.6666666666666666,\"#ed7953\"],[0.7777777777777778,\"#fb9f3a\"],[0.8888888888888888,\"#fdca26\"],[1.0,\"#f0f921\"]]}],\"heatmap\":[{\"type\":\"heatmap\",\"colorbar\":{\"outlinewidth\":0,\"ticks\":\"\"},\"colorscale\":[[0.0,\"#0d0887\"],[0.1111111111111111,\"#46039f\"],[0.2222222222222222,\"#7201a8\"],[0.3333333333333333,\"#9c179e\"],[0.4444444444444444,\"#bd3786\"],[0.5555555555555556,\"#d8576b\"],[0.6666666666666666,\"#ed7953\"],[0.7777777777777778,\"#fb9f3a\"],[0.8888888888888888,\"#fdca26\"],[1.0,\"#f0f921\"]]}],\"heatmapgl\":[{\"type\":\"heatmapgl\",\"colorbar\":{\"outlinewidth\":0,\"ticks\":\"\"},\"colorscale\":[[0.0,\"#0d0887\"],[0.1111111111111111,\"#46039f\"],[0.2222222222222222,\"#7201a8\"],[0.3333333333333333,\"#9c179e\"],[0.4444444444444444,\"#bd3786\"],[0.5555555555555556,\"#d8576b\"],[0.6666666666666666,\"#ed7953\"],[0.7777777777777778,\"#fb9f3a\"],[0.8888888888888888,\"#fdca26\"],[1.0,\"#f0f921\"]]}],\"contourcarpet\":[{\"type\":\"contourcarpet\",\"colorbar\":{\"outlinewidth\":0,\"ticks\":\"\"}}],\"contour\":[{\"type\":\"contour\",\"colorbar\":{\"outlinewidth\":0,\"ticks\":\"\"},\"colorscale\":[[0.0,\"#0d0887\"],[0.1111111111111111,\"#46039f\"],[0.2222222222222222,\"#7201a8\"],[0.3333333333333333,\"#9c179e\"],[0.4444444444444444,\"#bd3786\"],[0.5555555555555556,\"#d8576b\"],[0.6666666666666666,\"#ed7953\"],[0.7777777777777778,\"#fb9f3a\"],[0.8888888888888888,\"#fdca26\"],[1.0,\"#f0f921\"]]}],\"surface\":[{\"type\":\"surface\",\"colorbar\":{\"outlinewidth\":0,\"ticks\":\"\"},\"colorscale\":[[0.0,\"#0d0887\"],[0.1111111111111111,\"#46039f\"],[0.2222222222222222,\"#7201a8\"],[0.3333333333333333,\"#9c179e\"],[0.4444444444444444,\"#bd3786\"],[0.5555555555555556,\"#d8576b\"],[0.6666666666666666,\"#ed7953\"],[0.7777777777777778,\"#fb9f3a\"],[0.8888888888888888,\"#fdca26\"],[1.0,\"#f0f921\"]]}],\"mesh3d\":[{\"type\":\"mesh3d\",\"colorbar\":{\"outlinewidth\":0,\"ticks\":\"\"}}],\"scatter\":[{\"fillpattern\":{\"fillmode\":\"overlay\",\"size\":10,\"solidity\":0.2},\"type\":\"scatter\"}],\"parcoords\":[{\"type\":\"parcoords\",\"line\":{\"colorbar\":{\"outlinewidth\":0,\"ticks\":\"\"}}}],\"scatterpolargl\":[{\"type\":\"scatterpolargl\",\"marker\":{\"colorbar\":{\"outlinewidth\":0,\"ticks\":\"\"}}}],\"bar\":[{\"error_x\":{\"color\":\"#2a3f5f\"},\"error_y\":{\"color\":\"#2a3f5f\"},\"marker\":{\"line\":{\"color\":\"#E5ECF6\",\"width\":0.5},\"pattern\":{\"fillmode\":\"overlay\",\"size\":10,\"solidity\":0.2}},\"type\":\"bar\"}],\"scattergeo\":[{\"type\":\"scattergeo\",\"marker\":{\"colorbar\":{\"outlinewidth\":0,\"ticks\":\"\"}}}],\"scatterpolar\":[{\"type\":\"scatterpolar\",\"marker\":{\"colorbar\":{\"outlinewidth\":0,\"ticks\":\"\"}}}],\"histogram\":[{\"marker\":{\"pattern\":{\"fillmode\":\"overlay\",\"size\":10,\"solidity\":0.2}},\"type\":\"histogram\"}],\"scattergl\":[{\"type\":\"scattergl\",\"marker\":{\"colorbar\":{\"outlinewidth\":0,\"ticks\":\"\"}}}],\"scatter3d\":[{\"type\":\"scatter3d\",\"line\":{\"colorbar\":{\"outlinewidth\":0,\"ticks\":\"\"}},\"marker\":{\"colorbar\":{\"outlinewidth\":0,\"ticks\":\"\"}}}],\"scattermapbox\":[{\"type\":\"scattermapbox\",\"marker\":{\"colorbar\":{\"outlinewidth\":0,\"ticks\":\"\"}}}],\"scatterternary\":[{\"type\":\"scatterternary\",\"marker\":{\"colorbar\":{\"outlinewidth\":0,\"ticks\":\"\"}}}],\"scattercarpet\":[{\"type\":\"scattercarpet\",\"marker\":{\"colorbar\":{\"outlinewidth\":0,\"ticks\":\"\"}}}],\"carpet\":[{\"aaxis\":{\"endlinecolor\":\"#2a3f5f\",\"gridcolor\":\"white\",\"linecolor\":\"white\",\"minorgridcolor\":\"white\",\"startlinecolor\":\"#2a3f5f\"},\"baxis\":{\"endlinecolor\":\"#2a3f5f\",\"gridcolor\":\"white\",\"linecolor\":\"white\",\"minorgridcolor\":\"white\",\"startlinecolor\":\"#2a3f5f\"},\"type\":\"carpet\"}],\"table\":[{\"cells\":{\"fill\":{\"color\":\"#EBF0F8\"},\"line\":{\"color\":\"white\"}},\"header\":{\"fill\":{\"color\":\"#C8D4E3\"},\"line\":{\"color\":\"white\"}},\"type\":\"table\"}],\"barpolar\":[{\"marker\":{\"line\":{\"color\":\"#E5ECF6\",\"width\":0.5},\"pattern\":{\"fillmode\":\"overlay\",\"size\":10,\"solidity\":0.2}},\"type\":\"barpolar\"}],\"pie\":[{\"automargin\":true,\"type\":\"pie\"}]},\"layout\":{\"autotypenumbers\":\"strict\",\"colorway\":[\"#636efa\",\"#EF553B\",\"#00cc96\",\"#ab63fa\",\"#FFA15A\",\"#19d3f3\",\"#FF6692\",\"#B6E880\",\"#FF97FF\",\"#FECB52\"],\"font\":{\"color\":\"#2a3f5f\"},\"hovermode\":\"closest\",\"hoverlabel\":{\"align\":\"left\"},\"paper_bgcolor\":\"white\",\"plot_bgcolor\":\"#E5ECF6\",\"polar\":{\"bgcolor\":\"#E5ECF6\",\"angularaxis\":{\"gridcolor\":\"white\",\"linecolor\":\"white\",\"ticks\":\"\"},\"radialaxis\":{\"gridcolor\":\"white\",\"linecolor\":\"white\",\"ticks\":\"\"}},\"ternary\":{\"bgcolor\":\"#E5ECF6\",\"aaxis\":{\"gridcolor\":\"white\",\"linecolor\":\"white\",\"ticks\":\"\"},\"baxis\":{\"gridcolor\":\"white\",\"linecolor\":\"white\",\"ticks\":\"\"},\"caxis\":{\"gridcolor\":\"white\",\"linecolor\":\"white\",\"ticks\":\"\"}},\"coloraxis\":{\"colorbar\":{\"outlinewidth\":0,\"ticks\":\"\"}},\"colorscale\":{\"sequential\":[[0.0,\"#0d0887\"],[0.1111111111111111,\"#46039f\"],[0.2222222222222222,\"#7201a8\"],[0.3333333333333333,\"#9c179e\"],[0.4444444444444444,\"#bd3786\"],[0.5555555555555556,\"#d8576b\"],[0.6666666666666666,\"#ed7953\"],[0.7777777777777778,\"#fb9f3a\"],[0.8888888888888888,\"#fdca26\"],[1.0,\"#f0f921\"]],\"sequentialminus\":[[0.0,\"#0d0887\"],[0.1111111111111111,\"#46039f\"],[0.2222222222222222,\"#7201a8\"],[0.3333333333333333,\"#9c179e\"],[0.4444444444444444,\"#bd3786\"],[0.5555555555555556,\"#d8576b\"],[0.6666666666666666,\"#ed7953\"],[0.7777777777777778,\"#fb9f3a\"],[0.8888888888888888,\"#fdca26\"],[1.0,\"#f0f921\"]],\"diverging\":[[0,\"#8e0152\"],[0.1,\"#c51b7d\"],[0.2,\"#de77ae\"],[0.3,\"#f1b6da\"],[0.4,\"#fde0ef\"],[0.5,\"#f7f7f7\"],[0.6,\"#e6f5d0\"],[0.7,\"#b8e186\"],[0.8,\"#7fbc41\"],[0.9,\"#4d9221\"],[1,\"#276419\"]]},\"xaxis\":{\"gridcolor\":\"white\",\"linecolor\":\"white\",\"ticks\":\"\",\"title\":{\"standoff\":15},\"zerolinecolor\":\"white\",\"automargin\":true,\"zerolinewidth\":2},\"yaxis\":{\"gridcolor\":\"white\",\"linecolor\":\"white\",\"ticks\":\"\",\"title\":{\"standoff\":15},\"zerolinecolor\":\"white\",\"automargin\":true,\"zerolinewidth\":2},\"scene\":{\"xaxis\":{\"backgroundcolor\":\"#E5ECF6\",\"gridcolor\":\"white\",\"linecolor\":\"white\",\"showbackground\":true,\"ticks\":\"\",\"zerolinecolor\":\"white\",\"gridwidth\":2},\"yaxis\":{\"backgroundcolor\":\"#E5ECF6\",\"gridcolor\":\"white\",\"linecolor\":\"white\",\"showbackground\":true,\"ticks\":\"\",\"zerolinecolor\":\"white\",\"gridwidth\":2},\"zaxis\":{\"backgroundcolor\":\"#E5ECF6\",\"gridcolor\":\"white\",\"linecolor\":\"white\",\"showbackground\":true,\"ticks\":\"\",\"zerolinecolor\":\"white\",\"gridwidth\":2}},\"shapedefaults\":{\"line\":{\"color\":\"#2a3f5f\"}},\"annotationdefaults\":{\"arrowcolor\":\"#2a3f5f\",\"arrowhead\":0,\"arrowwidth\":1},\"geo\":{\"bgcolor\":\"white\",\"landcolor\":\"#E5ECF6\",\"subunitcolor\":\"white\",\"showland\":true,\"showlakes\":true,\"lakecolor\":\"white\"},\"title\":{\"x\":0.05},\"mapbox\":{\"style\":\"light\"}}},\"xaxis\":{\"anchor\":\"y\",\"domain\":[0.0,1.0],\"title\":{\"text\":\"\\uc8fc\\ubb38\\uc6d4\"}},\"yaxis\":{\"anchor\":\"x\",\"domain\":[0.0,1.0],\"title\":{\"text\":\"\\uc0c1\\ud488\\uad6c\\ub9e4\\uae08\\uc561\"}},\"legend\":{\"title\":{\"text\":\"\\ub098\\uc774\\ub300\"},\"tracegroupgap\":0},\"margin\":{\"t\":60}},                        {\"responsive\": true}                    )                };                            </script>        </div>"
      ],
      "text/plain": [
       "Figure({\n",
       "    'data': [{'hovertemplate': '나이대=20대<br>주문월=%{x}<br>상품구매금액=%{y}<extra></extra>',\n",
       "              'legendgroup': '20대',\n",
       "              'line': {'color': '#636efa', 'dash': 'solid'},\n",
       "              'marker': {'symbol': 'circle'},\n",
       "              'mode': 'lines',\n",
       "              'name': '20대',\n",
       "              'orientation': 'v',\n",
       "              'showlegend': True,\n",
       "              'type': 'scatter',\n",
       "              'x': array([datetime.datetime(2017, 1, 1, 0, 0),\n",
       "                          datetime.datetime(2017, 2, 1, 0, 0),\n",
       "                          datetime.datetime(2017, 3, 1, 0, 0),\n",
       "                          datetime.datetime(2017, 5, 1, 0, 0),\n",
       "                          datetime.datetime(2017, 6, 1, 0, 0),\n",
       "                          datetime.datetime(2017, 7, 1, 0, 0),\n",
       "                          datetime.datetime(2017, 8, 1, 0, 0),\n",
       "                          datetime.datetime(2017, 9, 1, 0, 0),\n",
       "                          datetime.datetime(2017, 10, 1, 0, 0),\n",
       "                          datetime.datetime(2017, 11, 1, 0, 0),\n",
       "                          datetime.datetime(2017, 12, 1, 0, 0),\n",
       "                          datetime.datetime(2018, 1, 1, 0, 0),\n",
       "                          datetime.datetime(2018, 2, 1, 0, 0),\n",
       "                          datetime.datetime(2018, 3, 1, 0, 0),\n",
       "                          datetime.datetime(2018, 4, 1, 0, 0),\n",
       "                          datetime.datetime(2018, 5, 1, 0, 0),\n",
       "                          datetime.datetime(2018, 6, 1, 0, 0),\n",
       "                          datetime.datetime(2018, 7, 1, 0, 0),\n",
       "                          datetime.datetime(2018, 8, 1, 0, 0),\n",
       "                          datetime.datetime(2018, 9, 1, 0, 0),\n",
       "                          datetime.datetime(2018, 10, 1, 0, 0),\n",
       "                          datetime.datetime(2018, 11, 1, 0, 0),\n",
       "                          datetime.datetime(2018, 12, 1, 0, 0),\n",
       "                          datetime.datetime(2019, 1, 1, 0, 0),\n",
       "                          datetime.datetime(2019, 2, 1, 0, 0),\n",
       "                          datetime.datetime(2019, 3, 1, 0, 0),\n",
       "                          datetime.datetime(2019, 4, 1, 0, 0),\n",
       "                          datetime.datetime(2019, 5, 1, 0, 0)], dtype=object),\n",
       "              'xaxis': 'x',\n",
       "              'y': array([17000., 17000., 39550., 29040., 65500., 67500., 88000., 74000., 74000.,\n",
       "                          66605., 75350., 53900., 61600., 53000., 59200., 61970., 71490., 61970.,\n",
       "                          63240., 66500., 56760., 58410., 63470., 78870., 71450., 63070., 63620.,\n",
       "                          63070.]),\n",
       "              'yaxis': 'y'},\n",
       "             {'hovertemplate': '나이대=30대<br>주문월=%{x}<br>상품구매금액=%{y}<extra></extra>',\n",
       "              'legendgroup': '30대',\n",
       "              'line': {'color': '#EF553B', 'dash': 'solid'},\n",
       "              'marker': {'symbol': 'circle'},\n",
       "              'mode': 'lines',\n",
       "              'name': '30대',\n",
       "              'orientation': 'v',\n",
       "              'showlegend': True,\n",
       "              'type': 'scatter',\n",
       "              'x': array([datetime.datetime(2017, 3, 1, 0, 0),\n",
       "                          datetime.datetime(2017, 4, 1, 0, 0),\n",
       "                          datetime.datetime(2017, 5, 1, 0, 0),\n",
       "                          datetime.datetime(2017, 6, 1, 0, 0),\n",
       "                          datetime.datetime(2017, 7, 1, 0, 0),\n",
       "                          datetime.datetime(2017, 8, 1, 0, 0),\n",
       "                          datetime.datetime(2017, 9, 1, 0, 0),\n",
       "                          datetime.datetime(2017, 10, 1, 0, 0),\n",
       "                          datetime.datetime(2017, 11, 1, 0, 0),\n",
       "                          datetime.datetime(2017, 12, 1, 0, 0),\n",
       "                          datetime.datetime(2018, 1, 1, 0, 0),\n",
       "                          datetime.datetime(2018, 2, 1, 0, 0),\n",
       "                          datetime.datetime(2018, 3, 1, 0, 0),\n",
       "                          datetime.datetime(2018, 4, 1, 0, 0),\n",
       "                          datetime.datetime(2018, 5, 1, 0, 0),\n",
       "                          datetime.datetime(2018, 6, 1, 0, 0),\n",
       "                          datetime.datetime(2018, 7, 1, 0, 0),\n",
       "                          datetime.datetime(2018, 8, 1, 0, 0),\n",
       "                          datetime.datetime(2018, 9, 1, 0, 0),\n",
       "                          datetime.datetime(2018, 10, 1, 0, 0),\n",
       "                          datetime.datetime(2018, 11, 1, 0, 0),\n",
       "                          datetime.datetime(2018, 12, 1, 0, 0),\n",
       "                          datetime.datetime(2019, 1, 1, 0, 0),\n",
       "                          datetime.datetime(2019, 2, 1, 0, 0),\n",
       "                          datetime.datetime(2019, 3, 1, 0, 0),\n",
       "                          datetime.datetime(2019, 4, 1, 0, 0),\n",
       "                          datetime.datetime(2019, 5, 1, 0, 0)], dtype=object),\n",
       "              'xaxis': 'x',\n",
       "              'y': array([60000., 73000., 66500., 62490., 47000., 47935., 53600., 61930., 67100.,\n",
       "                          73460., 56980., 51700., 53000., 68200., 61970., 63240., 61970., 61970.,\n",
       "                          60540., 58410., 58410., 63470., 78870., 74990., 61900., 65640., 63070.]),\n",
       "              'yaxis': 'y'},\n",
       "             {'hovertemplate': '나이대=40대<br>주문월=%{x}<br>상품구매금액=%{y}<extra></extra>',\n",
       "              'legendgroup': '40대',\n",
       "              'line': {'color': '#00cc96', 'dash': 'solid'},\n",
       "              'marker': {'symbol': 'circle'},\n",
       "              'mode': 'lines',\n",
       "              'name': '40대',\n",
       "              'orientation': 'v',\n",
       "              'showlegend': True,\n",
       "              'type': 'scatter',\n",
       "              'x': array([datetime.datetime(2017, 1, 1, 0, 0),\n",
       "                          datetime.datetime(2017, 2, 1, 0, 0),\n",
       "                          datetime.datetime(2017, 3, 1, 0, 0),\n",
       "                          datetime.datetime(2017, 4, 1, 0, 0),\n",
       "                          datetime.datetime(2017, 5, 1, 0, 0),\n",
       "                          datetime.datetime(2017, 6, 1, 0, 0),\n",
       "                          datetime.datetime(2017, 7, 1, 0, 0),\n",
       "                          datetime.datetime(2017, 8, 1, 0, 0),\n",
       "                          datetime.datetime(2017, 9, 1, 0, 0),\n",
       "                          datetime.datetime(2017, 10, 1, 0, 0),\n",
       "                          datetime.datetime(2017, 11, 1, 0, 0),\n",
       "                          datetime.datetime(2017, 12, 1, 0, 0),\n",
       "                          datetime.datetime(2018, 1, 1, 0, 0),\n",
       "                          datetime.datetime(2018, 2, 1, 0, 0),\n",
       "                          datetime.datetime(2018, 3, 1, 0, 0),\n",
       "                          datetime.datetime(2018, 4, 1, 0, 0),\n",
       "                          datetime.datetime(2018, 5, 1, 0, 0),\n",
       "                          datetime.datetime(2018, 6, 1, 0, 0),\n",
       "                          datetime.datetime(2018, 7, 1, 0, 0),\n",
       "                          datetime.datetime(2018, 8, 1, 0, 0),\n",
       "                          datetime.datetime(2018, 9, 1, 0, 0),\n",
       "                          datetime.datetime(2018, 10, 1, 0, 0),\n",
       "                          datetime.datetime(2018, 11, 1, 0, 0),\n",
       "                          datetime.datetime(2018, 12, 1, 0, 0),\n",
       "                          datetime.datetime(2019, 1, 1, 0, 0),\n",
       "                          datetime.datetime(2019, 2, 1, 0, 0),\n",
       "                          datetime.datetime(2019, 3, 1, 0, 0),\n",
       "                          datetime.datetime(2019, 4, 1, 0, 0),\n",
       "                          datetime.datetime(2019, 5, 1, 0, 0),\n",
       "                          datetime.datetime(2019, 6, 1, 0, 0)], dtype=object),\n",
       "              'xaxis': 'x',\n",
       "              'y': array([73700., 55100., 70160., 77700., 59200., 59200., 53390., 59000., 53820.,\n",
       "                          58780., 58960., 58190., 58960., 61600., 53000., 63900., 63240., 67840.,\n",
       "                          63240., 63950., 70500., 58410., 68970., 63470., 78870., 70670., 61900.,\n",
       "                          64070., 63070., 60900.]),\n",
       "              'yaxis': 'y'},\n",
       "             {'hovertemplate': '나이대=50대<br>주문월=%{x}<br>상품구매금액=%{y}<extra></extra>',\n",
       "              'legendgroup': '50대',\n",
       "              'line': {'color': '#ab63fa', 'dash': 'solid'},\n",
       "              'marker': {'symbol': 'circle'},\n",
       "              'mode': 'lines',\n",
       "              'name': '50대',\n",
       "              'orientation': 'v',\n",
       "              'showlegend': True,\n",
       "              'type': 'scatter',\n",
       "              'x': array([datetime.datetime(2017, 1, 1, 0, 0),\n",
       "                          datetime.datetime(2017, 4, 1, 0, 0),\n",
       "                          datetime.datetime(2017, 5, 1, 0, 0),\n",
       "                          datetime.datetime(2017, 6, 1, 0, 0),\n",
       "                          datetime.datetime(2017, 7, 1, 0, 0),\n",
       "                          datetime.datetime(2017, 8, 1, 0, 0),\n",
       "                          datetime.datetime(2017, 9, 1, 0, 0),\n",
       "                          datetime.datetime(2017, 10, 1, 0, 0),\n",
       "                          datetime.datetime(2017, 11, 1, 0, 0),\n",
       "                          datetime.datetime(2017, 12, 1, 0, 0),\n",
       "                          datetime.datetime(2018, 1, 1, 0, 0),\n",
       "                          datetime.datetime(2018, 2, 1, 0, 0),\n",
       "                          datetime.datetime(2018, 3, 1, 0, 0),\n",
       "                          datetime.datetime(2018, 4, 1, 0, 0),\n",
       "                          datetime.datetime(2018, 5, 1, 0, 0),\n",
       "                          datetime.datetime(2018, 6, 1, 0, 0),\n",
       "                          datetime.datetime(2018, 7, 1, 0, 0),\n",
       "                          datetime.datetime(2018, 8, 1, 0, 0),\n",
       "                          datetime.datetime(2018, 9, 1, 0, 0),\n",
       "                          datetime.datetime(2018, 10, 1, 0, 0),\n",
       "                          datetime.datetime(2018, 11, 1, 0, 0),\n",
       "                          datetime.datetime(2018, 12, 1, 0, 0),\n",
       "                          datetime.datetime(2019, 1, 1, 0, 0),\n",
       "                          datetime.datetime(2019, 2, 1, 0, 0),\n",
       "                          datetime.datetime(2019, 3, 1, 0, 0),\n",
       "                          datetime.datetime(2019, 4, 1, 0, 0),\n",
       "                          datetime.datetime(2019, 5, 1, 0, 0)], dtype=object),\n",
       "              'xaxis': 'x',\n",
       "              'y': array([ 66500.,  81000.,  15000.,  62490.,  93125.,  89620., 130880.,  73200.,\n",
       "                           72050.,  82225.,  68880.,  61600.,  60000.,  67000.,  73850.,  70500.,\n",
       "                           70500.,  71545.,  74400.,  71450.,  74120.,  71940.,  87120.,  75570.,\n",
       "                           76265.,  74795.,  61900.]),\n",
       "              'yaxis': 'y'},\n",
       "             {'hovertemplate': '나이대=60대<br>주문월=%{x}<br>상품구매금액=%{y}<extra></extra>',\n",
       "              'legendgroup': '60대',\n",
       "              'line': {'color': '#FFA15A', 'dash': 'solid'},\n",
       "              'marker': {'symbol': 'circle'},\n",
       "              'mode': 'lines',\n",
       "              'name': '60대',\n",
       "              'orientation': 'v',\n",
       "              'showlegend': True,\n",
       "              'type': 'scatter',\n",
       "              'x': array([datetime.datetime(2017, 2, 1, 0, 0),\n",
       "                          datetime.datetime(2017, 3, 1, 0, 0),\n",
       "                          datetime.datetime(2017, 5, 1, 0, 0),\n",
       "                          datetime.datetime(2017, 6, 1, 0, 0),\n",
       "                          datetime.datetime(2017, 7, 1, 0, 0),\n",
       "                          datetime.datetime(2017, 8, 1, 0, 0),\n",
       "                          datetime.datetime(2017, 9, 1, 0, 0),\n",
       "                          datetime.datetime(2017, 10, 1, 0, 0),\n",
       "                          datetime.datetime(2017, 12, 1, 0, 0),\n",
       "                          datetime.datetime(2018, 1, 1, 0, 0),\n",
       "                          datetime.datetime(2018, 2, 1, 0, 0),\n",
       "                          datetime.datetime(2018, 3, 1, 0, 0),\n",
       "                          datetime.datetime(2018, 4, 1, 0, 0),\n",
       "                          datetime.datetime(2018, 5, 1, 0, 0),\n",
       "                          datetime.datetime(2018, 6, 1, 0, 0),\n",
       "                          datetime.datetime(2018, 7, 1, 0, 0),\n",
       "                          datetime.datetime(2018, 8, 1, 0, 0),\n",
       "                          datetime.datetime(2018, 9, 1, 0, 0),\n",
       "                          datetime.datetime(2018, 10, 1, 0, 0),\n",
       "                          datetime.datetime(2018, 11, 1, 0, 0),\n",
       "                          datetime.datetime(2018, 12, 1, 0, 0),\n",
       "                          datetime.datetime(2019, 1, 1, 0, 0),\n",
       "                          datetime.datetime(2019, 2, 1, 0, 0),\n",
       "                          datetime.datetime(2019, 3, 1, 0, 0),\n",
       "                          datetime.datetime(2019, 4, 1, 0, 0),\n",
       "                          datetime.datetime(2019, 5, 1, 0, 0)], dtype=object),\n",
       "              'xaxis': 'x',\n",
       "              'y': array([ 11700.,   7550.,  73000., 104400.,  98700.,  63055.,  97220.,  67610.,\n",
       "                           63600.,  91600.,  35000.,  71500.,  76300.,  87870.,  82600.,  83360.,\n",
       "                           82600.,  83360.,  71450.,  78870.,  75240.,  94710., 144980.,  76710.,\n",
       "                          121440.,  76710.]),\n",
       "              'yaxis': 'y'},\n",
       "             {'hovertemplate': '나이대=70대<br>주문월=%{x}<br>상품구매금액=%{y}<extra></extra>',\n",
       "              'legendgroup': '70대',\n",
       "              'line': {'color': '#19d3f3', 'dash': 'solid'},\n",
       "              'marker': {'symbol': 'circle'},\n",
       "              'mode': 'lines',\n",
       "              'name': '70대',\n",
       "              'orientation': 'v',\n",
       "              'showlegend': True,\n",
       "              'type': 'scatter',\n",
       "              'x': array([datetime.datetime(2017, 5, 1, 0, 0),\n",
       "                          datetime.datetime(2017, 6, 1, 0, 0),\n",
       "                          datetime.datetime(2017, 7, 1, 0, 0),\n",
       "                          datetime.datetime(2017, 8, 1, 0, 0),\n",
       "                          datetime.datetime(2017, 9, 1, 0, 0),\n",
       "                          datetime.datetime(2017, 10, 1, 0, 0),\n",
       "                          datetime.datetime(2017, 12, 1, 0, 0),\n",
       "                          datetime.datetime(2018, 1, 1, 0, 0),\n",
       "                          datetime.datetime(2018, 3, 1, 0, 0),\n",
       "                          datetime.datetime(2018, 4, 1, 0, 0),\n",
       "                          datetime.datetime(2018, 5, 1, 0, 0),\n",
       "                          datetime.datetime(2018, 6, 1, 0, 0),\n",
       "                          datetime.datetime(2018, 7, 1, 0, 0),\n",
       "                          datetime.datetime(2018, 8, 1, 0, 0),\n",
       "                          datetime.datetime(2018, 9, 1, 0, 0),\n",
       "                          datetime.datetime(2018, 10, 1, 0, 0),\n",
       "                          datetime.datetime(2018, 11, 1, 0, 0),\n",
       "                          datetime.datetime(2018, 12, 1, 0, 0),\n",
       "                          datetime.datetime(2019, 1, 1, 0, 0),\n",
       "                          datetime.datetime(2019, 2, 1, 0, 0),\n",
       "                          datetime.datetime(2019, 3, 1, 0, 0),\n",
       "                          datetime.datetime(2019, 4, 1, 0, 0),\n",
       "                          datetime.datetime(2019, 5, 1, 0, 0)], dtype=object),\n",
       "              'xaxis': 'x',\n",
       "              'y': array([235000., 235000., 262500., 157500., 268000., 262500., 134750.,  28490.,\n",
       "                           72000.,  96400., 165200.,  81990.,  61970.,  82600.,  86205.,  94710.,\n",
       "                           89760.,  82170.,  94710., 117620.,  99570., 117620.,  86715.]),\n",
       "              'yaxis': 'y'},\n",
       "             {'hovertemplate': '나이대=80대<br>주문월=%{x}<br>상품구매금액=%{y}<extra></extra>',\n",
       "              'legendgroup': '80대',\n",
       "              'line': {'color': '#FF6692', 'dash': 'solid'},\n",
       "              'marker': {'symbol': 'circle'},\n",
       "              'mode': 'lines',\n",
       "              'name': '80대',\n",
       "              'orientation': 'v',\n",
       "              'showlegend': True,\n",
       "              'type': 'scatter',\n",
       "              'x': array([datetime.datetime(2018, 5, 1, 0, 0),\n",
       "                          datetime.datetime(2018, 6, 1, 0, 0),\n",
       "                          datetime.datetime(2018, 7, 1, 0, 0),\n",
       "                          datetime.datetime(2018, 10, 1, 0, 0),\n",
       "                          datetime.datetime(2019, 2, 1, 0, 0),\n",
       "                          datetime.datetime(2019, 3, 1, 0, 0),\n",
       "                          datetime.datetime(2019, 4, 1, 0, 0),\n",
       "                          datetime.datetime(2019, 5, 1, 0, 0)], dtype=object),\n",
       "              'xaxis': 'x',\n",
       "              'y': array([70330.,     0., 41765., 57585., 59295., 62485., 60940., 76080.]),\n",
       "              'yaxis': 'y'},\n",
       "             {'hovertemplate': '나이대=90대<br>주문월=%{x}<br>상품구매금액=%{y}<extra></extra>',\n",
       "              'legendgroup': '90대',\n",
       "              'line': {'color': '#B6E880', 'dash': 'solid'},\n",
       "              'marker': {'symbol': 'circle'},\n",
       "              'mode': 'lines',\n",
       "              'name': '90대',\n",
       "              'orientation': 'v',\n",
       "              'showlegend': True,\n",
       "              'type': 'scatter',\n",
       "              'x': array([datetime.datetime(2018, 1, 1, 0, 0),\n",
       "                          datetime.datetime(2018, 5, 1, 0, 0),\n",
       "                          datetime.datetime(2018, 7, 1, 0, 0),\n",
       "                          datetime.datetime(2019, 1, 1, 0, 0),\n",
       "                          datetime.datetime(2019, 4, 1, 0, 0)], dtype=object),\n",
       "              'xaxis': 'x',\n",
       "              'y': array([ 81400.,  54800.,  22350., 100515.,  35210.]),\n",
       "              'yaxis': 'y'},\n",
       "             {'hovertemplate': '나이대=None<br>주문월=%{x}<br>상품구매금액=%{y}<extra></extra>',\n",
       "              'legendgroup': 'None',\n",
       "              'line': {'color': '#FF97FF', 'dash': 'solid'},\n",
       "              'marker': {'symbol': 'circle'},\n",
       "              'mode': 'lines',\n",
       "              'name': 'None',\n",
       "              'orientation': 'v',\n",
       "              'showlegend': True,\n",
       "              'type': 'scatter',\n",
       "              'x': array([datetime.datetime(2017, 2, 1, 0, 0),\n",
       "                          datetime.datetime(2017, 3, 1, 0, 0),\n",
       "                          datetime.datetime(2017, 4, 1, 0, 0),\n",
       "                          datetime.datetime(2017, 5, 1, 0, 0),\n",
       "                          datetime.datetime(2017, 6, 1, 0, 0),\n",
       "                          datetime.datetime(2017, 7, 1, 0, 0),\n",
       "                          datetime.datetime(2017, 8, 1, 0, 0),\n",
       "                          datetime.datetime(2017, 9, 1, 0, 0),\n",
       "                          datetime.datetime(2017, 10, 1, 0, 0),\n",
       "                          datetime.datetime(2017, 11, 1, 0, 0),\n",
       "                          datetime.datetime(2017, 12, 1, 0, 0),\n",
       "                          datetime.datetime(2018, 1, 1, 0, 0),\n",
       "                          datetime.datetime(2018, 2, 1, 0, 0),\n",
       "                          datetime.datetime(2018, 3, 1, 0, 0),\n",
       "                          datetime.datetime(2018, 4, 1, 0, 0),\n",
       "                          datetime.datetime(2018, 5, 1, 0, 0),\n",
       "                          datetime.datetime(2018, 6, 1, 0, 0),\n",
       "                          datetime.datetime(2018, 7, 1, 0, 0),\n",
       "                          datetime.datetime(2018, 8, 1, 0, 0),\n",
       "                          datetime.datetime(2018, 9, 1, 0, 0),\n",
       "                          datetime.datetime(2018, 10, 1, 0, 0),\n",
       "                          datetime.datetime(2018, 11, 1, 0, 0),\n",
       "                          datetime.datetime(2018, 12, 1, 0, 0),\n",
       "                          datetime.datetime(2019, 1, 1, 0, 0),\n",
       "                          datetime.datetime(2019, 2, 1, 0, 0),\n",
       "                          datetime.datetime(2019, 3, 1, 0, 0),\n",
       "                          datetime.datetime(2019, 4, 1, 0, 0),\n",
       "                          datetime.datetime(2019, 5, 1, 0, 0),\n",
       "                          datetime.datetime(2019, 6, 1, 0, 0)], dtype=object),\n",
       "              'xaxis': 'x',\n",
       "              'y': array([53150., 53300., 29000., 58000., 52200., 47000., 42220., 53600., 53820.,\n",
       "                          53900., 73460., 79420., 77000., 66000., 68200., 67840., 71800., 77370.,\n",
       "                          77700., 78870., 78870., 78870., 77220., 78870., 68750., 63070., 64070.,\n",
       "                          61470., 98600.]),\n",
       "              'yaxis': 'y'}],\n",
       "    'layout': {'legend': {'title': {'text': '나이대'}, 'tracegroupgap': 0},\n",
       "               'margin': {'t': 60},\n",
       "               'template': '...',\n",
       "               'xaxis': {'anchor': 'y', 'domain': [0.0, 1.0], 'title': {'text': '주문월'}},\n",
       "               'yaxis': {'anchor': 'x', 'domain': [0.0, 1.0], 'title': {'text': '상품구매금액'}}}\n",
       "})"
      ]
     },
     "execution_count": 292,
     "metadata": {},
     "output_type": "execute_result"
    }
   ],
   "source": [
    "px.line(df_ages_price, x='주문월',y='상품구매금액',color='나이대')"
   ]
  },
  {
   "cell_type": "code",
   "execution_count": 293,
   "metadata": {},
   "outputs": [
    {
     "data": {
      "text/plain": [
       "Index(['결제수단', '공급원가', '네이버 포인트', '배송번호', '배송비 정보', '배송시작일', '배송완료일',\n",
       "       '사용한 적립금액', '상품구매금액', '상품명', '상품번호', '상품별 추가할인금액', '수량', '수령인 주소',\n",
       "       '주문 시 회원등급', '주문경로', '주문번호', '주문일시', '주문자ID', '카드사', '쿠폰 할인금액', '판매가',\n",
       "       '품목번호', '배송걸린기간', '택배배송', '재고준비기간', '지역'],\n",
       "      dtype='object')"
      ]
     },
     "execution_count": 293,
     "metadata": {},
     "output_type": "execute_result"
    }
   ],
   "source": [
    "dt1.columns"
   ]
  },
  {
   "cell_type": "code",
   "execution_count": 296,
   "metadata": {},
   "outputs": [],
   "source": [
    "dt1_ages = dt1.merge(dt2[['ID','나이대']], how='left', left_on='주문자ID', right_on='ID')"
   ]
  },
  {
   "cell_type": "code",
   "execution_count": 298,
   "metadata": {},
   "outputs": [
    {
     "data": {
      "text/plain": [
       "Index(['결제수단', '공급원가', '네이버 포인트', '배송번호', '배송비 정보', '배송시작일', '배송완료일',\n",
       "       '사용한 적립금액', '상품구매금액', '상품명', '상품번호', '상품별 추가할인금액', '수량', '수령인 주소',\n",
       "       '주문 시 회원등급', '주문경로', '주문번호', '주문일시', '주문자ID', '카드사', '쿠폰 할인금액', '판매가',\n",
       "       '품목번호', '배송걸린기간', '택배배송', '재고준비기간', '지역', 'ID', '나이대'],\n",
       "      dtype='object')"
      ]
     },
     "execution_count": 298,
     "metadata": {},
     "output_type": "execute_result"
    }
   ],
   "source": [
    "dt1_ages.columns"
   ]
  },
  {
   "cell_type": "code",
   "execution_count": 307,
   "metadata": {},
   "outputs": [
    {
     "data": {
      "text/plain": [
       "0       2018-12-27 14:54:00\n",
       "1       2018-12-29 13:22:00\n",
       "2       2018-12-30 15:15:00\n",
       "3       2018-12-31 10:30:00\n",
       "4       2018-12-31 10:43:00\n",
       "                ...        \n",
       "46744   2017-12-29 13:39:00\n",
       "46745   2017-12-29 17:16:00\n",
       "46746   2017-12-30 18:56:00\n",
       "46747   2017-12-31 10:00:00\n",
       "46748   2017-12-31 18:15:00\n",
       "Name: 주문일시, Length: 46749, dtype: datetime64[ns]"
      ]
     },
     "execution_count": 307,
     "metadata": {},
     "output_type": "execute_result"
    }
   ],
   "source": [
    "dt1_ages['주문일시']"
   ]
  },
  {
   "cell_type": "code",
   "execution_count": 305,
   "metadata": {},
   "outputs": [],
   "source": [
    "dt1_ages['주문날짜'] = pd.to_datetime(dt1_ages['주문일시'], format='%Y-%m-%d %H:%M:%S')\n",
    "dt1_ages['주문날짜'] = dt1_ages['주문날짜'].astype('str')\n",
    "dt1_ages['주문날짜'] = dt1_ages['주문날짜'].apply(lambda x: x.split(' ')[0])\n"
   ]
  },
  {
   "cell_type": "code",
   "execution_count": 310,
   "metadata": {},
   "outputs": [],
   "source": [
    "dt1_ages['주문날짜'] = dt1_ages['주문날짜'].astype('str')\n",
    "dt1_ages['주문날짜'].apply(lambda x: x[:7])\n",
    "dt1_ages['주문월'] = dt1_ages['주문날짜'].apply(lambda x: x[:7])"
   ]
  },
  {
   "cell_type": "code",
   "execution_count": 313,
   "metadata": {},
   "outputs": [],
   "source": [
    "dt1_ages['주문월'] = pd.to_datetime(dt1_ages['주문월'], format='%Y-%m')"
   ]
  },
  {
   "cell_type": "code",
   "execution_count": 316,
   "metadata": {},
   "outputs": [],
   "source": [
    "dt1_ages_month_price = dt1_ages.groupby(['나이대','주문월','상품구매금액'])[['ID']].count().reset_index()"
   ]
  },
  {
   "cell_type": "code",
   "execution_count": 317,
   "metadata": {},
   "outputs": [
    {
     "data": {
      "text/html": [
       "<div>\n",
       "<style scoped>\n",
       "    .dataframe tbody tr th:only-of-type {\n",
       "        vertical-align: middle;\n",
       "    }\n",
       "\n",
       "    .dataframe tbody tr th {\n",
       "        vertical-align: top;\n",
       "    }\n",
       "\n",
       "    .dataframe thead th {\n",
       "        text-align: right;\n",
       "    }\n",
       "</style>\n",
       "<table border=\"1\" class=\"dataframe\">\n",
       "  <thead>\n",
       "    <tr style=\"text-align: right;\">\n",
       "      <th></th>\n",
       "      <th>나이대</th>\n",
       "      <th>주문월</th>\n",
       "      <th>상품구매금액</th>\n",
       "      <th>ID</th>\n",
       "    </tr>\n",
       "  </thead>\n",
       "  <tbody>\n",
       "    <tr>\n",
       "      <th>0</th>\n",
       "      <td>20대</td>\n",
       "      <td>2017-01-01</td>\n",
       "      <td>17000</td>\n",
       "      <td>2</td>\n",
       "    </tr>\n",
       "    <tr>\n",
       "      <th>1</th>\n",
       "      <td>20대</td>\n",
       "      <td>2017-02-01</td>\n",
       "      <td>17000</td>\n",
       "      <td>1</td>\n",
       "    </tr>\n",
       "    <tr>\n",
       "      <th>2</th>\n",
       "      <td>20대</td>\n",
       "      <td>2017-03-01</td>\n",
       "      <td>21500</td>\n",
       "      <td>1</td>\n",
       "    </tr>\n",
       "    <tr>\n",
       "      <th>3</th>\n",
       "      <td>20대</td>\n",
       "      <td>2017-03-01</td>\n",
       "      <td>57600</td>\n",
       "      <td>1</td>\n",
       "    </tr>\n",
       "    <tr>\n",
       "      <th>4</th>\n",
       "      <td>20대</td>\n",
       "      <td>2017-05-01</td>\n",
       "      <td>28210</td>\n",
       "      <td>1</td>\n",
       "    </tr>\n",
       "    <tr>\n",
       "      <th>...</th>\n",
       "      <td>...</td>\n",
       "      <td>...</td>\n",
       "      <td>...</td>\n",
       "      <td>...</td>\n",
       "    </tr>\n",
       "    <tr>\n",
       "      <th>9225</th>\n",
       "      <td>90대</td>\n",
       "      <td>2018-07-01</td>\n",
       "      <td>0</td>\n",
       "      <td>1</td>\n",
       "    </tr>\n",
       "    <tr>\n",
       "      <th>9226</th>\n",
       "      <td>90대</td>\n",
       "      <td>2018-07-01</td>\n",
       "      <td>44700</td>\n",
       "      <td>1</td>\n",
       "    </tr>\n",
       "    <tr>\n",
       "      <th>9227</th>\n",
       "      <td>90대</td>\n",
       "      <td>2019-01-01</td>\n",
       "      <td>60280</td>\n",
       "      <td>1</td>\n",
       "    </tr>\n",
       "    <tr>\n",
       "      <th>9228</th>\n",
       "      <td>90대</td>\n",
       "      <td>2019-01-01</td>\n",
       "      <td>140750</td>\n",
       "      <td>1</td>\n",
       "    </tr>\n",
       "    <tr>\n",
       "      <th>9229</th>\n",
       "      <td>90대</td>\n",
       "      <td>2019-04-01</td>\n",
       "      <td>35210</td>\n",
       "      <td>1</td>\n",
       "    </tr>\n",
       "  </tbody>\n",
       "</table>\n",
       "<p>9230 rows × 4 columns</p>\n",
       "</div>"
      ],
      "text/plain": [
       "      나이대        주문월  상품구매금액  ID\n",
       "0     20대 2017-01-01   17000   2\n",
       "1     20대 2017-02-01   17000   1\n",
       "2     20대 2017-03-01   21500   1\n",
       "3     20대 2017-03-01   57600   1\n",
       "4     20대 2017-05-01   28210   1\n",
       "...   ...        ...     ...  ..\n",
       "9225  90대 2018-07-01       0   1\n",
       "9226  90대 2018-07-01   44700   1\n",
       "9227  90대 2019-01-01   60280   1\n",
       "9228  90대 2019-01-01  140750   1\n",
       "9229  90대 2019-04-01   35210   1\n",
       "\n",
       "[9230 rows x 4 columns]"
      ]
     },
     "execution_count": 317,
     "metadata": {},
     "output_type": "execute_result"
    }
   ],
   "source": [
    "dt1_ages_month_price"
   ]
  },
  {
   "cell_type": "code",
   "execution_count": 323,
   "metadata": {},
   "outputs": [
    {
     "ename": "ValueError",
     "evalue": "Mime type rendering requires nbformat>=4.2.0 but it is not installed",
     "output_type": "error",
     "traceback": [
      "\u001b[1;31m---------------------------------------------------------------------------\u001b[0m",
      "\u001b[1;31mValueError\u001b[0m                                Traceback (most recent call last)",
      "Cell \u001b[1;32mIn [323], line 8\u001b[0m\n\u001b[0;32m      2\u001b[0m \u001b[39mimport\u001b[39;00m \u001b[39mplotly\u001b[39;00m\u001b[39m.\u001b[39;00m\u001b[39mgraph_objects\u001b[39;00m \u001b[39mas\u001b[39;00m \u001b[39mgo\u001b[39;00m\n\u001b[0;32m      4\u001b[0m fig \u001b[39m=\u001b[39m go\u001b[39m.\u001b[39mFigure(data\u001b[39m=\u001b[39m[\n\u001b[0;32m      5\u001b[0m     go\u001b[39m.\u001b[39mBar(name\u001b[39m=\u001b[39m\u001b[39m'\u001b[39m\u001b[39m20대\u001b[39m\u001b[39m'\u001b[39m, x \u001b[39m=\u001b[39m dt1_ages_month_price[\u001b[39m'\u001b[39m\u001b[39m주문월\u001b[39m\u001b[39m'\u001b[39m], y \u001b[39m=\u001b[39m dt1_ages_month_price[dt1_ages_month_price[\u001b[39m'\u001b[39m\u001b[39m나이대\u001b[39m\u001b[39m'\u001b[39m] \u001b[39m==\u001b[39m \u001b[39m'\u001b[39m\u001b[39m20대\u001b[39m\u001b[39m'\u001b[39m][\u001b[39m'\u001b[39m\u001b[39m상품구매금액\u001b[39m\u001b[39m'\u001b[39m])\n\u001b[0;32m      6\u001b[0m ]\n\u001b[0;32m      7\u001b[0m )\n\u001b[1;32m----> 8\u001b[0m fig\u001b[39m.\u001b[39mshow()\n",
      "File \u001b[1;32m~\\AppData\\Roaming\\Python\\Python310\\site-packages\\plotly\\basedatatypes.py:3398\u001b[0m, in \u001b[0;36mBaseFigure.show\u001b[1;34m(self, *args, **kwargs)\u001b[0m\n\u001b[0;32m   3365\u001b[0m \u001b[39m\"\"\"\u001b[39;00m\n\u001b[0;32m   3366\u001b[0m \u001b[39mShow a figure using either the default renderer(s) or the renderer(s)\u001b[39;00m\n\u001b[0;32m   3367\u001b[0m \u001b[39mspecified by the renderer argument\u001b[39;00m\n\u001b[1;32m   (...)\u001b[0m\n\u001b[0;32m   3394\u001b[0m \u001b[39mNone\u001b[39;00m\n\u001b[0;32m   3395\u001b[0m \u001b[39m\"\"\"\u001b[39;00m\n\u001b[0;32m   3396\u001b[0m \u001b[39mimport\u001b[39;00m \u001b[39mplotly\u001b[39;00m\u001b[39m.\u001b[39;00m\u001b[39mio\u001b[39;00m \u001b[39mas\u001b[39;00m \u001b[39mpio\u001b[39;00m\n\u001b[1;32m-> 3398\u001b[0m \u001b[39mreturn\u001b[39;00m pio\u001b[39m.\u001b[39mshow(\u001b[39mself\u001b[39m, \u001b[39m*\u001b[39margs, \u001b[39m*\u001b[39m\u001b[39m*\u001b[39mkwargs)\n",
      "File \u001b[1;32m~\\AppData\\Roaming\\Python\\Python310\\site-packages\\plotly\\io\\_renderers.py:396\u001b[0m, in \u001b[0;36mshow\u001b[1;34m(fig, renderer, validate, **kwargs)\u001b[0m\n\u001b[0;32m    391\u001b[0m         \u001b[39mraise\u001b[39;00m \u001b[39mValueError\u001b[39;00m(\n\u001b[0;32m    392\u001b[0m             \u001b[39m\"\u001b[39m\u001b[39mMime type rendering requires ipython but it is not installed\u001b[39m\u001b[39m\"\u001b[39m\n\u001b[0;32m    393\u001b[0m         )\n\u001b[0;32m    395\u001b[0m     \u001b[39mif\u001b[39;00m \u001b[39mnot\u001b[39;00m nbformat \u001b[39mor\u001b[39;00m LooseVersion(nbformat\u001b[39m.\u001b[39m__version__) \u001b[39m<\u001b[39m LooseVersion(\u001b[39m\"\u001b[39m\u001b[39m4.2.0\u001b[39m\u001b[39m\"\u001b[39m):\n\u001b[1;32m--> 396\u001b[0m         \u001b[39mraise\u001b[39;00m \u001b[39mValueError\u001b[39;00m(\n\u001b[0;32m    397\u001b[0m             \u001b[39m\"\u001b[39m\u001b[39mMime type rendering requires nbformat>=4.2.0 but it is not installed\u001b[39m\u001b[39m\"\u001b[39m\n\u001b[0;32m    398\u001b[0m         )\n\u001b[0;32m    400\u001b[0m     ipython_display\u001b[39m.\u001b[39mdisplay(bundle, raw\u001b[39m=\u001b[39m\u001b[39mTrue\u001b[39;00m)\n\u001b[0;32m    402\u001b[0m \u001b[39m# external renderers\u001b[39;00m\n",
      "\u001b[1;31mValueError\u001b[0m: Mime type rendering requires nbformat>=4.2.0 but it is not installed"
     ]
    }
   ],
   "source": [
    "import plotly.express as px\n",
    "import plotly.graph_objects as go\n",
    "\n",
    "fig = go.Figure(data=[\n",
    "    go.Bar(name='20대', x = dt1_ages_month_price['주문월'], y = dt1_ages_month_price[dt1_ages_month_price['나이대'] == '20대']['상품구매금액'])\n",
    "]\n",
    ")\n",
    "fig.show()"
   ]
  },
  {
   "cell_type": "code",
   "execution_count": 322,
   "metadata": {},
   "outputs": [
    {
     "ename": "ValueError",
     "evalue": "Invalid property specified for object of type plotly.graph_objs.Bar: 'hue'\n\nDid you mean \"base\"?\n\n    Valid properties:\n        alignmentgroup\n            Set several traces linked to the same position axis or\n            matching axes to the same alignmentgroup. This controls\n            whether bars compute their positional range dependently\n            or independently.\n        base\n            Sets where the bar base is drawn (in position axis\n            units). In \"stack\" or \"relative\" barmode, traces that\n            set \"base\" will be excluded and drawn in \"overlay\" mode\n            instead.\n        basesrc\n            Sets the source reference on Chart Studio Cloud for\n            `base`.\n        cliponaxis\n            Determines whether the text nodes are clipped about the\n            subplot axes. To show the text nodes above axis lines\n            and tick labels, make sure to set `xaxis.layer` and\n            `yaxis.layer` to *below traces*.\n        constraintext\n            Constrain the size of text inside or outside a bar to\n            be no larger than the bar itself.\n        customdata\n            Assigns extra data each datum. This may be useful when\n            listening to hover, click and selection events. Note\n            that, \"scatter\" traces also appends customdata items in\n            the markers DOM elements\n        customdatasrc\n            Sets the source reference on Chart Studio Cloud for\n            `customdata`.\n        dx\n            Sets the x coordinate step. See `x0` for more info.\n        dy\n            Sets the y coordinate step. See `y0` for more info.\n        error_x\n            :class:`plotly.graph_objects.bar.ErrorX` instance or\n            dict with compatible properties\n        error_y\n            :class:`plotly.graph_objects.bar.ErrorY` instance or\n            dict with compatible properties\n        hoverinfo\n            Determines which trace information appear on hover. If\n            `none` or `skip` are set, no information is displayed\n            upon hovering. But, if `none` is set, click and hover\n            events are still fired.\n        hoverinfosrc\n            Sets the source reference on Chart Studio Cloud for\n            `hoverinfo`.\n        hoverlabel\n            :class:`plotly.graph_objects.bar.Hoverlabel` instance\n            or dict with compatible properties\n        hovertemplate\n            Template string used for rendering the information that\n            appear on hover box. Note that this will override\n            `hoverinfo`. Variables are inserted using %{variable},\n            for example \"y: %{y}\" as well as %{xother}, {%_xother},\n            {%_xother_}, {%xother_}. When showing info for several\n            points, \"xother\" will be added to those with different\n            x positions from the first point. An underscore before\n            or after \"(x|y)other\" will add a space on that side,\n            only when this field is shown. Numbers are formatted\n            using d3-format's syntax %{variable:d3-format}, for\n            example \"Price: %{y:$.2f}\".\n            https://github.com/d3/d3-format/tree/v1.4.5#d3-format\n            for details on the formatting syntax. Dates are\n            formatted using d3-time-format's syntax\n            %{variable|d3-time-format}, for example \"Day:\n            %{2019-01-01|%A}\". https://github.com/d3/d3-time-\n            format/tree/v2.2.3#locale_format for details on the\n            date formatting syntax. The variables available in\n            `hovertemplate` are the ones emitted as event data\n            described at this link\n            https://plotly.com/javascript/plotlyjs-events/#event-\n            data. Additionally, every attributes that can be\n            specified per-point (the ones that are `arrayOk: true`)\n            are available. variables `value` and `label`. Anything\n            contained in tag `<extra>` is displayed in the\n            secondary box, for example\n            \"<extra>{fullData.name}</extra>\". To hide the secondary\n            box completely, use an empty tag `<extra></extra>`.\n        hovertemplatesrc\n            Sets the source reference on Chart Studio Cloud for\n            `hovertemplate`.\n        hovertext\n            Sets hover text elements associated with each (x,y)\n            pair. If a single string, the same string appears over\n            all the data points. If an array of string, the items\n            are mapped in order to the this trace's (x,y)\n            coordinates. To be seen, trace `hoverinfo` must contain\n            a \"text\" flag.\n        hovertextsrc\n            Sets the source reference on Chart Studio Cloud for\n            `hovertext`.\n        ids\n            Assigns id labels to each datum. These ids for object\n            constancy of data points during animation. Should be an\n            array of strings, not numbers or any other type.\n        idssrc\n            Sets the source reference on Chart Studio Cloud for\n            `ids`.\n        insidetextanchor\n            Determines if texts are kept at center or start/end\n            points in `textposition` \"inside\" mode.\n        insidetextfont\n            Sets the font used for `text` lying inside the bar.\n        legendgroup\n            Sets the legend group for this trace. Traces part of\n            the same legend group hide/show at the same time when\n            toggling legend items.\n        legendgrouptitle\n            :class:`plotly.graph_objects.bar.Legendgrouptitle`\n            instance or dict with compatible properties\n        legendrank\n            Sets the legend rank for this trace. Items and groups\n            with smaller ranks are presented on top/left side while\n            with `*reversed* `legend.traceorder` they are on\n            bottom/right side. The default legendrank is 1000, so\n            that you can use ranks less than 1000 to place certain\n            items before all unranked items, and ranks greater than\n            1000 to go after all unranked items.\n        legendwidth\n            Sets the width (in px or fraction) of the legend for\n            this trace.\n        marker\n            :class:`plotly.graph_objects.bar.Marker` instance or\n            dict with compatible properties\n        meta\n            Assigns extra meta information associated with this\n            trace that can be used in various text attributes.\n            Attributes such as trace `name`, graph, axis and\n            colorbar `title.text`, annotation `text`\n            `rangeselector`, `updatemenues` and `sliders` `label`\n            text all support `meta`. To access the trace `meta`\n            values in an attribute in the same trace, simply use\n            `%{meta[i]}` where `i` is the index or key of the\n            `meta` item in question. To access trace `meta` in\n            layout attributes, use `%{data[n[.meta[i]}` where `i`\n            is the index or key of the `meta` and `n` is the trace\n            index.\n        metasrc\n            Sets the source reference on Chart Studio Cloud for\n            `meta`.\n        name\n            Sets the trace name. The trace name appear as the\n            legend item and on hover.\n        offset\n            Shifts the position where the bar is drawn (in position\n            axis units). In \"group\" barmode, traces that set\n            \"offset\" will be excluded and drawn in \"overlay\" mode\n            instead.\n        offsetgroup\n            Set several traces linked to the same position axis or\n            matching axes to the same offsetgroup where bars of the\n            same position coordinate will line up.\n        offsetsrc\n            Sets the source reference on Chart Studio Cloud for\n            `offset`.\n        opacity\n            Sets the opacity of the trace.\n        orientation\n            Sets the orientation of the bars. With \"v\" (\"h\"), the\n            value of the each bar spans along the vertical\n            (horizontal).\n        outsidetextfont\n            Sets the font used for `text` lying outside the bar.\n        selected\n            :class:`plotly.graph_objects.bar.Selected` instance or\n            dict with compatible properties\n        selectedpoints\n            Array containing integer indices of selected points.\n            Has an effect only for traces that support selections.\n            Note that an empty array means an empty selection where\n            the `unselected` are turned on for all points, whereas,\n            any other non-array values means no selection all where\n            the `selected` and `unselected` styles have no effect.\n        showlegend\n            Determines whether or not an item corresponding to this\n            trace is shown in the legend.\n        stream\n            :class:`plotly.graph_objects.bar.Stream` instance or\n            dict with compatible properties\n        text\n            Sets text elements associated with each (x,y) pair. If\n            a single string, the same string appears over all the\n            data points. If an array of string, the items are\n            mapped in order to the this trace's (x,y) coordinates.\n            If trace `hoverinfo` contains a \"text\" flag and\n            \"hovertext\" is not set, these elements will be seen in\n            the hover labels.\n        textangle\n            Sets the angle of the tick labels with respect to the\n            bar. For example, a `tickangle` of -90 draws the tick\n            labels vertically. With \"auto\" the texts may\n            automatically be rotated to fit with the maximum size\n            in bars.\n        textfont\n            Sets the font used for `text`.\n        textposition\n            Specifies the location of the `text`. \"inside\"\n            positions `text` inside, next to the bar end (rotated\n            and scaled if needed). \"outside\" positions `text`\n            outside, next to the bar end (scaled if needed), unless\n            there is another bar stacked on this one, then the text\n            gets pushed inside. \"auto\" tries to position `text`\n            inside the bar, but if the bar is too small and no bar\n            is stacked on this one the text is moved outside. If\n            \"none\", no text appears.\n        textpositionsrc\n            Sets the source reference on Chart Studio Cloud for\n            `textposition`.\n        textsrc\n            Sets the source reference on Chart Studio Cloud for\n            `text`.\n        texttemplate\n            Template string used for rendering the information text\n            that appear on points. Note that this will override\n            `textinfo`. Variables are inserted using %{variable},\n            for example \"y: %{y}\". Numbers are formatted using\n            d3-format's syntax %{variable:d3-format}, for example\n            \"Price: %{y:$.2f}\".\n            https://github.com/d3/d3-format/tree/v1.4.5#d3-format\n            for details on the formatting syntax. Dates are\n            formatted using d3-time-format's syntax\n            %{variable|d3-time-format}, for example \"Day:\n            %{2019-01-01|%A}\". https://github.com/d3/d3-time-\n            format/tree/v2.2.3#locale_format for details on the\n            date formatting syntax. Every attributes that can be\n            specified per-point (the ones that are `arrayOk: true`)\n            are available. variables `value` and `label`.\n        texttemplatesrc\n            Sets the source reference on Chart Studio Cloud for\n            `texttemplate`.\n        uid\n            Assign an id to this trace, Use this to provide object\n            constancy between traces during animations and\n            transitions.\n        uirevision\n            Controls persistence of some user-driven changes to the\n            trace: `constraintrange` in `parcoords` traces, as well\n            as some `editable: true` modifications such as `name`\n            and `colorbar.title`. Defaults to `layout.uirevision`.\n            Note that other user-driven trace attribute changes are\n            controlled by `layout` attributes: `trace.visible` is\n            controlled by `layout.legend.uirevision`,\n            `selectedpoints` is controlled by\n            `layout.selectionrevision`, and `colorbar.(x|y)`\n            (accessible with `config: {editable: true}`) is\n            controlled by `layout.editrevision`. Trace changes are\n            tracked by `uid`, which only falls back on trace index\n            if no `uid` is provided. So if your app can add/remove\n            traces before the end of the `data` array, such that\n            the same trace has a different index, you can still\n            preserve user-driven changes if you give each trace a\n            `uid` that stays with it as it moves.\n        unselected\n            :class:`plotly.graph_objects.bar.Unselected` instance\n            or dict with compatible properties\n        visible\n            Determines whether or not this trace is visible. If\n            \"legendonly\", the trace is not drawn, but can appear as\n            a legend item (provided that the legend itself is\n            visible).\n        width\n            Sets the bar width (in position axis units).\n        widthsrc\n            Sets the source reference on Chart Studio Cloud for\n            `width`.\n        x\n            Sets the x coordinates.\n        x0\n            Alternate to `x`. Builds a linear space of x\n            coordinates. Use with `dx` where `x0` is the starting\n            coordinate and `dx` the step.\n        xaxis\n            Sets a reference between this trace's x coordinates and\n            a 2D cartesian x axis. If \"x\" (the default value), the\n            x coordinates refer to `layout.xaxis`. If \"x2\", the x\n            coordinates refer to `layout.xaxis2`, and so on.\n        xcalendar\n            Sets the calendar system to use with `x` date data.\n        xhoverformat\n            Sets the hover text formatting rulefor `x`  using d3\n            formatting mini-languages which are very similar to\n            those in Python. For numbers, see:\n            https://github.com/d3/d3-format/tree/v1.4.5#d3-format.\n            And for dates see: https://github.com/d3/d3-time-\n            format/tree/v2.2.3#locale_format. We add two items to\n            d3's date formatter: \"%h\" for half of the year as a\n            decimal number as well as \"%{n}f\" for fractional\n            seconds with n digits. For example, *2016-10-13\n            09:15:23.456* with tickformat \"%H~%M~%S.%2f\" would\n            display *09~15~23.46*By default the values are\n            formatted using `xaxis.hoverformat`.\n        xperiod\n            Only relevant when the axis `type` is \"date\". Sets the\n            period positioning in milliseconds or \"M<n>\" on the x\n            axis. Special values in the form of \"M<n>\" could be\n            used to declare the number of months. In this case `n`\n            must be a positive integer.\n        xperiod0\n            Only relevant when the axis `type` is \"date\". Sets the\n            base for period positioning in milliseconds or date\n            string on the x0 axis. When `x0period` is round number\n            of weeks, the `x0period0` by default would be on a\n            Sunday i.e. 2000-01-02, otherwise it would be at\n            2000-01-01.\n        xperiodalignment\n            Only relevant when the axis `type` is \"date\". Sets the\n            alignment of data points on the x axis.\n        xsrc\n            Sets the source reference on Chart Studio Cloud for\n            `x`.\n        y\n            Sets the y coordinates.\n        y0\n            Alternate to `y`. Builds a linear space of y\n            coordinates. Use with `dy` where `y0` is the starting\n            coordinate and `dy` the step.\n        yaxis\n            Sets a reference between this trace's y coordinates and\n            a 2D cartesian y axis. If \"y\" (the default value), the\n            y coordinates refer to `layout.yaxis`. If \"y2\", the y\n            coordinates refer to `layout.yaxis2`, and so on.\n        ycalendar\n            Sets the calendar system to use with `y` date data.\n        yhoverformat\n            Sets the hover text formatting rulefor `y`  using d3\n            formatting mini-languages which are very similar to\n            those in Python. For numbers, see:\n            https://github.com/d3/d3-format/tree/v1.4.5#d3-format.\n            And for dates see: https://github.com/d3/d3-time-\n            format/tree/v2.2.3#locale_format. We add two items to\n            d3's date formatter: \"%h\" for half of the year as a\n            decimal number as well as \"%{n}f\" for fractional\n            seconds with n digits. For example, *2016-10-13\n            09:15:23.456* with tickformat \"%H~%M~%S.%2f\" would\n            display *09~15~23.46*By default the values are\n            formatted using `yaxis.hoverformat`.\n        yperiod\n            Only relevant when the axis `type` is \"date\". Sets the\n            period positioning in milliseconds or \"M<n>\" on the y\n            axis. Special values in the form of \"M<n>\" could be\n            used to declare the number of months. In this case `n`\n            must be a positive integer.\n        yperiod0\n            Only relevant when the axis `type` is \"date\". Sets the\n            base for period positioning in milliseconds or date\n            string on the y0 axis. When `y0period` is round number\n            of weeks, the `y0period0` by default would be on a\n            Sunday i.e. 2000-01-02, otherwise it would be at\n            2000-01-01.\n        yperiodalignment\n            Only relevant when the axis `type` is \"date\". Sets the\n            alignment of data points on the y axis.\n        ysrc\n            Sets the source reference on Chart Studio Cloud for\n            `y`.\n        \nDid you mean \"base\"?\n\nBad property path:\nhue\n^^^",
     "output_type": "error",
     "traceback": [
      "\u001b[1;31m---------------------------------------------------------------------------\u001b[0m",
      "\u001b[1;31mValueError\u001b[0m                                Traceback (most recent call last)",
      "Cell \u001b[1;32mIn [322], line 1\u001b[0m\n\u001b[1;32m----> 1\u001b[0m go\u001b[39m.\u001b[39mBar(x\u001b[39m=\u001b[39mdt1_ages_month_price[\u001b[39m'\u001b[39m\u001b[39m주문월\u001b[39m\u001b[39m'\u001b[39m], y \u001b[39m=\u001b[39m dt1_ages_month_price[\u001b[39m'\u001b[39m\u001b[39m상품구매금액\u001b[39m\u001b[39m'\u001b[39m], hue \u001b[39m=\u001b[39m dt1_ages_month_price[\u001b[39m'\u001b[39m\u001b[39m나이대\u001b[39m\u001b[39m'\u001b[39m])\n",
      "File \u001b[1;32m~\\AppData\\Roaming\\Python\\Python310\\site-packages\\plotly\\graph_objs\\_bar.py:3285\u001b[0m, in \u001b[0;36mBar.__init__\u001b[1;34m(self, arg, alignmentgroup, base, basesrc, cliponaxis, constraintext, customdata, customdatasrc, dx, dy, error_x, error_y, hoverinfo, hoverinfosrc, hoverlabel, hovertemplate, hovertemplatesrc, hovertext, hovertextsrc, ids, idssrc, insidetextanchor, insidetextfont, legendgroup, legendgrouptitle, legendrank, legendwidth, marker, meta, metasrc, name, offset, offsetgroup, offsetsrc, opacity, orientation, outsidetextfont, selected, selectedpoints, showlegend, stream, text, textangle, textfont, textposition, textpositionsrc, textsrc, texttemplate, texttemplatesrc, uid, uirevision, unselected, visible, width, widthsrc, x, x0, xaxis, xcalendar, xhoverformat, xperiod, xperiod0, xperiodalignment, xsrc, y, y0, yaxis, ycalendar, yhoverformat, yperiod, yperiod0, yperiodalignment, ysrc, **kwargs)\u001b[0m\n\u001b[0;32m   3281\u001b[0m arg\u001b[39m.\u001b[39mpop(\u001b[39m\"\u001b[39m\u001b[39mtype\u001b[39m\u001b[39m\"\u001b[39m, \u001b[39mNone\u001b[39;00m)\n\u001b[0;32m   3283\u001b[0m \u001b[39m# Process unknown kwargs\u001b[39;00m\n\u001b[0;32m   3284\u001b[0m \u001b[39m# ----------------------\u001b[39;00m\n\u001b[1;32m-> 3285\u001b[0m \u001b[39mself\u001b[39m\u001b[39m.\u001b[39m_process_kwargs(\u001b[39m*\u001b[39m\u001b[39m*\u001b[39m\u001b[39mdict\u001b[39m(arg, \u001b[39m*\u001b[39m\u001b[39m*\u001b[39mkwargs))\n\u001b[0;32m   3287\u001b[0m \u001b[39m# Reset skip_invalid\u001b[39;00m\n\u001b[0;32m   3288\u001b[0m \u001b[39m# ------------------\u001b[39;00m\n\u001b[0;32m   3289\u001b[0m \u001b[39mself\u001b[39m\u001b[39m.\u001b[39m_skip_invalid \u001b[39m=\u001b[39m \u001b[39mFalse\u001b[39;00m\n",
      "File \u001b[1;32m~\\AppData\\Roaming\\Python\\Python310\\site-packages\\plotly\\basedatatypes.py:4377\u001b[0m, in \u001b[0;36mBasePlotlyType._process_kwargs\u001b[1;34m(self, **kwargs)\u001b[0m\n\u001b[0;32m   4375\u001b[0m     \u001b[39mself\u001b[39m[k] \u001b[39m=\u001b[39m v\n\u001b[0;32m   4376\u001b[0m \u001b[39melif\u001b[39;00m \u001b[39mnot\u001b[39;00m \u001b[39mself\u001b[39m\u001b[39m.\u001b[39m_skip_invalid:\n\u001b[1;32m-> 4377\u001b[0m     \u001b[39mraise\u001b[39;00m err\n",
      "\u001b[1;31mValueError\u001b[0m: Invalid property specified for object of type plotly.graph_objs.Bar: 'hue'\n\nDid you mean \"base\"?\n\n    Valid properties:\n        alignmentgroup\n            Set several traces linked to the same position axis or\n            matching axes to the same alignmentgroup. This controls\n            whether bars compute their positional range dependently\n            or independently.\n        base\n            Sets where the bar base is drawn (in position axis\n            units). In \"stack\" or \"relative\" barmode, traces that\n            set \"base\" will be excluded and drawn in \"overlay\" mode\n            instead.\n        basesrc\n            Sets the source reference on Chart Studio Cloud for\n            `base`.\n        cliponaxis\n            Determines whether the text nodes are clipped about the\n            subplot axes. To show the text nodes above axis lines\n            and tick labels, make sure to set `xaxis.layer` and\n            `yaxis.layer` to *below traces*.\n        constraintext\n            Constrain the size of text inside or outside a bar to\n            be no larger than the bar itself.\n        customdata\n            Assigns extra data each datum. This may be useful when\n            listening to hover, click and selection events. Note\n            that, \"scatter\" traces also appends customdata items in\n            the markers DOM elements\n        customdatasrc\n            Sets the source reference on Chart Studio Cloud for\n            `customdata`.\n        dx\n            Sets the x coordinate step. See `x0` for more info.\n        dy\n            Sets the y coordinate step. See `y0` for more info.\n        error_x\n            :class:`plotly.graph_objects.bar.ErrorX` instance or\n            dict with compatible properties\n        error_y\n            :class:`plotly.graph_objects.bar.ErrorY` instance or\n            dict with compatible properties\n        hoverinfo\n            Determines which trace information appear on hover. If\n            `none` or `skip` are set, no information is displayed\n            upon hovering. But, if `none` is set, click and hover\n            events are still fired.\n        hoverinfosrc\n            Sets the source reference on Chart Studio Cloud for\n            `hoverinfo`.\n        hoverlabel\n            :class:`plotly.graph_objects.bar.Hoverlabel` instance\n            or dict with compatible properties\n        hovertemplate\n            Template string used for rendering the information that\n            appear on hover box. Note that this will override\n            `hoverinfo`. Variables are inserted using %{variable},\n            for example \"y: %{y}\" as well as %{xother}, {%_xother},\n            {%_xother_}, {%xother_}. When showing info for several\n            points, \"xother\" will be added to those with different\n            x positions from the first point. An underscore before\n            or after \"(x|y)other\" will add a space on that side,\n            only when this field is shown. Numbers are formatted\n            using d3-format's syntax %{variable:d3-format}, for\n            example \"Price: %{y:$.2f}\".\n            https://github.com/d3/d3-format/tree/v1.4.5#d3-format\n            for details on the formatting syntax. Dates are\n            formatted using d3-time-format's syntax\n            %{variable|d3-time-format}, for example \"Day:\n            %{2019-01-01|%A}\". https://github.com/d3/d3-time-\n            format/tree/v2.2.3#locale_format for details on the\n            date formatting syntax. The variables available in\n            `hovertemplate` are the ones emitted as event data\n            described at this link\n            https://plotly.com/javascript/plotlyjs-events/#event-\n            data. Additionally, every attributes that can be\n            specified per-point (the ones that are `arrayOk: true`)\n            are available. variables `value` and `label`. Anything\n            contained in tag `<extra>` is displayed in the\n            secondary box, for example\n            \"<extra>{fullData.name}</extra>\". To hide the secondary\n            box completely, use an empty tag `<extra></extra>`.\n        hovertemplatesrc\n            Sets the source reference on Chart Studio Cloud for\n            `hovertemplate`.\n        hovertext\n            Sets hover text elements associated with each (x,y)\n            pair. If a single string, the same string appears over\n            all the data points. If an array of string, the items\n            are mapped in order to the this trace's (x,y)\n            coordinates. To be seen, trace `hoverinfo` must contain\n            a \"text\" flag.\n        hovertextsrc\n            Sets the source reference on Chart Studio Cloud for\n            `hovertext`.\n        ids\n            Assigns id labels to each datum. These ids for object\n            constancy of data points during animation. Should be an\n            array of strings, not numbers or any other type.\n        idssrc\n            Sets the source reference on Chart Studio Cloud for\n            `ids`.\n        insidetextanchor\n            Determines if texts are kept at center or start/end\n            points in `textposition` \"inside\" mode.\n        insidetextfont\n            Sets the font used for `text` lying inside the bar.\n        legendgroup\n            Sets the legend group for this trace. Traces part of\n            the same legend group hide/show at the same time when\n            toggling legend items.\n        legendgrouptitle\n            :class:`plotly.graph_objects.bar.Legendgrouptitle`\n            instance or dict with compatible properties\n        legendrank\n            Sets the legend rank for this trace. Items and groups\n            with smaller ranks are presented on top/left side while\n            with `*reversed* `legend.traceorder` they are on\n            bottom/right side. The default legendrank is 1000, so\n            that you can use ranks less than 1000 to place certain\n            items before all unranked items, and ranks greater than\n            1000 to go after all unranked items.\n        legendwidth\n            Sets the width (in px or fraction) of the legend for\n            this trace.\n        marker\n            :class:`plotly.graph_objects.bar.Marker` instance or\n            dict with compatible properties\n        meta\n            Assigns extra meta information associated with this\n            trace that can be used in various text attributes.\n            Attributes such as trace `name`, graph, axis and\n            colorbar `title.text`, annotation `text`\n            `rangeselector`, `updatemenues` and `sliders` `label`\n            text all support `meta`. To access the trace `meta`\n            values in an attribute in the same trace, simply use\n            `%{meta[i]}` where `i` is the index or key of the\n            `meta` item in question. To access trace `meta` in\n            layout attributes, use `%{data[n[.meta[i]}` where `i`\n            is the index or key of the `meta` and `n` is the trace\n            index.\n        metasrc\n            Sets the source reference on Chart Studio Cloud for\n            `meta`.\n        name\n            Sets the trace name. The trace name appear as the\n            legend item and on hover.\n        offset\n            Shifts the position where the bar is drawn (in position\n            axis units). In \"group\" barmode, traces that set\n            \"offset\" will be excluded and drawn in \"overlay\" mode\n            instead.\n        offsetgroup\n            Set several traces linked to the same position axis or\n            matching axes to the same offsetgroup where bars of the\n            same position coordinate will line up.\n        offsetsrc\n            Sets the source reference on Chart Studio Cloud for\n            `offset`.\n        opacity\n            Sets the opacity of the trace.\n        orientation\n            Sets the orientation of the bars. With \"v\" (\"h\"), the\n            value of the each bar spans along the vertical\n            (horizontal).\n        outsidetextfont\n            Sets the font used for `text` lying outside the bar.\n        selected\n            :class:`plotly.graph_objects.bar.Selected` instance or\n            dict with compatible properties\n        selectedpoints\n            Array containing integer indices of selected points.\n            Has an effect only for traces that support selections.\n            Note that an empty array means an empty selection where\n            the `unselected` are turned on for all points, whereas,\n            any other non-array values means no selection all where\n            the `selected` and `unselected` styles have no effect.\n        showlegend\n            Determines whether or not an item corresponding to this\n            trace is shown in the legend.\n        stream\n            :class:`plotly.graph_objects.bar.Stream` instance or\n            dict with compatible properties\n        text\n            Sets text elements associated with each (x,y) pair. If\n            a single string, the same string appears over all the\n            data points. If an array of string, the items are\n            mapped in order to the this trace's (x,y) coordinates.\n            If trace `hoverinfo` contains a \"text\" flag and\n            \"hovertext\" is not set, these elements will be seen in\n            the hover labels.\n        textangle\n            Sets the angle of the tick labels with respect to the\n            bar. For example, a `tickangle` of -90 draws the tick\n            labels vertically. With \"auto\" the texts may\n            automatically be rotated to fit with the maximum size\n            in bars.\n        textfont\n            Sets the font used for `text`.\n        textposition\n            Specifies the location of the `text`. \"inside\"\n            positions `text` inside, next to the bar end (rotated\n            and scaled if needed). \"outside\" positions `text`\n            outside, next to the bar end (scaled if needed), unless\n            there is another bar stacked on this one, then the text\n            gets pushed inside. \"auto\" tries to position `text`\n            inside the bar, but if the bar is too small and no bar\n            is stacked on this one the text is moved outside. If\n            \"none\", no text appears.\n        textpositionsrc\n            Sets the source reference on Chart Studio Cloud for\n            `textposition`.\n        textsrc\n            Sets the source reference on Chart Studio Cloud for\n            `text`.\n        texttemplate\n            Template string used for rendering the information text\n            that appear on points. Note that this will override\n            `textinfo`. Variables are inserted using %{variable},\n            for example \"y: %{y}\". Numbers are formatted using\n            d3-format's syntax %{variable:d3-format}, for example\n            \"Price: %{y:$.2f}\".\n            https://github.com/d3/d3-format/tree/v1.4.5#d3-format\n            for details on the formatting syntax. Dates are\n            formatted using d3-time-format's syntax\n            %{variable|d3-time-format}, for example \"Day:\n            %{2019-01-01|%A}\". https://github.com/d3/d3-time-\n            format/tree/v2.2.3#locale_format for details on the\n            date formatting syntax. Every attributes that can be\n            specified per-point (the ones that are `arrayOk: true`)\n            are available. variables `value` and `label`.\n        texttemplatesrc\n            Sets the source reference on Chart Studio Cloud for\n            `texttemplate`.\n        uid\n            Assign an id to this trace, Use this to provide object\n            constancy between traces during animations and\n            transitions.\n        uirevision\n            Controls persistence of some user-driven changes to the\n            trace: `constraintrange` in `parcoords` traces, as well\n            as some `editable: true` modifications such as `name`\n            and `colorbar.title`. Defaults to `layout.uirevision`.\n            Note that other user-driven trace attribute changes are\n            controlled by `layout` attributes: `trace.visible` is\n            controlled by `layout.legend.uirevision`,\n            `selectedpoints` is controlled by\n            `layout.selectionrevision`, and `colorbar.(x|y)`\n            (accessible with `config: {editable: true}`) is\n            controlled by `layout.editrevision`. Trace changes are\n            tracked by `uid`, which only falls back on trace index\n            if no `uid` is provided. So if your app can add/remove\n            traces before the end of the `data` array, such that\n            the same trace has a different index, you can still\n            preserve user-driven changes if you give each trace a\n            `uid` that stays with it as it moves.\n        unselected\n            :class:`plotly.graph_objects.bar.Unselected` instance\n            or dict with compatible properties\n        visible\n            Determines whether or not this trace is visible. If\n            \"legendonly\", the trace is not drawn, but can appear as\n            a legend item (provided that the legend itself is\n            visible).\n        width\n            Sets the bar width (in position axis units).\n        widthsrc\n            Sets the source reference on Chart Studio Cloud for\n            `width`.\n        x\n            Sets the x coordinates.\n        x0\n            Alternate to `x`. Builds a linear space of x\n            coordinates. Use with `dx` where `x0` is the starting\n            coordinate and `dx` the step.\n        xaxis\n            Sets a reference between this trace's x coordinates and\n            a 2D cartesian x axis. If \"x\" (the default value), the\n            x coordinates refer to `layout.xaxis`. If \"x2\", the x\n            coordinates refer to `layout.xaxis2`, and so on.\n        xcalendar\n            Sets the calendar system to use with `x` date data.\n        xhoverformat\n            Sets the hover text formatting rulefor `x`  using d3\n            formatting mini-languages which are very similar to\n            those in Python. For numbers, see:\n            https://github.com/d3/d3-format/tree/v1.4.5#d3-format.\n            And for dates see: https://github.com/d3/d3-time-\n            format/tree/v2.2.3#locale_format. We add two items to\n            d3's date formatter: \"%h\" for half of the year as a\n            decimal number as well as \"%{n}f\" for fractional\n            seconds with n digits. For example, *2016-10-13\n            09:15:23.456* with tickformat \"%H~%M~%S.%2f\" would\n            display *09~15~23.46*By default the values are\n            formatted using `xaxis.hoverformat`.\n        xperiod\n            Only relevant when the axis `type` is \"date\". Sets the\n            period positioning in milliseconds or \"M<n>\" on the x\n            axis. Special values in the form of \"M<n>\" could be\n            used to declare the number of months. In this case `n`\n            must be a positive integer.\n        xperiod0\n            Only relevant when the axis `type` is \"date\". Sets the\n            base for period positioning in milliseconds or date\n            string on the x0 axis. When `x0period` is round number\n            of weeks, the `x0period0` by default would be on a\n            Sunday i.e. 2000-01-02, otherwise it would be at\n            2000-01-01.\n        xperiodalignment\n            Only relevant when the axis `type` is \"date\". Sets the\n            alignment of data points on the x axis.\n        xsrc\n            Sets the source reference on Chart Studio Cloud for\n            `x`.\n        y\n            Sets the y coordinates.\n        y0\n            Alternate to `y`. Builds a linear space of y\n            coordinates. Use with `dy` where `y0` is the starting\n            coordinate and `dy` the step.\n        yaxis\n            Sets a reference between this trace's y coordinates and\n            a 2D cartesian y axis. If \"y\" (the default value), the\n            y coordinates refer to `layout.yaxis`. If \"y2\", the y\n            coordinates refer to `layout.yaxis2`, and so on.\n        ycalendar\n            Sets the calendar system to use with `y` date data.\n        yhoverformat\n            Sets the hover text formatting rulefor `y`  using d3\n            formatting mini-languages which are very similar to\n            those in Python. For numbers, see:\n            https://github.com/d3/d3-format/tree/v1.4.5#d3-format.\n            And for dates see: https://github.com/d3/d3-time-\n            format/tree/v2.2.3#locale_format. We add two items to\n            d3's date formatter: \"%h\" for half of the year as a\n            decimal number as well as \"%{n}f\" for fractional\n            seconds with n digits. For example, *2016-10-13\n            09:15:23.456* with tickformat \"%H~%M~%S.%2f\" would\n            display *09~15~23.46*By default the values are\n            formatted using `yaxis.hoverformat`.\n        yperiod\n            Only relevant when the axis `type` is \"date\". Sets the\n            period positioning in milliseconds or \"M<n>\" on the y\n            axis. Special values in the form of \"M<n>\" could be\n            used to declare the number of months. In this case `n`\n            must be a positive integer.\n        yperiod0\n            Only relevant when the axis `type` is \"date\". Sets the\n            base for period positioning in milliseconds or date\n            string on the y0 axis. When `y0period` is round number\n            of weeks, the `y0period0` by default would be on a\n            Sunday i.e. 2000-01-02, otherwise it would be at\n            2000-01-01.\n        yperiodalignment\n            Only relevant when the axis `type` is \"date\". Sets the\n            alignment of data points on the y axis.\n        ysrc\n            Sets the source reference on Chart Studio Cloud for\n            `y`.\n        \nDid you mean \"base\"?\n\nBad property path:\nhue\n^^^"
     ]
    }
   ],
   "source": [
    "go.Bar(x=dt1_ages_month_price['주문월'], y = dt1_ages_month_price['상품구매금액'], hue = dt1_ages_month_price['나이대'])"
   ]
  }
 ],
 "metadata": {
  "kernelspec": {
   "display_name": "Python 3.10.7 64-bit",
   "language": "python",
   "name": "python3"
  },
  "language_info": {
   "codemirror_mode": {
    "name": "ipython",
    "version": 3
   },
   "file_extension": ".py",
   "mimetype": "text/x-python",
   "name": "python",
   "nbconvert_exporter": "python",
   "pygments_lexer": "ipython3",
   "version": "3.10.7"
  },
  "orig_nbformat": 4,
  "vscode": {
   "interpreter": {
    "hash": "26de051ba29f2982a8de78e945f0abaf191376122a1563185a90213a26c5da77"
   }
  }
 },
 "nbformat": 4,
 "nbformat_minor": 2
}
